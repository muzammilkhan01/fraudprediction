{
 "cells": [
  {
   "cell_type": "code",
   "execution_count": 22,
   "id": "9ae2d8f3",
   "metadata": {},
   "outputs": [],
   "source": [
    "import pandas as pd"
   ]
  },
  {
   "cell_type": "markdown",
   "id": "fadf6b80",
   "metadata": {},
   "source": [
    "### Reading the dataset"
   ]
  },
  {
   "cell_type": "code",
   "execution_count": 32,
   "id": "b20c00f7",
   "metadata": {},
   "outputs": [],
   "source": [
    "df = pd.read_csv('online_payment.csv')"
   ]
  },
  {
   "cell_type": "code",
   "execution_count": 33,
   "id": "35a0fc0d",
   "metadata": {},
   "outputs": [],
   "source": [
    "del df['nameOrig']"
   ]
  },
  {
   "cell_type": "code",
   "execution_count": 34,
   "id": "3f5a5a43",
   "metadata": {},
   "outputs": [],
   "source": [
    "del df['nameDest']"
   ]
  },
  {
   "cell_type": "code",
   "execution_count": 11,
   "id": "a8e487dd",
   "metadata": {},
   "outputs": [
    {
     "data": {
      "text/html": [
       "<div>\n",
       "<style scoped>\n",
       "    .dataframe tbody tr th:only-of-type {\n",
       "        vertical-align: middle;\n",
       "    }\n",
       "\n",
       "    .dataframe tbody tr th {\n",
       "        vertical-align: top;\n",
       "    }\n",
       "\n",
       "    .dataframe thead th {\n",
       "        text-align: right;\n",
       "    }\n",
       "</style>\n",
       "<table border=\"1\" class=\"dataframe\">\n",
       "  <thead>\n",
       "    <tr style=\"text-align: right;\">\n",
       "      <th></th>\n",
       "      <th>step</th>\n",
       "      <th>type</th>\n",
       "      <th>amount</th>\n",
       "      <th>oldbalanceOrg</th>\n",
       "      <th>newbalanceOrig</th>\n",
       "      <th>oldbalanceDest</th>\n",
       "      <th>newbalanceDest</th>\n",
       "      <th>isFraud</th>\n",
       "      <th>isFlaggedFraud</th>\n",
       "    </tr>\n",
       "  </thead>\n",
       "  <tbody>\n",
       "    <tr>\n",
       "      <th>6362600</th>\n",
       "      <td>22</td>\n",
       "      <td>TRANSFER</td>\n",
       "      <td>652993.91</td>\n",
       "      <td>652993.91</td>\n",
       "      <td>0.0</td>\n",
       "      <td>0.00</td>\n",
       "      <td>0.00</td>\n",
       "      <td>1</td>\n",
       "      <td>0</td>\n",
       "    </tr>\n",
       "    <tr>\n",
       "      <th>6362601</th>\n",
       "      <td>22</td>\n",
       "      <td>CASH_OUT</td>\n",
       "      <td>652993.91</td>\n",
       "      <td>652993.91</td>\n",
       "      <td>0.0</td>\n",
       "      <td>0.00</td>\n",
       "      <td>652993.91</td>\n",
       "      <td>1</td>\n",
       "      <td>0</td>\n",
       "    </tr>\n",
       "    <tr>\n",
       "      <th>6362602</th>\n",
       "      <td>22</td>\n",
       "      <td>TRANSFER</td>\n",
       "      <td>1819543.69</td>\n",
       "      <td>1819543.69</td>\n",
       "      <td>0.0</td>\n",
       "      <td>0.00</td>\n",
       "      <td>0.00</td>\n",
       "      <td>1</td>\n",
       "      <td>0</td>\n",
       "    </tr>\n",
       "    <tr>\n",
       "      <th>6362603</th>\n",
       "      <td>22</td>\n",
       "      <td>CASH_OUT</td>\n",
       "      <td>1819543.69</td>\n",
       "      <td>1819543.69</td>\n",
       "      <td>0.0</td>\n",
       "      <td>0.00</td>\n",
       "      <td>1819543.69</td>\n",
       "      <td>1</td>\n",
       "      <td>0</td>\n",
       "    </tr>\n",
       "    <tr>\n",
       "      <th>6362604</th>\n",
       "      <td>22</td>\n",
       "      <td>TRANSFER</td>\n",
       "      <td>54652.46</td>\n",
       "      <td>54652.46</td>\n",
       "      <td>0.0</td>\n",
       "      <td>0.00</td>\n",
       "      <td>0.00</td>\n",
       "      <td>1</td>\n",
       "      <td>0</td>\n",
       "    </tr>\n",
       "    <tr>\n",
       "      <th>6362605</th>\n",
       "      <td>22</td>\n",
       "      <td>CASH_OUT</td>\n",
       "      <td>54652.46</td>\n",
       "      <td>54652.46</td>\n",
       "      <td>0.0</td>\n",
       "      <td>0.00</td>\n",
       "      <td>54652.46</td>\n",
       "      <td>1</td>\n",
       "      <td>0</td>\n",
       "    </tr>\n",
       "    <tr>\n",
       "      <th>6362606</th>\n",
       "      <td>22</td>\n",
       "      <td>TRANSFER</td>\n",
       "      <td>303846.74</td>\n",
       "      <td>303846.74</td>\n",
       "      <td>0.0</td>\n",
       "      <td>0.00</td>\n",
       "      <td>0.00</td>\n",
       "      <td>1</td>\n",
       "      <td>0</td>\n",
       "    </tr>\n",
       "    <tr>\n",
       "      <th>6362607</th>\n",
       "      <td>22</td>\n",
       "      <td>CASH_OUT</td>\n",
       "      <td>303846.74</td>\n",
       "      <td>303846.74</td>\n",
       "      <td>0.0</td>\n",
       "      <td>343660.89</td>\n",
       "      <td>647507.63</td>\n",
       "      <td>1</td>\n",
       "      <td>0</td>\n",
       "    </tr>\n",
       "    <tr>\n",
       "      <th>6362608</th>\n",
       "      <td>22</td>\n",
       "      <td>TRANSFER</td>\n",
       "      <td>258355.42</td>\n",
       "      <td>258355.42</td>\n",
       "      <td>0.0</td>\n",
       "      <td>0.00</td>\n",
       "      <td>0.00</td>\n",
       "      <td>1</td>\n",
       "      <td>0</td>\n",
       "    </tr>\n",
       "    <tr>\n",
       "      <th>6362609</th>\n",
       "      <td>22</td>\n",
       "      <td>CASH_OUT</td>\n",
       "      <td>258355.42</td>\n",
       "      <td>258355.42</td>\n",
       "      <td>0.0</td>\n",
       "      <td>25176.67</td>\n",
       "      <td>283532.09</td>\n",
       "      <td>1</td>\n",
       "      <td>0</td>\n",
       "    </tr>\n",
       "    <tr>\n",
       "      <th>6362610</th>\n",
       "      <td>22</td>\n",
       "      <td>TRANSFER</td>\n",
       "      <td>63416.99</td>\n",
       "      <td>63416.99</td>\n",
       "      <td>0.0</td>\n",
       "      <td>0.00</td>\n",
       "      <td>0.00</td>\n",
       "      <td>1</td>\n",
       "      <td>0</td>\n",
       "    </tr>\n",
       "    <tr>\n",
       "      <th>6362611</th>\n",
       "      <td>22</td>\n",
       "      <td>CASH_OUT</td>\n",
       "      <td>63416.99</td>\n",
       "      <td>63416.99</td>\n",
       "      <td>0.0</td>\n",
       "      <td>276433.18</td>\n",
       "      <td>339850.17</td>\n",
       "      <td>1</td>\n",
       "      <td>0</td>\n",
       "    </tr>\n",
       "    <tr>\n",
       "      <th>6362612</th>\n",
       "      <td>23</td>\n",
       "      <td>TRANSFER</td>\n",
       "      <td>1258818.82</td>\n",
       "      <td>1258818.82</td>\n",
       "      <td>0.0</td>\n",
       "      <td>0.00</td>\n",
       "      <td>0.00</td>\n",
       "      <td>1</td>\n",
       "      <td>0</td>\n",
       "    </tr>\n",
       "    <tr>\n",
       "      <th>6362613</th>\n",
       "      <td>23</td>\n",
       "      <td>CASH_OUT</td>\n",
       "      <td>1258818.82</td>\n",
       "      <td>1258818.82</td>\n",
       "      <td>0.0</td>\n",
       "      <td>503464.50</td>\n",
       "      <td>1762283.33</td>\n",
       "      <td>1</td>\n",
       "      <td>0</td>\n",
       "    </tr>\n",
       "    <tr>\n",
       "      <th>6362614</th>\n",
       "      <td>23</td>\n",
       "      <td>TRANSFER</td>\n",
       "      <td>339682.13</td>\n",
       "      <td>339682.13</td>\n",
       "      <td>0.0</td>\n",
       "      <td>0.00</td>\n",
       "      <td>0.00</td>\n",
       "      <td>1</td>\n",
       "      <td>0</td>\n",
       "    </tr>\n",
       "    <tr>\n",
       "      <th>6362615</th>\n",
       "      <td>23</td>\n",
       "      <td>CASH_OUT</td>\n",
       "      <td>339682.13</td>\n",
       "      <td>339682.13</td>\n",
       "      <td>0.0</td>\n",
       "      <td>0.00</td>\n",
       "      <td>339682.13</td>\n",
       "      <td>1</td>\n",
       "      <td>0</td>\n",
       "    </tr>\n",
       "    <tr>\n",
       "      <th>6362616</th>\n",
       "      <td>23</td>\n",
       "      <td>TRANSFER</td>\n",
       "      <td>6311409.28</td>\n",
       "      <td>6311409.28</td>\n",
       "      <td>0.0</td>\n",
       "      <td>0.00</td>\n",
       "      <td>0.00</td>\n",
       "      <td>1</td>\n",
       "      <td>0</td>\n",
       "    </tr>\n",
       "    <tr>\n",
       "      <th>6362617</th>\n",
       "      <td>23</td>\n",
       "      <td>CASH_OUT</td>\n",
       "      <td>6311409.28</td>\n",
       "      <td>6311409.28</td>\n",
       "      <td>0.0</td>\n",
       "      <td>68488.84</td>\n",
       "      <td>6379898.11</td>\n",
       "      <td>1</td>\n",
       "      <td>0</td>\n",
       "    </tr>\n",
       "    <tr>\n",
       "      <th>6362618</th>\n",
       "      <td>23</td>\n",
       "      <td>TRANSFER</td>\n",
       "      <td>850002.52</td>\n",
       "      <td>850002.52</td>\n",
       "      <td>0.0</td>\n",
       "      <td>0.00</td>\n",
       "      <td>0.00</td>\n",
       "      <td>1</td>\n",
       "      <td>0</td>\n",
       "    </tr>\n",
       "    <tr>\n",
       "      <th>6362619</th>\n",
       "      <td>23</td>\n",
       "      <td>CASH_OUT</td>\n",
       "      <td>850002.52</td>\n",
       "      <td>850002.52</td>\n",
       "      <td>0.0</td>\n",
       "      <td>6510099.11</td>\n",
       "      <td>7360101.63</td>\n",
       "      <td>1</td>\n",
       "      <td>0</td>\n",
       "    </tr>\n",
       "  </tbody>\n",
       "</table>\n",
       "</div>"
      ],
      "text/plain": [
       "         step      type      amount  oldbalanceOrg  newbalanceOrig  \\\n",
       "6362600    22  TRANSFER   652993.91      652993.91             0.0   \n",
       "6362601    22  CASH_OUT   652993.91      652993.91             0.0   \n",
       "6362602    22  TRANSFER  1819543.69     1819543.69             0.0   \n",
       "6362603    22  CASH_OUT  1819543.69     1819543.69             0.0   \n",
       "6362604    22  TRANSFER    54652.46       54652.46             0.0   \n",
       "6362605    22  CASH_OUT    54652.46       54652.46             0.0   \n",
       "6362606    22  TRANSFER   303846.74      303846.74             0.0   \n",
       "6362607    22  CASH_OUT   303846.74      303846.74             0.0   \n",
       "6362608    22  TRANSFER   258355.42      258355.42             0.0   \n",
       "6362609    22  CASH_OUT   258355.42      258355.42             0.0   \n",
       "6362610    22  TRANSFER    63416.99       63416.99             0.0   \n",
       "6362611    22  CASH_OUT    63416.99       63416.99             0.0   \n",
       "6362612    23  TRANSFER  1258818.82     1258818.82             0.0   \n",
       "6362613    23  CASH_OUT  1258818.82     1258818.82             0.0   \n",
       "6362614    23  TRANSFER   339682.13      339682.13             0.0   \n",
       "6362615    23  CASH_OUT   339682.13      339682.13             0.0   \n",
       "6362616    23  TRANSFER  6311409.28     6311409.28             0.0   \n",
       "6362617    23  CASH_OUT  6311409.28     6311409.28             0.0   \n",
       "6362618    23  TRANSFER   850002.52      850002.52             0.0   \n",
       "6362619    23  CASH_OUT   850002.52      850002.52             0.0   \n",
       "\n",
       "         oldbalanceDest  newbalanceDest  isFraud  isFlaggedFraud  \n",
       "6362600            0.00            0.00        1               0  \n",
       "6362601            0.00       652993.91        1               0  \n",
       "6362602            0.00            0.00        1               0  \n",
       "6362603            0.00      1819543.69        1               0  \n",
       "6362604            0.00            0.00        1               0  \n",
       "6362605            0.00        54652.46        1               0  \n",
       "6362606            0.00            0.00        1               0  \n",
       "6362607       343660.89       647507.63        1               0  \n",
       "6362608            0.00            0.00        1               0  \n",
       "6362609        25176.67       283532.09        1               0  \n",
       "6362610            0.00            0.00        1               0  \n",
       "6362611       276433.18       339850.17        1               0  \n",
       "6362612            0.00            0.00        1               0  \n",
       "6362613       503464.50      1762283.33        1               0  \n",
       "6362614            0.00            0.00        1               0  \n",
       "6362615            0.00       339682.13        1               0  \n",
       "6362616            0.00            0.00        1               0  \n",
       "6362617        68488.84      6379898.11        1               0  \n",
       "6362618            0.00            0.00        1               0  \n",
       "6362619      6510099.11      7360101.63        1               0  "
      ]
     },
     "execution_count": 11,
     "metadata": {},
     "output_type": "execute_result"
    }
   ],
   "source": [
    "df.tail(20)"
   ]
  },
  {
   "cell_type": "markdown",
   "id": "2deec63e",
   "metadata": {},
   "source": [
    "## Checking for imbalance of data"
   ]
  },
  {
   "cell_type": "code",
   "execution_count": 14,
   "id": "b854aad0",
   "metadata": {},
   "outputs": [
    {
     "data": {
      "text/plain": [
       "0    6354407\n",
       "1       8213\n",
       "Name: isFraud, dtype: int64"
      ]
     },
     "execution_count": 14,
     "metadata": {},
     "output_type": "execute_result"
    }
   ],
   "source": [
    "df['isFraud'].value_counts()"
   ]
  },
  {
   "cell_type": "markdown",
   "id": "13f6e6d1",
   "metadata": {},
   "source": [
    "THIS DATA IS HEAVILY IMBALANCED"
   ]
  },
  {
   "cell_type": "code",
   "execution_count": 15,
   "id": "954a9ec4",
   "metadata": {},
   "outputs": [
    {
     "name": "stdout",
     "output_type": "stream",
     "text": [
      "<class 'pandas.core.frame.DataFrame'>\n",
      "RangeIndex: 6362620 entries, 0 to 6362619\n",
      "Data columns (total 11 columns):\n",
      " #   Column          Dtype  \n",
      "---  ------          -----  \n",
      " 0   step            int64  \n",
      " 1   type            object \n",
      " 2   amount          float64\n",
      " 3   nameOrig        object \n",
      " 4   oldbalanceOrg   float64\n",
      " 5   newbalanceOrig  float64\n",
      " 6   nameDest        object \n",
      " 7   oldbalanceDest  float64\n",
      " 8   newbalanceDest  float64\n",
      " 9   isFraud         int64  \n",
      " 10  isFlaggedFraud  int64  \n",
      "dtypes: float64(5), int64(3), object(3)\n",
      "memory usage: 534.0+ MB\n"
     ]
    }
   ],
   "source": [
    "df.info()"
   ]
  },
  {
   "cell_type": "markdown",
   "id": "49f54c4d",
   "metadata": {},
   "source": [
    "## Checking for null values"
   ]
  },
  {
   "cell_type": "code",
   "execution_count": 16,
   "id": "08ee0720",
   "metadata": {},
   "outputs": [
    {
     "data": {
      "text/plain": [
       "step              0\n",
       "type              0\n",
       "amount            0\n",
       "nameOrig          0\n",
       "oldbalanceOrg     0\n",
       "newbalanceOrig    0\n",
       "nameDest          0\n",
       "oldbalanceDest    0\n",
       "newbalanceDest    0\n",
       "isFraud           0\n",
       "isFlaggedFraud    0\n",
       "dtype: int64"
      ]
     },
     "execution_count": 16,
     "metadata": {},
     "output_type": "execute_result"
    }
   ],
   "source": [
    "df.isnull().sum()"
   ]
  },
  {
   "cell_type": "markdown",
   "id": "deac0846",
   "metadata": {},
   "source": [
    "## Checking for same value's being represented with different names"
   ]
  },
  {
   "cell_type": "code",
   "execution_count": 6,
   "id": "b9d0cb35",
   "metadata": {},
   "outputs": [],
   "source": [
    "def print_unique_col_values(df):\n",
    "       for column in df:\n",
    "            if df[column].dtypes=='object':\n",
    "                print(f'{column}: {df[column].unique()}')"
   ]
  },
  {
   "cell_type": "code",
   "execution_count": 7,
   "id": "e12a0f80",
   "metadata": {},
   "outputs": [
    {
     "name": "stdout",
     "output_type": "stream",
     "text": [
      "type: ['PAYMENT' 'TRANSFER' 'CASH_OUT' 'DEBIT' 'CASH_IN']\n",
      "nameOrig: ['C1231006815' 'C1666544295' 'C1305486145' ... 'C1162922333' 'C1685995037'\n",
      " 'C1280323807']\n",
      "nameDest: ['M1979787155' 'M2044282225' 'C553264065' ... 'C1850423904' 'C1881841831'\n",
      " 'C2080388513']\n"
     ]
    }
   ],
   "source": [
    "print_unique_col_values(df)"
   ]
  },
  {
   "cell_type": "markdown",
   "id": "ab9f3da3",
   "metadata": {},
   "source": [
    "No values are being represented with different names"
   ]
  },
  {
   "cell_type": "markdown",
   "id": "e1cb2225",
   "metadata": {},
   "source": [
    "# Data Visualisation"
   ]
  },
  {
   "cell_type": "markdown",
   "id": "9b15a1ae",
   "metadata": {},
   "source": [
    "### Visualising Number of Total Legitimate and Fraudulent Transactions using pie and barplot"
   ]
  },
  {
   "cell_type": "code",
   "execution_count": 27,
   "id": "d7eb63c9",
   "metadata": {},
   "outputs": [],
   "source": [
    "import matplotlib.pyplot as plt"
   ]
  },
  {
   "cell_type": "code",
   "execution_count": 28,
   "id": "9ef67563",
   "metadata": {},
   "outputs": [],
   "source": [
    "import seaborn as sns"
   ]
  },
  {
   "cell_type": "code",
   "execution_count": 29,
   "id": "0f16af0c",
   "metadata": {},
   "outputs": [
    {
     "data": {
      "text/plain": [
       "Text(0.5, 1.0, 'Pie Chart Depicting Ratio of Legit to Fraud')"
      ]
     },
     "execution_count": 29,
     "metadata": {},
     "output_type": "execute_result"
    },
    {
     "data": {
      "image/png": "[encoded data removed]",
      "text/plain": [
       "<Figure size 432x288 with 1 Axes>"
      ]
     },
     "metadata": {},
     "output_type": "display_data"
    }
   ],
   "source": [
    "df.isFraud.value_counts().plot(kind='pie')\n",
    "plt.title(\"Pie Chart Depicting Ratio of Legit to Fraud\")"
   ]
  },
  {
   "cell_type": "code",
   "execution_count": 30,
   "id": "4afa5012",
   "metadata": {},
   "outputs": [
    {
     "data": {
      "text/plain": [
       "Text(0, 0.5, 'Number of Transactions')"
      ]
     },
     "execution_count": 30,
     "metadata": {},
     "output_type": "execute_result"
    },
    {
     "data": {
      "image/png": "[encoded data removed]",
      "text/plain": [
       "<Figure size 432x288 with 1 Axes>"
      ]
     },
     "metadata": {
      "needs_background": "light"
     },
     "output_type": "display_data"
    }
   ],
   "source": [
    "df.isFraud.value_counts().plot(kind='bar')\n",
    "plt.title(\"Bar Graph Depicting Ratio of Legit to Fraud\")\n",
    "plt.xlabel(\"Type of Transaction\")\n",
    "plt.ylabel(\"Number of Transactions\")"
   ]
  },
  {
   "cell_type": "markdown",
   "id": "7208ab55",
   "metadata": {},
   "source": [
    "### Visualising the average transaction amount in legitimate and fraudulent transactions"
   ]
  },
  {
   "cell_type": "code",
   "execution_count": 31,
   "id": "16cdbba1",
   "metadata": {},
   "outputs": [
    {
     "data": {
      "text/plain": [
       "Text(0, 0.5, 'Amount')"
      ]
     },
     "execution_count": 31,
     "metadata": {},
     "output_type": "execute_result"
    },
    {
     "data": {
      "image/png": "[encoded data removed]",
      "text/plain": [
       "<Figure size 432x288 with 1 Axes>"
      ]
     },
     "metadata": {
      "needs_background": "light"
     },
     "output_type": "display_data"
    }
   ],
   "source": [
    "p=sns.barplot(x='isFraud',y='amount',data=df)\n",
    "p.set_title(\"Average Transaction Amounts\")\n",
    "p.set_xlabel(\"Type of Transaction\")\n",
    "p.set_ylabel(\"Amount\")"
   ]
  },
  {
   "cell_type": "markdown",
   "id": "f06b8b30",
   "metadata": {},
   "source": [
    "## CONVERTING STEP COUNT INTO 24 HOUR FORMAT TO BETTER VISUALISE IT"
   ]
  },
  {
   "cell_type": "code",
   "execution_count": 35,
   "id": "288d5d28",
   "metadata": {},
   "outputs": [],
   "source": [
    "sampledf = df.copy()"
   ]
  },
  {
   "cell_type": "code",
   "execution_count": 36,
   "id": "0934fcda",
   "metadata": {},
   "outputs": [
    {
     "data": {
      "text/html": [
       "<div>\n",
       "<style scoped>\n",
       "    .dataframe tbody tr th:only-of-type {\n",
       "        vertical-align: middle;\n",
       "    }\n",
       "\n",
       "    .dataframe tbody tr th {\n",
       "        vertical-align: top;\n",
       "    }\n",
       "\n",
       "    .dataframe thead th {\n",
       "        text-align: right;\n",
       "    }\n",
       "</style>\n",
       "<table border=\"1\" class=\"dataframe\">\n",
       "  <thead>\n",
       "    <tr style=\"text-align: right;\">\n",
       "      <th></th>\n",
       "      <th>step</th>\n",
       "      <th>type</th>\n",
       "      <th>amount</th>\n",
       "      <th>oldbalanceOrg</th>\n",
       "      <th>newbalanceOrig</th>\n",
       "      <th>oldbalanceDest</th>\n",
       "      <th>newbalanceDest</th>\n",
       "      <th>isFraud</th>\n",
       "      <th>isFlaggedFraud</th>\n",
       "    </tr>\n",
       "  </thead>\n",
       "  <tbody>\n",
       "    <tr>\n",
       "      <th>6362615</th>\n",
       "      <td>743</td>\n",
       "      <td>CASH_OUT</td>\n",
       "      <td>339682.13</td>\n",
       "      <td>339682.13</td>\n",
       "      <td>0.0</td>\n",
       "      <td>0.00</td>\n",
       "      <td>339682.13</td>\n",
       "      <td>1</td>\n",
       "      <td>0</td>\n",
       "    </tr>\n",
       "    <tr>\n",
       "      <th>6362616</th>\n",
       "      <td>743</td>\n",
       "      <td>TRANSFER</td>\n",
       "      <td>6311409.28</td>\n",
       "      <td>6311409.28</td>\n",
       "      <td>0.0</td>\n",
       "      <td>0.00</td>\n",
       "      <td>0.00</td>\n",
       "      <td>1</td>\n",
       "      <td>0</td>\n",
       "    </tr>\n",
       "    <tr>\n",
       "      <th>6362617</th>\n",
       "      <td>743</td>\n",
       "      <td>CASH_OUT</td>\n",
       "      <td>6311409.28</td>\n",
       "      <td>6311409.28</td>\n",
       "      <td>0.0</td>\n",
       "      <td>68488.84</td>\n",
       "      <td>6379898.11</td>\n",
       "      <td>1</td>\n",
       "      <td>0</td>\n",
       "    </tr>\n",
       "    <tr>\n",
       "      <th>6362618</th>\n",
       "      <td>743</td>\n",
       "      <td>TRANSFER</td>\n",
       "      <td>850002.52</td>\n",
       "      <td>850002.52</td>\n",
       "      <td>0.0</td>\n",
       "      <td>0.00</td>\n",
       "      <td>0.00</td>\n",
       "      <td>1</td>\n",
       "      <td>0</td>\n",
       "    </tr>\n",
       "    <tr>\n",
       "      <th>6362619</th>\n",
       "      <td>743</td>\n",
       "      <td>CASH_OUT</td>\n",
       "      <td>850002.52</td>\n",
       "      <td>850002.52</td>\n",
       "      <td>0.0</td>\n",
       "      <td>6510099.11</td>\n",
       "      <td>7360101.63</td>\n",
       "      <td>1</td>\n",
       "      <td>0</td>\n",
       "    </tr>\n",
       "  </tbody>\n",
       "</table>\n",
       "</div>"
      ],
      "text/plain": [
       "         step      type      amount  oldbalanceOrg  newbalanceOrig  \\\n",
       "6362615   743  CASH_OUT   339682.13      339682.13             0.0   \n",
       "6362616   743  TRANSFER  6311409.28     6311409.28             0.0   \n",
       "6362617   743  CASH_OUT  6311409.28     6311409.28             0.0   \n",
       "6362618   743  TRANSFER   850002.52      850002.52             0.0   \n",
       "6362619   743  CASH_OUT   850002.52      850002.52             0.0   \n",
       "\n",
       "         oldbalanceDest  newbalanceDest  isFraud  isFlaggedFraud  \n",
       "6362615            0.00       339682.13        1               0  \n",
       "6362616            0.00            0.00        1               0  \n",
       "6362617        68488.84      6379898.11        1               0  \n",
       "6362618            0.00            0.00        1               0  \n",
       "6362619      6510099.11      7360101.63        1               0  "
      ]
     },
     "execution_count": 36,
     "metadata": {},
     "output_type": "execute_result"
    }
   ],
   "source": [
    "sampledf.tail()"
   ]
  },
  {
   "cell_type": "code",
   "execution_count": 37,
   "id": "d15761dd",
   "metadata": {},
   "outputs": [],
   "source": [
    "sampledf['step'] = sampledf[\"step\"].mod(24)"
   ]
  },
  {
   "cell_type": "code",
   "execution_count": 38,
   "id": "7fed35e4",
   "metadata": {},
   "outputs": [
    {
     "data": {
      "text/html": [
       "<div>\n",
       "<style scoped>\n",
       "    .dataframe tbody tr th:only-of-type {\n",
       "        vertical-align: middle;\n",
       "    }\n",
       "\n",
       "    .dataframe tbody tr th {\n",
       "        vertical-align: top;\n",
       "    }\n",
       "\n",
       "    .dataframe thead th {\n",
       "        text-align: right;\n",
       "    }\n",
       "</style>\n",
       "<table border=\"1\" class=\"dataframe\">\n",
       "  <thead>\n",
       "    <tr style=\"text-align: right;\">\n",
       "      <th></th>\n",
       "      <th>step</th>\n",
       "      <th>type</th>\n",
       "      <th>amount</th>\n",
       "      <th>oldbalanceOrg</th>\n",
       "      <th>newbalanceOrig</th>\n",
       "      <th>oldbalanceDest</th>\n",
       "      <th>newbalanceDest</th>\n",
       "      <th>isFraud</th>\n",
       "      <th>isFlaggedFraud</th>\n",
       "    </tr>\n",
       "  </thead>\n",
       "  <tbody>\n",
       "    <tr>\n",
       "      <th>6362610</th>\n",
       "      <td>22</td>\n",
       "      <td>TRANSFER</td>\n",
       "      <td>63416.99</td>\n",
       "      <td>63416.99</td>\n",
       "      <td>0.0</td>\n",
       "      <td>0.00</td>\n",
       "      <td>0.00</td>\n",
       "      <td>1</td>\n",
       "      <td>0</td>\n",
       "    </tr>\n",
       "    <tr>\n",
       "      <th>6362611</th>\n",
       "      <td>22</td>\n",
       "      <td>CASH_OUT</td>\n",
       "      <td>63416.99</td>\n",
       "      <td>63416.99</td>\n",
       "      <td>0.0</td>\n",
       "      <td>276433.18</td>\n",
       "      <td>339850.17</td>\n",
       "      <td>1</td>\n",
       "      <td>0</td>\n",
       "    </tr>\n",
       "    <tr>\n",
       "      <th>6362612</th>\n",
       "      <td>23</td>\n",
       "      <td>TRANSFER</td>\n",
       "      <td>1258818.82</td>\n",
       "      <td>1258818.82</td>\n",
       "      <td>0.0</td>\n",
       "      <td>0.00</td>\n",
       "      <td>0.00</td>\n",
       "      <td>1</td>\n",
       "      <td>0</td>\n",
       "    </tr>\n",
       "    <tr>\n",
       "      <th>6362613</th>\n",
       "      <td>23</td>\n",
       "      <td>CASH_OUT</td>\n",
       "      <td>1258818.82</td>\n",
       "      <td>1258818.82</td>\n",
       "      <td>0.0</td>\n",
       "      <td>503464.50</td>\n",
       "      <td>1762283.33</td>\n",
       "      <td>1</td>\n",
       "      <td>0</td>\n",
       "    </tr>\n",
       "    <tr>\n",
       "      <th>6362614</th>\n",
       "      <td>23</td>\n",
       "      <td>TRANSFER</td>\n",
       "      <td>339682.13</td>\n",
       "      <td>339682.13</td>\n",
       "      <td>0.0</td>\n",
       "      <td>0.00</td>\n",
       "      <td>0.00</td>\n",
       "      <td>1</td>\n",
       "      <td>0</td>\n",
       "    </tr>\n",
       "    <tr>\n",
       "      <th>6362615</th>\n",
       "      <td>23</td>\n",
       "      <td>CASH_OUT</td>\n",
       "      <td>339682.13</td>\n",
       "      <td>339682.13</td>\n",
       "      <td>0.0</td>\n",
       "      <td>0.00</td>\n",
       "      <td>339682.13</td>\n",
       "      <td>1</td>\n",
       "      <td>0</td>\n",
       "    </tr>\n",
       "    <tr>\n",
       "      <th>6362616</th>\n",
       "      <td>23</td>\n",
       "      <td>TRANSFER</td>\n",
       "      <td>6311409.28</td>\n",
       "      <td>6311409.28</td>\n",
       "      <td>0.0</td>\n",
       "      <td>0.00</td>\n",
       "      <td>0.00</td>\n",
       "      <td>1</td>\n",
       "      <td>0</td>\n",
       "    </tr>\n",
       "    <tr>\n",
       "      <th>6362617</th>\n",
       "      <td>23</td>\n",
       "      <td>CASH_OUT</td>\n",
       "      <td>6311409.28</td>\n",
       "      <td>6311409.28</td>\n",
       "      <td>0.0</td>\n",
       "      <td>68488.84</td>\n",
       "      <td>6379898.11</td>\n",
       "      <td>1</td>\n",
       "      <td>0</td>\n",
       "    </tr>\n",
       "    <tr>\n",
       "      <th>6362618</th>\n",
       "      <td>23</td>\n",
       "      <td>TRANSFER</td>\n",
       "      <td>850002.52</td>\n",
       "      <td>850002.52</td>\n",
       "      <td>0.0</td>\n",
       "      <td>0.00</td>\n",
       "      <td>0.00</td>\n",
       "      <td>1</td>\n",
       "      <td>0</td>\n",
       "    </tr>\n",
       "    <tr>\n",
       "      <th>6362619</th>\n",
       "      <td>23</td>\n",
       "      <td>CASH_OUT</td>\n",
       "      <td>850002.52</td>\n",
       "      <td>850002.52</td>\n",
       "      <td>0.0</td>\n",
       "      <td>6510099.11</td>\n",
       "      <td>7360101.63</td>\n",
       "      <td>1</td>\n",
       "      <td>0</td>\n",
       "    </tr>\n",
       "  </tbody>\n",
       "</table>\n",
       "</div>"
      ],
      "text/plain": [
       "         step      type      amount  oldbalanceOrg  newbalanceOrig  \\\n",
       "6362610    22  TRANSFER    63416.99       63416.99             0.0   \n",
       "6362611    22  CASH_OUT    63416.99       63416.99             0.0   \n",
       "6362612    23  TRANSFER  1258818.82     1258818.82             0.0   \n",
       "6362613    23  CASH_OUT  1258818.82     1258818.82             0.0   \n",
       "6362614    23  TRANSFER   339682.13      339682.13             0.0   \n",
       "6362615    23  CASH_OUT   339682.13      339682.13             0.0   \n",
       "6362616    23  TRANSFER  6311409.28     6311409.28             0.0   \n",
       "6362617    23  CASH_OUT  6311409.28     6311409.28             0.0   \n",
       "6362618    23  TRANSFER   850002.52      850002.52             0.0   \n",
       "6362619    23  CASH_OUT   850002.52      850002.52             0.0   \n",
       "\n",
       "         oldbalanceDest  newbalanceDest  isFraud  isFlaggedFraud  \n",
       "6362610            0.00            0.00        1               0  \n",
       "6362611       276433.18       339850.17        1               0  \n",
       "6362612            0.00            0.00        1               0  \n",
       "6362613       503464.50      1762283.33        1               0  \n",
       "6362614            0.00            0.00        1               0  \n",
       "6362615            0.00       339682.13        1               0  \n",
       "6362616            0.00            0.00        1               0  \n",
       "6362617        68488.84      6379898.11        1               0  \n",
       "6362618            0.00            0.00        1               0  \n",
       "6362619      6510099.11      7360101.63        1               0  "
      ]
     },
     "execution_count": 38,
     "metadata": {},
     "output_type": "execute_result"
    }
   ],
   "source": [
    "sampledf.tail(10)"
   ]
  },
  {
   "cell_type": "code",
   "execution_count": 174,
   "id": "89068f94",
   "metadata": {},
   "outputs": [],
   "source": [
    "crossdf = pd.crosstab(sampledf.step,sampledf.isFraud)"
   ]
  },
  {
   "cell_type": "code",
   "execution_count": 192,
   "id": "97752509",
   "metadata": {},
   "outputs": [
    {
     "data": {
      "text/html": [
       "<div>\n",
       "<style scoped>\n",
       "    .dataframe tbody tr th:only-of-type {\n",
       "        vertical-align: middle;\n",
       "    }\n",
       "\n",
       "    .dataframe tbody tr th {\n",
       "        vertical-align: top;\n",
       "    }\n",
       "\n",
       "    .dataframe thead th {\n",
       "        text-align: right;\n",
       "    }\n",
       "</style>\n",
       "<table border=\"1\" class=\"dataframe\">\n",
       "  <thead>\n",
       "    <tr style=\"text-align: right;\">\n",
       "      <th>isFraud</th>\n",
       "      <th>0</th>\n",
       "      <th>1</th>\n",
       "    </tr>\n",
       "    <tr>\n",
       "      <th>step</th>\n",
       "      <th></th>\n",
       "      <th></th>\n",
       "    </tr>\n",
       "  </thead>\n",
       "  <tbody>\n",
       "    <tr>\n",
       "      <th>0</th>\n",
       "      <td>71287</td>\n",
       "      <td>300</td>\n",
       "    </tr>\n",
       "    <tr>\n",
       "      <th>1</th>\n",
       "      <td>26753</td>\n",
       "      <td>358</td>\n",
       "    </tr>\n",
       "    <tr>\n",
       "      <th>2</th>\n",
       "      <td>8646</td>\n",
       "      <td>372</td>\n",
       "    </tr>\n",
       "    <tr>\n",
       "      <th>3</th>\n",
       "      <td>1681</td>\n",
       "      <td>326</td>\n",
       "    </tr>\n",
       "    <tr>\n",
       "      <th>4</th>\n",
       "      <td>967</td>\n",
       "      <td>274</td>\n",
       "    </tr>\n",
       "    <tr>\n",
       "      <th>5</th>\n",
       "      <td>1275</td>\n",
       "      <td>366</td>\n",
       "    </tr>\n",
       "    <tr>\n",
       "      <th>6</th>\n",
       "      <td>3062</td>\n",
       "      <td>358</td>\n",
       "    </tr>\n",
       "    <tr>\n",
       "      <th>7</th>\n",
       "      <td>8660</td>\n",
       "      <td>328</td>\n",
       "    </tr>\n",
       "    <tr>\n",
       "      <th>8</th>\n",
       "      <td>26547</td>\n",
       "      <td>368</td>\n",
       "    </tr>\n",
       "    <tr>\n",
       "      <th>9</th>\n",
       "      <td>283177</td>\n",
       "      <td>341</td>\n",
       "    </tr>\n",
       "    <tr>\n",
       "      <th>10</th>\n",
       "      <td>425354</td>\n",
       "      <td>375</td>\n",
       "    </tr>\n",
       "    <tr>\n",
       "      <th>11</th>\n",
       "      <td>445668</td>\n",
       "      <td>324</td>\n",
       "    </tr>\n",
       "    <tr>\n",
       "      <th>12</th>\n",
       "      <td>483079</td>\n",
       "      <td>339</td>\n",
       "    </tr>\n",
       "    <tr>\n",
       "      <th>13</th>\n",
       "      <td>468128</td>\n",
       "      <td>346</td>\n",
       "    </tr>\n",
       "    <tr>\n",
       "      <th>14</th>\n",
       "      <td>439300</td>\n",
       "      <td>353</td>\n",
       "    </tr>\n",
       "    <tr>\n",
       "      <th>15</th>\n",
       "      <td>416345</td>\n",
       "      <td>341</td>\n",
       "    </tr>\n",
       "    <tr>\n",
       "      <th>16</th>\n",
       "      <td>441267</td>\n",
       "      <td>345</td>\n",
       "    </tr>\n",
       "    <tr>\n",
       "      <th>17</th>\n",
       "      <td>439588</td>\n",
       "      <td>353</td>\n",
       "    </tr>\n",
       "    <tr>\n",
       "      <th>18</th>\n",
       "      <td>580166</td>\n",
       "      <td>343</td>\n",
       "    </tr>\n",
       "    <tr>\n",
       "      <th>19</th>\n",
       "      <td>647472</td>\n",
       "      <td>342</td>\n",
       "    </tr>\n",
       "    <tr>\n",
       "      <th>20</th>\n",
       "      <td>553388</td>\n",
       "      <td>340</td>\n",
       "    </tr>\n",
       "    <tr>\n",
       "      <th>21</th>\n",
       "      <td>247459</td>\n",
       "      <td>347</td>\n",
       "    </tr>\n",
       "    <tr>\n",
       "      <th>22</th>\n",
       "      <td>194204</td>\n",
       "      <td>351</td>\n",
       "    </tr>\n",
       "    <tr>\n",
       "      <th>23</th>\n",
       "      <td>140934</td>\n",
       "      <td>323</td>\n",
       "    </tr>\n",
       "  </tbody>\n",
       "</table>\n",
       "</div>"
      ],
      "text/plain": [
       "isFraud       0    1\n",
       "step                \n",
       "0         71287  300\n",
       "1         26753  358\n",
       "2          8646  372\n",
       "3          1681  326\n",
       "4           967  274\n",
       "5          1275  366\n",
       "6          3062  358\n",
       "7          8660  328\n",
       "8         26547  368\n",
       "9        283177  341\n",
       "10       425354  375\n",
       "11       445668  324\n",
       "12       483079  339\n",
       "13       468128  346\n",
       "14       439300  353\n",
       "15       416345  341\n",
       "16       441267  345\n",
       "17       439588  353\n",
       "18       580166  343\n",
       "19       647472  342\n",
       "20       553388  340\n",
       "21       247459  347\n",
       "22       194204  351\n",
       "23       140934  323"
      ]
     },
     "execution_count": 192,
     "metadata": {},
     "output_type": "execute_result"
    }
   ],
   "source": [
    "crossdf"
   ]
  },
  {
   "cell_type": "code",
   "execution_count": 40,
   "id": "ed58c3ec",
   "metadata": {},
   "outputs": [],
   "source": [
    "legit = sampledf[sampledf.isFraud == 0]\n",
    "fraud = sampledf[sampledf.isFraud == 1]"
   ]
  },
  {
   "cell_type": "markdown",
   "id": "2ff5eb1b",
   "metadata": {},
   "source": [
    "### GRAPH SHOWING THE NUMBER OF LEGIT TRANSACTIONS AT VARIOUS HOURS OF THE DAY "
   ]
  },
  {
   "cell_type": "code",
   "execution_count": 41,
   "id": "945130ef",
   "metadata": {},
   "outputs": [
    {
     "data": {
      "text/plain": [
       "Text(0, 0.5, 'Number of Transactions')"
      ]
     },
     "execution_count": 41,
     "metadata": {},
     "output_type": "execute_result"
    },
    {
     "data": {
      "image/png": "[encoded data removed]",
      "text/plain": [
       "<Figure size 432x288 with 1 Axes>"
      ]
     },
     "metadata": {
      "needs_background": "light"
     },
     "output_type": "display_data"
    }
   ],
   "source": [
    "pd.crosstab(legit.step,sampledf.isFraud).plot(kind='bar')\n",
    "plt.title(\"Volume of legit transactions at various hours of the day\")\n",
    "plt.xlabel(\"Hour of day\")\n",
    "plt.ylabel(\"Number of Transactions\")"
   ]
  },
  {
   "cell_type": "markdown",
   "id": "bc6690a3",
   "metadata": {},
   "source": [
    "### GRAPH SHOWING THE NUMBER OF FRAUDULENT TRANSACTIONS AT VARIOUS HOURS OF THE DAY"
   ]
  },
  {
   "cell_type": "code",
   "execution_count": 42,
   "id": "9eb93942",
   "metadata": {},
   "outputs": [
    {
     "data": {
      "text/plain": [
       "Text(0, 0.5, 'Number of Transactions')"
      ]
     },
     "execution_count": 42,
     "metadata": {},
     "output_type": "execute_result"
    },
    {
     "data": {
      "image/png": "[encoded data removed]",
      "text/plain": [
       "<Figure size 432x288 with 1 Axes>"
      ]
     },
     "metadata": {
      "needs_background": "light"
     },
     "output_type": "display_data"
    }
   ],
   "source": [
    "pd.crosstab(fraud.step,sampledf.isFraud).plot(kind='bar')\n",
    "plt.title(\"Volume of frauds transactions at various hours of the day\")\n",
    "plt.xlabel(\"Hour of day\")\n",
    "plt.ylabel(\"Number of Transactions\")"
   ]
  },
  {
   "cell_type": "code",
   "execution_count": 57,
   "id": "1e8228f3",
   "metadata": {},
   "outputs": [
    {
     "data": {
      "text/plain": [
       "Text(0, 0.5, 'Old Balance of Origin Account')"
      ]
     },
     "execution_count": 57,
     "metadata": {},
     "output_type": "execute_result"
    },
    {
     "data": {
      "image/png": "[encoded data removed]",
      "text/plain": [
       "<Figure size 432x288 with 1 Axes>"
      ]
     },
     "metadata": {
      "needs_background": "light"
     },
     "output_type": "display_data"
    }
   ],
   "source": [
    "p=sns.barplot(data=sampledf, x=\"isFraud\", y=\"oldbalanceOrg\")\n",
    "p.set_title(\"Comparing Old Balance of Origin Acc\")\n",
    "p.set_xlabel(\"Legitimate/Fraud\", fontsize = 20)\n",
    "p.set_ylabel(\"Old Balance of Origin Account\", fontsize = 20)"
   ]
  },
  {
   "cell_type": "code",
   "execution_count": 58,
   "id": "be516ad7",
   "metadata": {},
   "outputs": [
    {
     "data": {
      "text/plain": [
       "Text(0, 0.5, 'New Balance of Origin Account')"
      ]
     },
     "execution_count": 58,
     "metadata": {},
     "output_type": "execute_result"
    },
    {
     "data": {
      "image/png": "[encoded data removed]",
      "text/plain": [
       "<Figure size 432x288 with 1 Axes>"
      ]
     },
     "metadata": {
      "needs_background": "light"
     },
     "output_type": "display_data"
    }
   ],
   "source": [
    "p=sns.barplot(data=sampledf, x=\"isFraud\", y=\"newbalanceOrig\")\n",
    "p.set_title(\"Comparing New Balance of Origin Acc\")\n",
    "p.set_xlabel(\"Legitimate/Fraud\", fontsize = 20)\n",
    "p.set_ylabel(\"New Balance of Origin Account\", fontsize = 20)"
   ]
  },
  {
   "cell_type": "code",
   "execution_count": 59,
   "id": "1c491fbc",
   "metadata": {},
   "outputs": [
    {
     "data": {
      "text/plain": [
       "Text(0, 0.5, 'Old Balance of Destination Account')"
      ]
     },
     "execution_count": 59,
     "metadata": {},
     "output_type": "execute_result"
    },
    {
     "data": {
      "image/png": "[encoded data removed]",
      "text/plain": [
       "<Figure size 432x288 with 1 Axes>"
      ]
     },
     "metadata": {
      "needs_background": "light"
     },
     "output_type": "display_data"
    }
   ],
   "source": [
    "p=sns.barplot(data=sampledf, x=\"isFraud\", y=\"oldbalanceDest\")\n",
    "p.set_title(\"Comparing Old Balance of Destination Acc\")\n",
    "p.set_xlabel(\"Legitimate/Fraud\", fontsize = 20)\n",
    "p.set_ylabel(\"Old Balance of Destination Account\", fontsize = 20)"
   ]
  },
  {
   "cell_type": "code",
   "execution_count": 60,
   "id": "299bdd8b",
   "metadata": {},
   "outputs": [
    {
     "data": {
      "text/plain": [
       "Text(0, 0.5, 'New Balance of Destination Account')"
      ]
     },
     "execution_count": 60,
     "metadata": {},
     "output_type": "execute_result"
    },
    {
     "data": {
      "image/png": "[encoded data removed]",
      "text/plain": [
       "<Figure size 432x288 with 1 Axes>"
      ]
     },
     "metadata": {
      "needs_background": "light"
     },
     "output_type": "display_data"
    }
   ],
   "source": [
    "p=sns.barplot(data=sampledf, x=\"isFraud\", y=\"newbalanceDest\")\n",
    "p.set_title(\"Comparing New Balance of Destination Acc\")\n",
    "p.set_xlabel(\"Legitimate/Fraud\", fontsize = 20)\n",
    "p.set_ylabel(\"New Balance of Destination Account\", fontsize = 20)"
   ]
  },
  {
   "cell_type": "code",
   "execution_count": 48,
   "id": "3102cae1",
   "metadata": {},
   "outputs": [],
   "source": [
    "typecomparedf = pd.crosstab(df.type,df.isFraud)"
   ]
  },
  {
   "cell_type": "code",
   "execution_count": 49,
   "id": "aa5ebd13",
   "metadata": {},
   "outputs": [
    {
     "data": {
      "text/html": [
       "<div>\n",
       "<style scoped>\n",
       "    .dataframe tbody tr th:only-of-type {\n",
       "        vertical-align: middle;\n",
       "    }\n",
       "\n",
       "    .dataframe tbody tr th {\n",
       "        vertical-align: top;\n",
       "    }\n",
       "\n",
       "    .dataframe thead th {\n",
       "        text-align: right;\n",
       "    }\n",
       "</style>\n",
       "<table border=\"1\" class=\"dataframe\">\n",
       "  <thead>\n",
       "    <tr style=\"text-align: right;\">\n",
       "      <th>isFraud</th>\n",
       "      <th>0</th>\n",
       "      <th>1</th>\n",
       "    </tr>\n",
       "    <tr>\n",
       "      <th>type</th>\n",
       "      <th></th>\n",
       "      <th></th>\n",
       "    </tr>\n",
       "  </thead>\n",
       "  <tbody>\n",
       "    <tr>\n",
       "      <th>CASH_IN</th>\n",
       "      <td>1399284</td>\n",
       "      <td>0</td>\n",
       "    </tr>\n",
       "    <tr>\n",
       "      <th>CASH_OUT</th>\n",
       "      <td>2233384</td>\n",
       "      <td>4116</td>\n",
       "    </tr>\n",
       "    <tr>\n",
       "      <th>DEBIT</th>\n",
       "      <td>41432</td>\n",
       "      <td>0</td>\n",
       "    </tr>\n",
       "    <tr>\n",
       "      <th>PAYMENT</th>\n",
       "      <td>2151495</td>\n",
       "      <td>0</td>\n",
       "    </tr>\n",
       "    <tr>\n",
       "      <th>TRANSFER</th>\n",
       "      <td>528812</td>\n",
       "      <td>4097</td>\n",
       "    </tr>\n",
       "  </tbody>\n",
       "</table>\n",
       "</div>"
      ],
      "text/plain": [
       "isFraud         0     1\n",
       "type                   \n",
       "CASH_IN   1399284     0\n",
       "CASH_OUT  2233384  4116\n",
       "DEBIT       41432     0\n",
       "PAYMENT   2151495     0\n",
       "TRANSFER   528812  4097"
      ]
     },
     "execution_count": 49,
     "metadata": {},
     "output_type": "execute_result"
    }
   ],
   "source": [
    "typecomparedf"
   ]
  },
  {
   "cell_type": "code",
   "execution_count": 50,
   "id": "71297d3b",
   "metadata": {},
   "outputs": [],
   "source": [
    "typecrossdf = pd.crosstab(fraud.type,fraud.isFraud)"
   ]
  },
  {
   "cell_type": "code",
   "execution_count": 51,
   "id": "f6f084b1",
   "metadata": {},
   "outputs": [
    {
     "data": {
      "text/plain": [
       "Text(0, 0.5, 'Number of Transactions')"
      ]
     },
     "execution_count": 51,
     "metadata": {},
     "output_type": "execute_result"
    },
    {
     "data": {
      "image/png": "[encoded data removed]",
      "text/plain": [
       "<Figure size 432x288 with 1 Axes>"
      ]
     },
     "metadata": {
      "needs_background": "light"
     },
     "output_type": "display_data"
    }
   ],
   "source": [
    "typecrossdf.plot(kind='bar')\n",
    "plt.title(\"Methods used in Fraud Transactions\")\n",
    "plt.xlabel(\"Method\")\n",
    "plt.ylabel(\"Number of Transactions\")"
   ]
  },
  {
   "cell_type": "code",
   "execution_count": 52,
   "id": "06319526",
   "metadata": {},
   "outputs": [],
   "source": [
    "typecrossLegitdf = pd.crosstab(legit.type,legit.isFraud)"
   ]
  },
  {
   "cell_type": "code",
   "execution_count": 53,
   "id": "47471724",
   "metadata": {},
   "outputs": [
    {
     "data": {
      "text/plain": [
       "Text(0, 0.5, 'Number of Transactions')"
      ]
     },
     "execution_count": 53,
     "metadata": {},
     "output_type": "execute_result"
    },
    {
     "data": {
      "image/png": "[encoded data removed]",
      "text/plain": [
       "<Figure size 432x288 with 1 Axes>"
      ]
     },
     "metadata": {
      "needs_background": "light"
     },
     "output_type": "display_data"
    }
   ],
   "source": [
    "typecrossLegitdf.plot(kind='bar')\n",
    "plt.title(\"Methods used in Legit Transactions\")\n",
    "plt.xlabel(\"Method\")\n",
    "plt.ylabel(\"Number of Transactions\")"
   ]
  },
  {
   "cell_type": "code",
   "execution_count": 54,
   "id": "7bd81e13",
   "metadata": {},
   "outputs": [
    {
     "data": {
      "text/html": [
       "<div>\n",
       "<style scoped>\n",
       "    .dataframe tbody tr th:only-of-type {\n",
       "        vertical-align: middle;\n",
       "    }\n",
       "\n",
       "    .dataframe tbody tr th {\n",
       "        vertical-align: top;\n",
       "    }\n",
       "\n",
       "    .dataframe thead th {\n",
       "        text-align: right;\n",
       "    }\n",
       "</style>\n",
       "<table border=\"1\" class=\"dataframe\">\n",
       "  <thead>\n",
       "    <tr style=\"text-align: right;\">\n",
       "      <th>isFlaggedFraud</th>\n",
       "      <th>0</th>\n",
       "      <th>1</th>\n",
       "    </tr>\n",
       "    <tr>\n",
       "      <th>isFraud</th>\n",
       "      <th></th>\n",
       "      <th></th>\n",
       "    </tr>\n",
       "  </thead>\n",
       "  <tbody>\n",
       "    <tr>\n",
       "      <th>0</th>\n",
       "      <td>6354407</td>\n",
       "      <td>0</td>\n",
       "    </tr>\n",
       "    <tr>\n",
       "      <th>1</th>\n",
       "      <td>8197</td>\n",
       "      <td>16</td>\n",
       "    </tr>\n",
       "  </tbody>\n",
       "</table>\n",
       "</div>"
      ],
      "text/plain": [
       "isFlaggedFraud        0   1\n",
       "isFraud                    \n",
       "0               6354407   0\n",
       "1                  8197  16"
      ]
     },
     "execution_count": 54,
     "metadata": {},
     "output_type": "execute_result"
    }
   ],
   "source": [
    "FlaggedFraudCrossdf = pd.crosstab(sampledf.isFraud,sampledf.isFlaggedFraud)\n",
    "FlaggedFraudCrossdf\n"
   ]
  },
  {
   "cell_type": "code",
   "execution_count": 55,
   "id": "9a8e2f03",
   "metadata": {},
   "outputs": [
    {
     "data": {
      "text/plain": [
       "Text(0.5, 1.0, 'Heatmap')"
      ]
     },
     "execution_count": 55,
     "metadata": {},
     "output_type": "execute_result"
    },
    {
     "data": {
      "image/png": "[encoded data removed]",
      "text/plain": [
       "<Figure size 432x288 with 2 Axes>"
      ]
     },
     "metadata": {
      "needs_background": "light"
     },
     "output_type": "display_data"
    }
   ],
   "source": [
    "corr=sampledf.corr()\n",
    "p=sns.heatmap(corr)\n",
    "p.set_title(\"Heatmap\",fontsize = 20)"
   ]
  },
  {
   "cell_type": "code",
   "execution_count": 56,
   "id": "cf0337d9",
   "metadata": {},
   "outputs": [
    {
     "data": {
      "text/html": [
       "<div>\n",
       "<style scoped>\n",
       "    .dataframe tbody tr th:only-of-type {\n",
       "        vertical-align: middle;\n",
       "    }\n",
       "\n",
       "    .dataframe tbody tr th {\n",
       "        vertical-align: top;\n",
       "    }\n",
       "\n",
       "    .dataframe thead th {\n",
       "        text-align: right;\n",
       "    }\n",
       "</style>\n",
       "<table border=\"1\" class=\"dataframe\">\n",
       "  <thead>\n",
       "    <tr style=\"text-align: right;\">\n",
       "      <th></th>\n",
       "      <th>step</th>\n",
       "      <th>amount</th>\n",
       "      <th>oldbalanceOrg</th>\n",
       "      <th>newbalanceOrig</th>\n",
       "      <th>oldbalanceDest</th>\n",
       "      <th>newbalanceDest</th>\n",
       "      <th>isFraud</th>\n",
       "      <th>isFlaggedFraud</th>\n",
       "    </tr>\n",
       "  </thead>\n",
       "  <tbody>\n",
       "    <tr>\n",
       "      <th>step</th>\n",
       "      <td>1.000000</td>\n",
       "      <td>-0.029676</td>\n",
       "      <td>-0.001015</td>\n",
       "      <td>-0.000858</td>\n",
       "      <td>-0.001564</td>\n",
       "      <td>-0.006697</td>\n",
       "      <td>-0.031403</td>\n",
       "      <td>-0.000462</td>\n",
       "    </tr>\n",
       "    <tr>\n",
       "      <th>amount</th>\n",
       "      <td>-0.029676</td>\n",
       "      <td>1.000000</td>\n",
       "      <td>-0.002762</td>\n",
       "      <td>-0.007861</td>\n",
       "      <td>0.294137</td>\n",
       "      <td>0.459304</td>\n",
       "      <td>0.076688</td>\n",
       "      <td>0.012295</td>\n",
       "    </tr>\n",
       "    <tr>\n",
       "      <th>oldbalanceOrg</th>\n",
       "      <td>-0.001015</td>\n",
       "      <td>-0.002762</td>\n",
       "      <td>1.000000</td>\n",
       "      <td>0.998803</td>\n",
       "      <td>0.066243</td>\n",
       "      <td>0.042029</td>\n",
       "      <td>0.010154</td>\n",
       "      <td>0.003835</td>\n",
       "    </tr>\n",
       "    <tr>\n",
       "      <th>newbalanceOrig</th>\n",
       "      <td>-0.000858</td>\n",
       "      <td>-0.007861</td>\n",
       "      <td>0.998803</td>\n",
       "      <td>1.000000</td>\n",
       "      <td>0.067812</td>\n",
       "      <td>0.041837</td>\n",
       "      <td>-0.008148</td>\n",
       "      <td>0.003776</td>\n",
       "    </tr>\n",
       "    <tr>\n",
       "      <th>oldbalanceDest</th>\n",
       "      <td>-0.001564</td>\n",
       "      <td>0.294137</td>\n",
       "      <td>0.066243</td>\n",
       "      <td>0.067812</td>\n",
       "      <td>1.000000</td>\n",
       "      <td>0.976569</td>\n",
       "      <td>-0.005885</td>\n",
       "      <td>-0.000513</td>\n",
       "    </tr>\n",
       "    <tr>\n",
       "      <th>newbalanceDest</th>\n",
       "      <td>-0.006697</td>\n",
       "      <td>0.459304</td>\n",
       "      <td>0.042029</td>\n",
       "      <td>0.041837</td>\n",
       "      <td>0.976569</td>\n",
       "      <td>1.000000</td>\n",
       "      <td>0.000535</td>\n",
       "      <td>-0.000529</td>\n",
       "    </tr>\n",
       "    <tr>\n",
       "      <th>isFraud</th>\n",
       "      <td>-0.031403</td>\n",
       "      <td>0.076688</td>\n",
       "      <td>0.010154</td>\n",
       "      <td>-0.008148</td>\n",
       "      <td>-0.005885</td>\n",
       "      <td>0.000535</td>\n",
       "      <td>1.000000</td>\n",
       "      <td>0.044109</td>\n",
       "    </tr>\n",
       "    <tr>\n",
       "      <th>isFlaggedFraud</th>\n",
       "      <td>-0.000462</td>\n",
       "      <td>0.012295</td>\n",
       "      <td>0.003835</td>\n",
       "      <td>0.003776</td>\n",
       "      <td>-0.000513</td>\n",
       "      <td>-0.000529</td>\n",
       "      <td>0.044109</td>\n",
       "      <td>1.000000</td>\n",
       "    </tr>\n",
       "  </tbody>\n",
       "</table>\n",
       "</div>"
      ],
      "text/plain": [
       "                    step    amount  oldbalanceOrg  newbalanceOrig  \\\n",
       "step            1.000000 -0.029676      -0.001015       -0.000858   \n",
       "amount         -0.029676  1.000000      -0.002762       -0.007861   \n",
       "oldbalanceOrg  -0.001015 -0.002762       1.000000        0.998803   \n",
       "newbalanceOrig -0.000858 -0.007861       0.998803        1.000000   \n",
       "oldbalanceDest -0.001564  0.294137       0.066243        0.067812   \n",
       "newbalanceDest -0.006697  0.459304       0.042029        0.041837   \n",
       "isFraud        -0.031403  0.076688       0.010154       -0.008148   \n",
       "isFlaggedFraud -0.000462  0.012295       0.003835        0.003776   \n",
       "\n",
       "                oldbalanceDest  newbalanceDest   isFraud  isFlaggedFraud  \n",
       "step                 -0.001564       -0.006697 -0.031403       -0.000462  \n",
       "amount                0.294137        0.459304  0.076688        0.012295  \n",
       "oldbalanceOrg         0.066243        0.042029  0.010154        0.003835  \n",
       "newbalanceOrig        0.067812        0.041837 -0.008148        0.003776  \n",
       "oldbalanceDest        1.000000        0.976569 -0.005885       -0.000513  \n",
       "newbalanceDest        0.976569        1.000000  0.000535       -0.000529  \n",
       "isFraud              -0.005885        0.000535  1.000000        0.044109  \n",
       "isFlaggedFraud       -0.000513       -0.000529  0.044109        1.000000  "
      ]
     },
     "execution_count": 56,
     "metadata": {},
     "output_type": "execute_result"
    }
   ],
   "source": [
    "corr"
   ]
  },
  {
   "cell_type": "markdown",
   "id": "80fdaaf2",
   "metadata": {},
   "source": [
    "## Balancing the Data Set"
   ]
  },
  {
   "cell_type": "code",
   "execution_count": 7,
   "id": "b653e499",
   "metadata": {},
   "outputs": [],
   "source": [
    "legit = df[df.isFraud == 0]\n",
    "fraud = df[df.isFraud == 1]"
   ]
  },
  {
   "cell_type": "code",
   "execution_count": 23,
   "id": "4627e096",
   "metadata": {},
   "outputs": [
    {
     "data": {
      "text/plain": [
       "(6354407, 9)"
      ]
     },
     "execution_count": 23,
     "metadata": {},
     "output_type": "execute_result"
    }
   ],
   "source": [
    "legit.shape"
   ]
  },
  {
   "cell_type": "code",
   "execution_count": 24,
   "id": "771aa42d",
   "metadata": {},
   "outputs": [
    {
     "data": {
      "text/plain": [
       "(8213, 9)"
      ]
     },
     "execution_count": 24,
     "metadata": {},
     "output_type": "execute_result"
    }
   ],
   "source": [
    "fraud.shape"
   ]
  },
  {
   "cell_type": "markdown",
   "id": "763d9d55",
   "metadata": {},
   "source": [
    "### RANDOM UNDERSAMPLING"
   ]
  },
  {
   "cell_type": "code",
   "execution_count": null,
   "id": "8a254bb5",
   "metadata": {},
   "outputs": [],
   "source": [
    "#df['step'] = df[\"step\"].mod(24)"
   ]
  },
  {
   "cell_type": "code",
   "execution_count": 23,
   "id": "0134848e",
   "metadata": {},
   "outputs": [],
   "source": [
    "X = df.drop(['isFraud'],axis=1)\n",
    "y = df['isFraud']"
   ]
  },
  {
   "cell_type": "code",
   "execution_count": 24,
   "id": "efc7028c",
   "metadata": {},
   "outputs": [],
   "source": [
    "from sklearn.preprocessing import LabelEncoder\n",
    "le = LabelEncoder()\n",
    "var = X.select_dtypes(include='object').columns\n",
    "for i in var:\n",
    "    X[i] = le.fit_transform(X[i])"
   ]
  },
  {
   "cell_type": "code",
   "execution_count": 27,
   "id": "e3bc8c02",
   "metadata": {},
   "outputs": [],
   "source": [
    "from sklearn.model_selection import train_test_split\n",
    "X_train , X_test , y_train , y_test = train_test_split(X,y, test_size=0.30 , random_state=0)"
   ]
  },
  {
   "cell_type": "code",
   "execution_count": 28,
   "id": "07de64eb",
   "metadata": {},
   "outputs": [],
   "source": [
    "X_train = pd.DataFrame(X_train)"
   ]
  },
  {
   "cell_type": "code",
   "execution_count": 29,
   "id": "5af5d025",
   "metadata": {},
   "outputs": [],
   "source": [
    "y_train = pd.DataFrame(y_train)"
   ]
  },
  {
   "cell_type": "code",
   "execution_count": 30,
   "id": "58452970",
   "metadata": {},
   "outputs": [
    {
     "data": {
      "text/html": [
       "<div>\n",
       "<style scoped>\n",
       "    .dataframe tbody tr th:only-of-type {\n",
       "        vertical-align: middle;\n",
       "    }\n",
       "\n",
       "    .dataframe tbody tr th {\n",
       "        vertical-align: top;\n",
       "    }\n",
       "\n",
       "    .dataframe thead th {\n",
       "        text-align: right;\n",
       "    }\n",
       "</style>\n",
       "<table border=\"1\" class=\"dataframe\">\n",
       "  <thead>\n",
       "    <tr style=\"text-align: right;\">\n",
       "      <th></th>\n",
       "      <th>step</th>\n",
       "      <th>type</th>\n",
       "      <th>amount</th>\n",
       "      <th>oldbalanceOrg</th>\n",
       "      <th>newbalanceOrig</th>\n",
       "      <th>oldbalanceDest</th>\n",
       "      <th>newbalanceDest</th>\n",
       "      <th>isFlaggedFraud</th>\n",
       "    </tr>\n",
       "  </thead>\n",
       "  <tbody>\n",
       "    <tr>\n",
       "      <th>3019524</th>\n",
       "      <td>17</td>\n",
       "      <td>3</td>\n",
       "      <td>15595.97</td>\n",
       "      <td>0.00</td>\n",
       "      <td>0.00</td>\n",
       "      <td>0.00</td>\n",
       "      <td>0.00</td>\n",
       "      <td>0</td>\n",
       "    </tr>\n",
       "    <tr>\n",
       "      <th>1012167</th>\n",
       "      <td>22</td>\n",
       "      <td>3</td>\n",
       "      <td>7613.14</td>\n",
       "      <td>90120.00</td>\n",
       "      <td>82506.86</td>\n",
       "      <td>0.00</td>\n",
       "      <td>0.00</td>\n",
       "      <td>0</td>\n",
       "    </tr>\n",
       "    <tr>\n",
       "      <th>5551834</th>\n",
       "      <td>23</td>\n",
       "      <td>4</td>\n",
       "      <td>767351.67</td>\n",
       "      <td>0.00</td>\n",
       "      <td>0.00</td>\n",
       "      <td>4528365.13</td>\n",
       "      <td>5295716.81</td>\n",
       "      <td>0</td>\n",
       "    </tr>\n",
       "    <tr>\n",
       "      <th>2081309</th>\n",
       "      <td>14</td>\n",
       "      <td>1</td>\n",
       "      <td>167480.81</td>\n",
       "      <td>1293445.15</td>\n",
       "      <td>1125964.33</td>\n",
       "      <td>0.00</td>\n",
       "      <td>167480.81</td>\n",
       "      <td>0</td>\n",
       "    </tr>\n",
       "    <tr>\n",
       "      <th>4457939</th>\n",
       "      <td>11</td>\n",
       "      <td>1</td>\n",
       "      <td>200937.21</td>\n",
       "      <td>104248.00</td>\n",
       "      <td>0.00</td>\n",
       "      <td>3242311.66</td>\n",
       "      <td>3443248.87</td>\n",
       "      <td>0</td>\n",
       "    </tr>\n",
       "    <tr>\n",
       "      <th>...</th>\n",
       "      <td>...</td>\n",
       "      <td>...</td>\n",
       "      <td>...</td>\n",
       "      <td>...</td>\n",
       "      <td>...</td>\n",
       "      <td>...</td>\n",
       "      <td>...</td>\n",
       "      <td>...</td>\n",
       "    </tr>\n",
       "    <tr>\n",
       "      <th>2249467</th>\n",
       "      <td>19</td>\n",
       "      <td>1</td>\n",
       "      <td>113691.83</td>\n",
       "      <td>4231.00</td>\n",
       "      <td>0.00</td>\n",
       "      <td>397758.64</td>\n",
       "      <td>511450.47</td>\n",
       "      <td>0</td>\n",
       "    </tr>\n",
       "    <tr>\n",
       "      <th>5157699</th>\n",
       "      <td>21</td>\n",
       "      <td>1</td>\n",
       "      <td>3891.96</td>\n",
       "      <td>20146.00</td>\n",
       "      <td>16254.04</td>\n",
       "      <td>253375.00</td>\n",
       "      <td>257266.97</td>\n",
       "      <td>0</td>\n",
       "    </tr>\n",
       "    <tr>\n",
       "      <th>2215104</th>\n",
       "      <td>18</td>\n",
       "      <td>0</td>\n",
       "      <td>79840.52</td>\n",
       "      <td>10152925.86</td>\n",
       "      <td>10232766.38</td>\n",
       "      <td>276175.87</td>\n",
       "      <td>196335.36</td>\n",
       "      <td>0</td>\n",
       "    </tr>\n",
       "    <tr>\n",
       "      <th>1484405</th>\n",
       "      <td>21</td>\n",
       "      <td>0</td>\n",
       "      <td>568604.50</td>\n",
       "      <td>1081784.28</td>\n",
       "      <td>1650388.77</td>\n",
       "      <td>2631796.49</td>\n",
       "      <td>2063191.99</td>\n",
       "      <td>0</td>\n",
       "    </tr>\n",
       "    <tr>\n",
       "      <th>4500015</th>\n",
       "      <td>13</td>\n",
       "      <td>0</td>\n",
       "      <td>147782.18</td>\n",
       "      <td>4059.00</td>\n",
       "      <td>151841.18</td>\n",
       "      <td>453724.69</td>\n",
       "      <td>305942.52</td>\n",
       "      <td>0</td>\n",
       "    </tr>\n",
       "  </tbody>\n",
       "</table>\n",
       "<p>4453834 rows × 8 columns</p>\n",
       "</div>"
      ],
      "text/plain": [
       "         step  type     amount  oldbalanceOrg  newbalanceOrig  oldbalanceDest  \\\n",
       "3019524    17     3   15595.97           0.00            0.00            0.00   \n",
       "1012167    22     3    7613.14       90120.00        82506.86            0.00   \n",
       "5551834    23     4  767351.67           0.00            0.00      4528365.13   \n",
       "2081309    14     1  167480.81     1293445.15      1125964.33            0.00   \n",
       "4457939    11     1  200937.21      104248.00            0.00      3242311.66   \n",
       "...       ...   ...        ...            ...             ...             ...   \n",
       "2249467    19     1  113691.83        4231.00            0.00       397758.64   \n",
       "5157699    21     1    3891.96       20146.00        16254.04       253375.00   \n",
       "2215104    18     0   79840.52    10152925.86     10232766.38       276175.87   \n",
       "1484405    21     0  568604.50     1081784.28      1650388.77      2631796.49   \n",
       "4500015    13     0  147782.18        4059.00       151841.18       453724.69   \n",
       "\n",
       "         newbalanceDest  isFlaggedFraud  \n",
       "3019524            0.00               0  \n",
       "1012167            0.00               0  \n",
       "5551834      5295716.81               0  \n",
       "2081309       167480.81               0  \n",
       "4457939      3443248.87               0  \n",
       "...                 ...             ...  \n",
       "2249467       511450.47               0  \n",
       "5157699       257266.97               0  \n",
       "2215104       196335.36               0  \n",
       "1484405      2063191.99               0  \n",
       "4500015       305942.52               0  \n",
       "\n",
       "[4453834 rows x 8 columns]"
      ]
     },
     "execution_count": 30,
     "metadata": {},
     "output_type": "execute_result"
    }
   ],
   "source": [
    "X_train"
   ]
  },
  {
   "cell_type": "code",
   "execution_count": 31,
   "id": "85661489",
   "metadata": {},
   "outputs": [
    {
     "data": {
      "text/html": [
       "<div>\n",
       "<style scoped>\n",
       "    .dataframe tbody tr th:only-of-type {\n",
       "        vertical-align: middle;\n",
       "    }\n",
       "\n",
       "    .dataframe tbody tr th {\n",
       "        vertical-align: top;\n",
       "    }\n",
       "\n",
       "    .dataframe thead th {\n",
       "        text-align: right;\n",
       "    }\n",
       "</style>\n",
       "<table border=\"1\" class=\"dataframe\">\n",
       "  <thead>\n",
       "    <tr style=\"text-align: right;\">\n",
       "      <th></th>\n",
       "      <th>isFraud</th>\n",
       "    </tr>\n",
       "  </thead>\n",
       "  <tbody>\n",
       "    <tr>\n",
       "      <th>3019524</th>\n",
       "      <td>0</td>\n",
       "    </tr>\n",
       "    <tr>\n",
       "      <th>1012167</th>\n",
       "      <td>0</td>\n",
       "    </tr>\n",
       "    <tr>\n",
       "      <th>5551834</th>\n",
       "      <td>0</td>\n",
       "    </tr>\n",
       "    <tr>\n",
       "      <th>2081309</th>\n",
       "      <td>0</td>\n",
       "    </tr>\n",
       "    <tr>\n",
       "      <th>4457939</th>\n",
       "      <td>0</td>\n",
       "    </tr>\n",
       "    <tr>\n",
       "      <th>...</th>\n",
       "      <td>...</td>\n",
       "    </tr>\n",
       "    <tr>\n",
       "      <th>2249467</th>\n",
       "      <td>0</td>\n",
       "    </tr>\n",
       "    <tr>\n",
       "      <th>5157699</th>\n",
       "      <td>0</td>\n",
       "    </tr>\n",
       "    <tr>\n",
       "      <th>2215104</th>\n",
       "      <td>0</td>\n",
       "    </tr>\n",
       "    <tr>\n",
       "      <th>1484405</th>\n",
       "      <td>0</td>\n",
       "    </tr>\n",
       "    <tr>\n",
       "      <th>4500015</th>\n",
       "      <td>0</td>\n",
       "    </tr>\n",
       "  </tbody>\n",
       "</table>\n",
       "<p>4453834 rows × 1 columns</p>\n",
       "</div>"
      ],
      "text/plain": [
       "         isFraud\n",
       "3019524        0\n",
       "1012167        0\n",
       "5551834        0\n",
       "2081309        0\n",
       "4457939        0\n",
       "...          ...\n",
       "2249467        0\n",
       "5157699        0\n",
       "2215104        0\n",
       "1484405        0\n",
       "4500015        0\n",
       "\n",
       "[4453834 rows x 1 columns]"
      ]
     },
     "execution_count": 31,
     "metadata": {},
     "output_type": "execute_result"
    }
   ],
   "source": [
    "y_train"
   ]
  },
  {
   "cell_type": "code",
   "execution_count": 32,
   "id": "da75189a",
   "metadata": {},
   "outputs": [],
   "source": [
    "train = pd.concat([X_train,y_train],axis=1)"
   ]
  },
  {
   "cell_type": "code",
   "execution_count": 33,
   "id": "ae5f1eee",
   "metadata": {},
   "outputs": [
    {
     "data": {
      "text/html": [
       "<div>\n",
       "<style scoped>\n",
       "    .dataframe tbody tr th:only-of-type {\n",
       "        vertical-align: middle;\n",
       "    }\n",
       "\n",
       "    .dataframe tbody tr th {\n",
       "        vertical-align: top;\n",
       "    }\n",
       "\n",
       "    .dataframe thead th {\n",
       "        text-align: right;\n",
       "    }\n",
       "</style>\n",
       "<table border=\"1\" class=\"dataframe\">\n",
       "  <thead>\n",
       "    <tr style=\"text-align: right;\">\n",
       "      <th></th>\n",
       "      <th>step</th>\n",
       "      <th>type</th>\n",
       "      <th>amount</th>\n",
       "      <th>oldbalanceOrg</th>\n",
       "      <th>newbalanceOrig</th>\n",
       "      <th>oldbalanceDest</th>\n",
       "      <th>newbalanceDest</th>\n",
       "      <th>isFlaggedFraud</th>\n",
       "      <th>isFraud</th>\n",
       "    </tr>\n",
       "  </thead>\n",
       "  <tbody>\n",
       "    <tr>\n",
       "      <th>3019524</th>\n",
       "      <td>17</td>\n",
       "      <td>3</td>\n",
       "      <td>15595.97</td>\n",
       "      <td>0.00</td>\n",
       "      <td>0.00</td>\n",
       "      <td>0.00</td>\n",
       "      <td>0.00</td>\n",
       "      <td>0</td>\n",
       "      <td>0</td>\n",
       "    </tr>\n",
       "    <tr>\n",
       "      <th>1012167</th>\n",
       "      <td>22</td>\n",
       "      <td>3</td>\n",
       "      <td>7613.14</td>\n",
       "      <td>90120.00</td>\n",
       "      <td>82506.86</td>\n",
       "      <td>0.00</td>\n",
       "      <td>0.00</td>\n",
       "      <td>0</td>\n",
       "      <td>0</td>\n",
       "    </tr>\n",
       "    <tr>\n",
       "      <th>5551834</th>\n",
       "      <td>23</td>\n",
       "      <td>4</td>\n",
       "      <td>767351.67</td>\n",
       "      <td>0.00</td>\n",
       "      <td>0.00</td>\n",
       "      <td>4528365.13</td>\n",
       "      <td>5295716.81</td>\n",
       "      <td>0</td>\n",
       "      <td>0</td>\n",
       "    </tr>\n",
       "    <tr>\n",
       "      <th>2081309</th>\n",
       "      <td>14</td>\n",
       "      <td>1</td>\n",
       "      <td>167480.81</td>\n",
       "      <td>1293445.15</td>\n",
       "      <td>1125964.33</td>\n",
       "      <td>0.00</td>\n",
       "      <td>167480.81</td>\n",
       "      <td>0</td>\n",
       "      <td>0</td>\n",
       "    </tr>\n",
       "    <tr>\n",
       "      <th>4457939</th>\n",
       "      <td>11</td>\n",
       "      <td>1</td>\n",
       "      <td>200937.21</td>\n",
       "      <td>104248.00</td>\n",
       "      <td>0.00</td>\n",
       "      <td>3242311.66</td>\n",
       "      <td>3443248.87</td>\n",
       "      <td>0</td>\n",
       "      <td>0</td>\n",
       "    </tr>\n",
       "    <tr>\n",
       "      <th>...</th>\n",
       "      <td>...</td>\n",
       "      <td>...</td>\n",
       "      <td>...</td>\n",
       "      <td>...</td>\n",
       "      <td>...</td>\n",
       "      <td>...</td>\n",
       "      <td>...</td>\n",
       "      <td>...</td>\n",
       "      <td>...</td>\n",
       "    </tr>\n",
       "    <tr>\n",
       "      <th>2249467</th>\n",
       "      <td>19</td>\n",
       "      <td>1</td>\n",
       "      <td>113691.83</td>\n",
       "      <td>4231.00</td>\n",
       "      <td>0.00</td>\n",
       "      <td>397758.64</td>\n",
       "      <td>511450.47</td>\n",
       "      <td>0</td>\n",
       "      <td>0</td>\n",
       "    </tr>\n",
       "    <tr>\n",
       "      <th>5157699</th>\n",
       "      <td>21</td>\n",
       "      <td>1</td>\n",
       "      <td>3891.96</td>\n",
       "      <td>20146.00</td>\n",
       "      <td>16254.04</td>\n",
       "      <td>253375.00</td>\n",
       "      <td>257266.97</td>\n",
       "      <td>0</td>\n",
       "      <td>0</td>\n",
       "    </tr>\n",
       "    <tr>\n",
       "      <th>2215104</th>\n",
       "      <td>18</td>\n",
       "      <td>0</td>\n",
       "      <td>79840.52</td>\n",
       "      <td>10152925.86</td>\n",
       "      <td>10232766.38</td>\n",
       "      <td>276175.87</td>\n",
       "      <td>196335.36</td>\n",
       "      <td>0</td>\n",
       "      <td>0</td>\n",
       "    </tr>\n",
       "    <tr>\n",
       "      <th>1484405</th>\n",
       "      <td>21</td>\n",
       "      <td>0</td>\n",
       "      <td>568604.50</td>\n",
       "      <td>1081784.28</td>\n",
       "      <td>1650388.77</td>\n",
       "      <td>2631796.49</td>\n",
       "      <td>2063191.99</td>\n",
       "      <td>0</td>\n",
       "      <td>0</td>\n",
       "    </tr>\n",
       "    <tr>\n",
       "      <th>4500015</th>\n",
       "      <td>13</td>\n",
       "      <td>0</td>\n",
       "      <td>147782.18</td>\n",
       "      <td>4059.00</td>\n",
       "      <td>151841.18</td>\n",
       "      <td>453724.69</td>\n",
       "      <td>305942.52</td>\n",
       "      <td>0</td>\n",
       "      <td>0</td>\n",
       "    </tr>\n",
       "  </tbody>\n",
       "</table>\n",
       "<p>4453834 rows × 9 columns</p>\n",
       "</div>"
      ],
      "text/plain": [
       "         step  type     amount  oldbalanceOrg  newbalanceOrig  oldbalanceDest  \\\n",
       "3019524    17     3   15595.97           0.00            0.00            0.00   \n",
       "1012167    22     3    7613.14       90120.00        82506.86            0.00   \n",
       "5551834    23     4  767351.67           0.00            0.00      4528365.13   \n",
       "2081309    14     1  167480.81     1293445.15      1125964.33            0.00   \n",
       "4457939    11     1  200937.21      104248.00            0.00      3242311.66   \n",
       "...       ...   ...        ...            ...             ...             ...   \n",
       "2249467    19     1  113691.83        4231.00            0.00       397758.64   \n",
       "5157699    21     1    3891.96       20146.00        16254.04       253375.00   \n",
       "2215104    18     0   79840.52    10152925.86     10232766.38       276175.87   \n",
       "1484405    21     0  568604.50     1081784.28      1650388.77      2631796.49   \n",
       "4500015    13     0  147782.18        4059.00       151841.18       453724.69   \n",
       "\n",
       "         newbalanceDest  isFlaggedFraud  isFraud  \n",
       "3019524            0.00               0        0  \n",
       "1012167            0.00               0        0  \n",
       "5551834      5295716.81               0        0  \n",
       "2081309       167480.81               0        0  \n",
       "4457939      3443248.87               0        0  \n",
       "...                 ...             ...      ...  \n",
       "2249467       511450.47               0        0  \n",
       "5157699       257266.97               0        0  \n",
       "2215104       196335.36               0        0  \n",
       "1484405      2063191.99               0        0  \n",
       "4500015       305942.52               0        0  \n",
       "\n",
       "[4453834 rows x 9 columns]"
      ]
     },
     "execution_count": 33,
     "metadata": {},
     "output_type": "execute_result"
    }
   ],
   "source": [
    "train"
   ]
  },
  {
   "cell_type": "code",
   "execution_count": 34,
   "id": "bfb2ab43",
   "metadata": {},
   "outputs": [
    {
     "name": "stdout",
     "output_type": "stream",
     "text": [
      "0    4448040\n",
      "1       5794\n",
      "Name: isFraud, dtype: int64\n"
     ]
    }
   ],
   "source": [
    "print(train.isFraud.value_counts())"
   ]
  },
  {
   "cell_type": "code",
   "execution_count": 35,
   "id": "c1ce6e02",
   "metadata": {},
   "outputs": [],
   "source": [
    "train_legit = train[train.isFraud == 0]\n",
    "train_fraud = train[train.isFraud == 1]"
   ]
  },
  {
   "cell_type": "code",
   "execution_count": 36,
   "id": "4c97d403",
   "metadata": {},
   "outputs": [],
   "source": [
    "train_legit_undersampled = train_legit.sample(5794)"
   ]
  },
  {
   "cell_type": "code",
   "execution_count": 37,
   "id": "18cb7a1b",
   "metadata": {},
   "outputs": [],
   "source": [
    "train_undersampled = pd.concat([train_legit_undersampled,train_fraud],axis=0)"
   ]
  },
  {
   "cell_type": "code",
   "execution_count": 38,
   "id": "43d52e2f",
   "metadata": {},
   "outputs": [
    {
     "name": "stdout",
     "output_type": "stream",
     "text": [
      "Train Set Under Sampling\n",
      "0    5794\n",
      "1    5794\n",
      "Name: isFraud, dtype: int64\n"
     ]
    }
   ],
   "source": [
    "print('Train Set Under Sampling')\n",
    "print(train_undersampled.isFraud.value_counts())"
   ]
  },
  {
   "cell_type": "code",
   "execution_count": 39,
   "id": "9cead5c7",
   "metadata": {},
   "outputs": [],
   "source": [
    "X_train = train_undersampled.drop(['isFraud'],axis=1)\n",
    "y_train = train_undersampled['isFraud']"
   ]
  },
  {
   "cell_type": "code",
   "execution_count": 40,
   "id": "2949e343",
   "metadata": {},
   "outputs": [
    {
     "data": {
      "text/plain": [
       "0    5794\n",
       "1    5794\n",
       "Name: isFraud, dtype: int64"
      ]
     },
     "execution_count": 40,
     "metadata": {},
     "output_type": "execute_result"
    }
   ],
   "source": [
    "y_train.value_counts()"
   ]
  },
  {
   "cell_type": "code",
   "execution_count": 41,
   "id": "8a8ae7a2",
   "metadata": {},
   "outputs": [
    {
     "data": {
      "text/html": [
       "<style>#sk-container-id-1 {color: black;background-color: white;}#sk-container-id-1 pre{padding: 0;}#sk-container-id-1 div.sk-toggleable {background-color: white;}#sk-container-id-1 label.sk-toggleable__label {cursor: pointer;display: block;width: 100%;margin-bottom: 0;padding: 0.3em;box-sizing: border-box;text-align: center;}#sk-container-id-1 label.sk-toggleable__label-arrow:before {content: \"▸\";float: left;margin-right: 0.25em;color: #696969;}#sk-container-id-1 label.sk-toggleable__label-arrow:hover:before {color: black;}#sk-container-id-1 div.sk-estimator:hover label.sk-toggleable__label-arrow:before {color: black;}#sk-container-id-1 div.sk-toggleable__content {max-height: 0;max-width: 0;overflow: hidden;text-align: left;background-color: #f0f8ff;}#sk-container-id-1 div.sk-toggleable__content pre {margin: 0.2em;color: black;border-radius: 0.25em;background-color: #f0f8ff;}#sk-container-id-1 input.sk-toggleable__control:checked~div.sk-toggleable__content {max-height: 200px;max-width: 100%;overflow: auto;}#sk-container-id-1 input.sk-toggleable__control:checked~label.sk-toggleable__label-arrow:before {content: \"▾\";}#sk-container-id-1 div.sk-estimator input.sk-toggleable__control:checked~label.sk-toggleable__label {background-color: #d4ebff;}#sk-container-id-1 div.sk-label input.sk-toggleable__control:checked~label.sk-toggleable__label {background-color: #d4ebff;}#sk-container-id-1 input.sk-hidden--visually {border: 0;clip: rect(1px 1px 1px 1px);clip: rect(1px, 1px, 1px, 1px);height: 1px;margin: -1px;overflow: hidden;padding: 0;position: absolute;width: 1px;}#sk-container-id-1 div.sk-estimator {font-family: monospace;background-color: #f0f8ff;border: 1px dotted black;border-radius: 0.25em;box-sizing: border-box;margin-bottom: 0.5em;}#sk-container-id-1 div.sk-estimator:hover {background-color: #d4ebff;}#sk-container-id-1 div.sk-parallel-item::after {content: \"\";width: 100%;border-bottom: 1px solid gray;flex-grow: 1;}#sk-container-id-1 div.sk-label:hover label.sk-toggleable__label {background-color: #d4ebff;}#sk-container-id-1 div.sk-serial::before {content: \"\";position: absolute;border-left: 1px solid gray;box-sizing: border-box;top: 0;bottom: 0;left: 50%;z-index: 0;}#sk-container-id-1 div.sk-serial {display: flex;flex-direction: column;align-items: center;background-color: white;padding-right: 0.2em;padding-left: 0.2em;position: relative;}#sk-container-id-1 div.sk-item {position: relative;z-index: 1;}#sk-container-id-1 div.sk-parallel {display: flex;align-items: stretch;justify-content: center;background-color: white;position: relative;}#sk-container-id-1 div.sk-item::before, #sk-container-id-1 div.sk-parallel-item::before {content: \"\";position: absolute;border-left: 1px solid gray;box-sizing: border-box;top: 0;bottom: 0;left: 50%;z-index: -1;}#sk-container-id-1 div.sk-parallel-item {display: flex;flex-direction: column;z-index: 1;position: relative;background-color: white;}#sk-container-id-1 div.sk-parallel-item:first-child::after {align-self: flex-end;width: 50%;}#sk-container-id-1 div.sk-parallel-item:last-child::after {align-self: flex-start;width: 50%;}#sk-container-id-1 div.sk-parallel-item:only-child::after {width: 0;}#sk-container-id-1 div.sk-dashed-wrapped {border: 1px dashed gray;margin: 0 0.4em 0.5em 0.4em;box-sizing: border-box;padding-bottom: 0.4em;background-color: white;}#sk-container-id-1 div.sk-label label {font-family: monospace;font-weight: bold;display: inline-block;line-height: 1.2em;}#sk-container-id-1 div.sk-label-container {text-align: center;}#sk-container-id-1 div.sk-container {/* jupyter's `normalize.less` sets `[hidden] { display: none; }` but bootstrap.min.css set `[hidden] { display: none !important; }` so we also need the `!important` here to be able to override the default hidden behavior on the sphinx rendered scikit-learn.org. See: https://github.com/scikit-learn/scikit-learn/issues/21755 */display: inline-block !important;position: relative;}#sk-container-id-1 div.sk-text-repr-fallback {display: none;}</style><div id=\"sk-container-id-1\" class=\"sk-top-container\"><div class=\"sk-text-repr-fallback\"><pre>LogisticRegression()</pre><b>In a Jupyter environment, please rerun this cell to show the HTML representation or trust the notebook. <br />On GitHub, the HTML representation is unable to render, please try loading this page with nbviewer.org.</b></div><div class=\"sk-container\" hidden><div class=\"sk-item\"><div class=\"sk-estimator sk-toggleable\"><input class=\"sk-toggleable__control sk-hidden--visually\" id=\"sk-estimator-id-1\" type=\"checkbox\" checked><label for=\"sk-estimator-id-1\" class=\"sk-toggleable__label sk-toggleable__label-arrow\">LogisticRegression</label><div class=\"sk-toggleable__content\"><pre>LogisticRegression()</pre></div></div></div></div></div>"
      ],
      "text/plain": [
       "LogisticRegression()"
      ]
     },
     "execution_count": 41,
     "metadata": {},
     "output_type": "execute_result"
    }
   ],
   "source": [
    "model.fit(X_train,y_train)"
   ]
  },
  {
   "cell_type": "code",
   "execution_count": 42,
   "id": "fb90e303",
   "metadata": {},
   "outputs": [],
   "source": [
    "from sklearn.metrics import classification_report, confusion_matrix"
   ]
  },
  {
   "cell_type": "code",
   "execution_count": 43,
   "id": "a2f4a75b",
   "metadata": {},
   "outputs": [],
   "source": [
    "y_predict = model.predict(X_test)"
   ]
  },
  {
   "cell_type": "markdown",
   "id": "02d9ef04",
   "metadata": {},
   "source": [
    "### As we can observe the F-1 score for random undersampling , we can say that it is not optimal for logistic regression model"
   ]
  },
  {
   "cell_type": "code",
   "execution_count": 44,
   "id": "c5714cbc",
   "metadata": {},
   "outputs": [
    {
     "name": "stdout",
     "output_type": "stream",
     "text": [
      "              precision    recall  f1-score   support\n",
      "\n",
      "           0       1.00      0.67      0.80   1906367\n",
      "           1       0.00      0.98      0.01      2419\n",
      "\n",
      "    accuracy                           0.67   1908786\n",
      "   macro avg       0.50      0.82      0.40   1908786\n",
      "weighted avg       1.00      0.67      0.80   1908786\n",
      "\n"
     ]
    }
   ],
   "source": [
    "print(classification_report(y_test, y_predict))"
   ]
  },
  {
   "cell_type": "markdown",
   "id": "b7031cd8",
   "metadata": {},
   "source": [
    "## RANDOM OVERSAMPLING"
   ]
  },
  {
   "cell_type": "code",
   "execution_count": null,
   "id": "3a729272",
   "metadata": {},
   "outputs": [],
   "source": [
    "#df['step'] = df[\"step\"].mod(24)"
   ]
  },
  {
   "cell_type": "code",
   "execution_count": 8,
   "id": "83940421",
   "metadata": {},
   "outputs": [],
   "source": [
    "X = df.drop(['isFraud'],axis=1)\n",
    "y = df['isFraud']"
   ]
  },
  {
   "cell_type": "code",
   "execution_count": 9,
   "id": "b0df07a8",
   "metadata": {},
   "outputs": [],
   "source": [
    "from sklearn.preprocessing import LabelEncoder\n",
    "le = LabelEncoder()\n",
    "var = X.select_dtypes(include='object').columns\n",
    "for i in var:\n",
    "    X[i] = le.fit_transform(X[i])"
   ]
  },
  {
   "cell_type": "code",
   "execution_count": 12,
   "id": "dd8ba86d",
   "metadata": {},
   "outputs": [],
   "source": [
    "X_train , X_test , y_train , y_test = train_test_split(X,y, test_size=0.30 , random_state=0)"
   ]
  },
  {
   "cell_type": "code",
   "execution_count": 69,
   "id": "7a262e7f",
   "metadata": {},
   "outputs": [],
   "source": [
    "X_train = pd.DataFrame(X_train)"
   ]
  },
  {
   "cell_type": "code",
   "execution_count": 70,
   "id": "3e0d7296",
   "metadata": {},
   "outputs": [],
   "source": [
    "y_train = pd.DataFrame(y_train)"
   ]
  },
  {
   "cell_type": "code",
   "execution_count": 71,
   "id": "df23946e",
   "metadata": {},
   "outputs": [],
   "source": [
    "train = pd.concat([X_train,y_train],axis=1)"
   ]
  },
  {
   "cell_type": "code",
   "execution_count": 72,
   "id": "3718bece",
   "metadata": {},
   "outputs": [
    {
     "data": {
      "text/html": [
       "<div>\n",
       "<style scoped>\n",
       "    .dataframe tbody tr th:only-of-type {\n",
       "        vertical-align: middle;\n",
       "    }\n",
       "\n",
       "    .dataframe tbody tr th {\n",
       "        vertical-align: top;\n",
       "    }\n",
       "\n",
       "    .dataframe thead th {\n",
       "        text-align: right;\n",
       "    }\n",
       "</style>\n",
       "<table border=\"1\" class=\"dataframe\">\n",
       "  <thead>\n",
       "    <tr style=\"text-align: right;\">\n",
       "      <th></th>\n",
       "      <th>step</th>\n",
       "      <th>type</th>\n",
       "      <th>amount</th>\n",
       "      <th>oldbalanceOrg</th>\n",
       "      <th>newbalanceOrig</th>\n",
       "      <th>oldbalanceDest</th>\n",
       "      <th>newbalanceDest</th>\n",
       "      <th>isFlaggedFraud</th>\n",
       "      <th>isFraud</th>\n",
       "    </tr>\n",
       "  </thead>\n",
       "  <tbody>\n",
       "    <tr>\n",
       "      <th>3019524</th>\n",
       "      <td>17</td>\n",
       "      <td>3</td>\n",
       "      <td>15595.97</td>\n",
       "      <td>0.00</td>\n",
       "      <td>0.00</td>\n",
       "      <td>0.00</td>\n",
       "      <td>0.00</td>\n",
       "      <td>0</td>\n",
       "      <td>0</td>\n",
       "    </tr>\n",
       "    <tr>\n",
       "      <th>1012167</th>\n",
       "      <td>22</td>\n",
       "      <td>3</td>\n",
       "      <td>7613.14</td>\n",
       "      <td>90120.00</td>\n",
       "      <td>82506.86</td>\n",
       "      <td>0.00</td>\n",
       "      <td>0.00</td>\n",
       "      <td>0</td>\n",
       "      <td>0</td>\n",
       "    </tr>\n",
       "    <tr>\n",
       "      <th>5551834</th>\n",
       "      <td>23</td>\n",
       "      <td>4</td>\n",
       "      <td>767351.67</td>\n",
       "      <td>0.00</td>\n",
       "      <td>0.00</td>\n",
       "      <td>4528365.13</td>\n",
       "      <td>5295716.81</td>\n",
       "      <td>0</td>\n",
       "      <td>0</td>\n",
       "    </tr>\n",
       "    <tr>\n",
       "      <th>2081309</th>\n",
       "      <td>14</td>\n",
       "      <td>1</td>\n",
       "      <td>167480.81</td>\n",
       "      <td>1293445.15</td>\n",
       "      <td>1125964.33</td>\n",
       "      <td>0.00</td>\n",
       "      <td>167480.81</td>\n",
       "      <td>0</td>\n",
       "      <td>0</td>\n",
       "    </tr>\n",
       "    <tr>\n",
       "      <th>4457939</th>\n",
       "      <td>11</td>\n",
       "      <td>1</td>\n",
       "      <td>200937.21</td>\n",
       "      <td>104248.00</td>\n",
       "      <td>0.00</td>\n",
       "      <td>3242311.66</td>\n",
       "      <td>3443248.87</td>\n",
       "      <td>0</td>\n",
       "      <td>0</td>\n",
       "    </tr>\n",
       "    <tr>\n",
       "      <th>...</th>\n",
       "      <td>...</td>\n",
       "      <td>...</td>\n",
       "      <td>...</td>\n",
       "      <td>...</td>\n",
       "      <td>...</td>\n",
       "      <td>...</td>\n",
       "      <td>...</td>\n",
       "      <td>...</td>\n",
       "      <td>...</td>\n",
       "    </tr>\n",
       "    <tr>\n",
       "      <th>2249467</th>\n",
       "      <td>19</td>\n",
       "      <td>1</td>\n",
       "      <td>113691.83</td>\n",
       "      <td>4231.00</td>\n",
       "      <td>0.00</td>\n",
       "      <td>397758.64</td>\n",
       "      <td>511450.47</td>\n",
       "      <td>0</td>\n",
       "      <td>0</td>\n",
       "    </tr>\n",
       "    <tr>\n",
       "      <th>5157699</th>\n",
       "      <td>21</td>\n",
       "      <td>1</td>\n",
       "      <td>3891.96</td>\n",
       "      <td>20146.00</td>\n",
       "      <td>16254.04</td>\n",
       "      <td>253375.00</td>\n",
       "      <td>257266.97</td>\n",
       "      <td>0</td>\n",
       "      <td>0</td>\n",
       "    </tr>\n",
       "    <tr>\n",
       "      <th>2215104</th>\n",
       "      <td>18</td>\n",
       "      <td>0</td>\n",
       "      <td>79840.52</td>\n",
       "      <td>10152925.86</td>\n",
       "      <td>10232766.38</td>\n",
       "      <td>276175.87</td>\n",
       "      <td>196335.36</td>\n",
       "      <td>0</td>\n",
       "      <td>0</td>\n",
       "    </tr>\n",
       "    <tr>\n",
       "      <th>1484405</th>\n",
       "      <td>21</td>\n",
       "      <td>0</td>\n",
       "      <td>568604.50</td>\n",
       "      <td>1081784.28</td>\n",
       "      <td>1650388.77</td>\n",
       "      <td>2631796.49</td>\n",
       "      <td>2063191.99</td>\n",
       "      <td>0</td>\n",
       "      <td>0</td>\n",
       "    </tr>\n",
       "    <tr>\n",
       "      <th>4500015</th>\n",
       "      <td>13</td>\n",
       "      <td>0</td>\n",
       "      <td>147782.18</td>\n",
       "      <td>4059.00</td>\n",
       "      <td>151841.18</td>\n",
       "      <td>453724.69</td>\n",
       "      <td>305942.52</td>\n",
       "      <td>0</td>\n",
       "      <td>0</td>\n",
       "    </tr>\n",
       "  </tbody>\n",
       "</table>\n",
       "<p>4453834 rows × 9 columns</p>\n",
       "</div>"
      ],
      "text/plain": [
       "         step  type     amount  oldbalanceOrg  newbalanceOrig  oldbalanceDest  \\\n",
       "3019524    17     3   15595.97           0.00            0.00            0.00   \n",
       "1012167    22     3    7613.14       90120.00        82506.86            0.00   \n",
       "5551834    23     4  767351.67           0.00            0.00      4528365.13   \n",
       "2081309    14     1  167480.81     1293445.15      1125964.33            0.00   \n",
       "4457939    11     1  200937.21      104248.00            0.00      3242311.66   \n",
       "...       ...   ...        ...            ...             ...             ...   \n",
       "2249467    19     1  113691.83        4231.00            0.00       397758.64   \n",
       "5157699    21     1    3891.96       20146.00        16254.04       253375.00   \n",
       "2215104    18     0   79840.52    10152925.86     10232766.38       276175.87   \n",
       "1484405    21     0  568604.50     1081784.28      1650388.77      2631796.49   \n",
       "4500015    13     0  147782.18        4059.00       151841.18       453724.69   \n",
       "\n",
       "         newbalanceDest  isFlaggedFraud  isFraud  \n",
       "3019524            0.00               0        0  \n",
       "1012167            0.00               0        0  \n",
       "5551834      5295716.81               0        0  \n",
       "2081309       167480.81               0        0  \n",
       "4457939      3443248.87               0        0  \n",
       "...                 ...             ...      ...  \n",
       "2249467       511450.47               0        0  \n",
       "5157699       257266.97               0        0  \n",
       "2215104       196335.36               0        0  \n",
       "1484405      2063191.99               0        0  \n",
       "4500015       305942.52               0        0  \n",
       "\n",
       "[4453834 rows x 9 columns]"
      ]
     },
     "execution_count": 72,
     "metadata": {},
     "output_type": "execute_result"
    }
   ],
   "source": [
    "train"
   ]
  },
  {
   "cell_type": "code",
   "execution_count": 73,
   "id": "6406f1e4",
   "metadata": {},
   "outputs": [
    {
     "name": "stdout",
     "output_type": "stream",
     "text": [
      "0    4448040\n",
      "1       5794\n",
      "Name: isFraud, dtype: int64\n"
     ]
    }
   ],
   "source": [
    "print(train.isFraud.value_counts())"
   ]
  },
  {
   "cell_type": "code",
   "execution_count": 74,
   "id": "4b135666",
   "metadata": {},
   "outputs": [],
   "source": [
    "train_legit = train[train.isFraud == 0]\n",
    "train_fraud = train[train.isFraud == 1]"
   ]
  },
  {
   "cell_type": "code",
   "execution_count": 75,
   "id": "410eabc4",
   "metadata": {},
   "outputs": [],
   "source": [
    "train_fraud_oversampled = train_fraud.sample(4448040,replace=True)"
   ]
  },
  {
   "cell_type": "code",
   "execution_count": 76,
   "id": "d158738d",
   "metadata": {},
   "outputs": [],
   "source": [
    "train_oversampled = pd.concat([train_legit,train_fraud_oversampled],axis=0)"
   ]
  },
  {
   "cell_type": "code",
   "execution_count": 77,
   "id": "a464eb43",
   "metadata": {},
   "outputs": [
    {
     "name": "stdout",
     "output_type": "stream",
     "text": [
      "Train Set Over Sampling\n",
      "0    4448040\n",
      "1    4448040\n",
      "Name: isFraud, dtype: int64\n"
     ]
    }
   ],
   "source": [
    "print('Train Set Over Sampling')\n",
    "print(train_oversampled.isFraud.value_counts())"
   ]
  },
  {
   "cell_type": "code",
   "execution_count": 78,
   "id": "d77cbaa8",
   "metadata": {},
   "outputs": [],
   "source": [
    "X_train_os = train_oversampled.drop(['isFraud'],axis=1)\n",
    "y_train_os = train_oversampled['isFraud']"
   ]
  },
  {
   "cell_type": "code",
   "execution_count": 79,
   "id": "a59c6e05",
   "metadata": {},
   "outputs": [
    {
     "data": {
      "text/plain": [
       "0    4448040\n",
       "1    4448040\n",
       "Name: isFraud, dtype: int64"
      ]
     },
     "execution_count": 79,
     "metadata": {},
     "output_type": "execute_result"
    }
   ],
   "source": [
    "y_train_os.value_counts()"
   ]
  },
  {
   "cell_type": "code",
   "execution_count": 80,
   "id": "a0e910bc",
   "metadata": {},
   "outputs": [
    {
     "data": {
      "text/html": [
       "<style>#sk-container-id-3 {color: black;background-color: white;}#sk-container-id-3 pre{padding: 0;}#sk-container-id-3 div.sk-toggleable {background-color: white;}#sk-container-id-3 label.sk-toggleable__label {cursor: pointer;display: block;width: 100%;margin-bottom: 0;padding: 0.3em;box-sizing: border-box;text-align: center;}#sk-container-id-3 label.sk-toggleable__label-arrow:before {content: \"▸\";float: left;margin-right: 0.25em;color: #696969;}#sk-container-id-3 label.sk-toggleable__label-arrow:hover:before {color: black;}#sk-container-id-3 div.sk-estimator:hover label.sk-toggleable__label-arrow:before {color: black;}#sk-container-id-3 div.sk-toggleable__content {max-height: 0;max-width: 0;overflow: hidden;text-align: left;background-color: #f0f8ff;}#sk-container-id-3 div.sk-toggleable__content pre {margin: 0.2em;color: black;border-radius: 0.25em;background-color: #f0f8ff;}#sk-container-id-3 input.sk-toggleable__control:checked~div.sk-toggleable__content {max-height: 200px;max-width: 100%;overflow: auto;}#sk-container-id-3 input.sk-toggleable__control:checked~label.sk-toggleable__label-arrow:before {content: \"▾\";}#sk-container-id-3 div.sk-estimator input.sk-toggleable__control:checked~label.sk-toggleable__label {background-color: #d4ebff;}#sk-container-id-3 div.sk-label input.sk-toggleable__control:checked~label.sk-toggleable__label {background-color: #d4ebff;}#sk-container-id-3 input.sk-hidden--visually {border: 0;clip: rect(1px 1px 1px 1px);clip: rect(1px, 1px, 1px, 1px);height: 1px;margin: -1px;overflow: hidden;padding: 0;position: absolute;width: 1px;}#sk-container-id-3 div.sk-estimator {font-family: monospace;background-color: #f0f8ff;border: 1px dotted black;border-radius: 0.25em;box-sizing: border-box;margin-bottom: 0.5em;}#sk-container-id-3 div.sk-estimator:hover {background-color: #d4ebff;}#sk-container-id-3 div.sk-parallel-item::after {content: \"\";width: 100%;border-bottom: 1px solid gray;flex-grow: 1;}#sk-container-id-3 div.sk-label:hover label.sk-toggleable__label {background-color: #d4ebff;}#sk-container-id-3 div.sk-serial::before {content: \"\";position: absolute;border-left: 1px solid gray;box-sizing: border-box;top: 0;bottom: 0;left: 50%;z-index: 0;}#sk-container-id-3 div.sk-serial {display: flex;flex-direction: column;align-items: center;background-color: white;padding-right: 0.2em;padding-left: 0.2em;position: relative;}#sk-container-id-3 div.sk-item {position: relative;z-index: 1;}#sk-container-id-3 div.sk-parallel {display: flex;align-items: stretch;justify-content: center;background-color: white;position: relative;}#sk-container-id-3 div.sk-item::before, #sk-container-id-3 div.sk-parallel-item::before {content: \"\";position: absolute;border-left: 1px solid gray;box-sizing: border-box;top: 0;bottom: 0;left: 50%;z-index: -1;}#sk-container-id-3 div.sk-parallel-item {display: flex;flex-direction: column;z-index: 1;position: relative;background-color: white;}#sk-container-id-3 div.sk-parallel-item:first-child::after {align-self: flex-end;width: 50%;}#sk-container-id-3 div.sk-parallel-item:last-child::after {align-self: flex-start;width: 50%;}#sk-container-id-3 div.sk-parallel-item:only-child::after {width: 0;}#sk-container-id-3 div.sk-dashed-wrapped {border: 1px dashed gray;margin: 0 0.4em 0.5em 0.4em;box-sizing: border-box;padding-bottom: 0.4em;background-color: white;}#sk-container-id-3 div.sk-label label {font-family: monospace;font-weight: bold;display: inline-block;line-height: 1.2em;}#sk-container-id-3 div.sk-label-container {text-align: center;}#sk-container-id-3 div.sk-container {/* jupyter's `normalize.less` sets `[hidden] { display: none; }` but bootstrap.min.css set `[hidden] { display: none !important; }` so we also need the `!important` here to be able to override the default hidden behavior on the sphinx rendered scikit-learn.org. See: https://github.com/scikit-learn/scikit-learn/issues/21755 */display: inline-block !important;position: relative;}#sk-container-id-3 div.sk-text-repr-fallback {display: none;}</style><div id=\"sk-container-id-3\" class=\"sk-top-container\"><div class=\"sk-text-repr-fallback\"><pre>LogisticRegression()</pre><b>In a Jupyter environment, please rerun this cell to show the HTML representation or trust the notebook. <br />On GitHub, the HTML representation is unable to render, please try loading this page with nbviewer.org.</b></div><div class=\"sk-container\" hidden><div class=\"sk-item\"><div class=\"sk-estimator sk-toggleable\"><input class=\"sk-toggleable__control sk-hidden--visually\" id=\"sk-estimator-id-3\" type=\"checkbox\" checked><label for=\"sk-estimator-id-3\" class=\"sk-toggleable__label sk-toggleable__label-arrow\">LogisticRegression</label><div class=\"sk-toggleable__content\"><pre>LogisticRegression()</pre></div></div></div></div></div>"
      ],
      "text/plain": [
       "LogisticRegression()"
      ]
     },
     "execution_count": 80,
     "metadata": {},
     "output_type": "execute_result"
    }
   ],
   "source": [
    "model.fit(X_train_os,y_train_os)"
   ]
  },
  {
   "cell_type": "code",
   "execution_count": 81,
   "id": "bb0940fe",
   "metadata": {},
   "outputs": [],
   "source": [
    "y_predict = model.predict(X_test)"
   ]
  },
  {
   "cell_type": "markdown",
   "id": "6b77332d",
   "metadata": {},
   "source": [
    "### As we can observe the F-1 score for random oversampling , we can say that it is not optimal for logistic regression model"
   ]
  },
  {
   "cell_type": "code",
   "execution_count": 82,
   "id": "905f65d1",
   "metadata": {},
   "outputs": [
    {
     "name": "stdout",
     "output_type": "stream",
     "text": [
      "              precision    recall  f1-score   support\n",
      "\n",
      "           0       1.00      0.67      0.80   1906367\n",
      "           1       0.00      0.98      0.01      2419\n",
      "\n",
      "    accuracy                           0.67   1908786\n",
      "   macro avg       0.50      0.82      0.40   1908786\n",
      "weighted avg       1.00      0.67      0.80   1908786\n",
      "\n"
     ]
    }
   ],
   "source": [
    "print(classification_report(y_test, y_predict))"
   ]
  },
  {
   "cell_type": "markdown",
   "id": "bc9a0976",
   "metadata": {},
   "source": [
    "### We Can Observe that the metrics are shifting drastically with random oversampling"
   ]
  },
  {
   "cell_type": "code",
   "execution_count": 83,
   "id": "3e8b1e1c",
   "metadata": {},
   "outputs": [
    {
     "data": {
      "text/html": [
       "<div>\n",
       "<style scoped>\n",
       "    .dataframe tbody tr th:only-of-type {\n",
       "        vertical-align: middle;\n",
       "    }\n",
       "\n",
       "    .dataframe tbody tr th {\n",
       "        vertical-align: top;\n",
       "    }\n",
       "\n",
       "    .dataframe thead th {\n",
       "        text-align: right;\n",
       "    }\n",
       "</style>\n",
       "<table border=\"1\" class=\"dataframe\">\n",
       "  <thead>\n",
       "    <tr style=\"text-align: right;\">\n",
       "      <th></th>\n",
       "      <th>step</th>\n",
       "      <th>type</th>\n",
       "      <th>amount</th>\n",
       "      <th>oldbalanceOrg</th>\n",
       "      <th>newbalanceOrig</th>\n",
       "      <th>oldbalanceDest</th>\n",
       "      <th>newbalanceDest</th>\n",
       "      <th>isFlaggedFraud</th>\n",
       "    </tr>\n",
       "  </thead>\n",
       "  <tbody>\n",
       "    <tr>\n",
       "      <th>count</th>\n",
       "      <td>4.453834e+06</td>\n",
       "      <td>4.453834e+06</td>\n",
       "      <td>4.453834e+06</td>\n",
       "      <td>4.453834e+06</td>\n",
       "      <td>4.453834e+06</td>\n",
       "      <td>4.453834e+06</td>\n",
       "      <td>4.453834e+06</td>\n",
       "      <td>4.453834e+06</td>\n",
       "    </tr>\n",
       "    <tr>\n",
       "      <th>mean</th>\n",
       "      <td>1.532364e+01</td>\n",
       "      <td>1.713478e+00</td>\n",
       "      <td>1.799547e+05</td>\n",
       "      <td>8.355434e+05</td>\n",
       "      <td>8.567980e+05</td>\n",
       "      <td>1.101304e+06</td>\n",
       "      <td>1.225687e+06</td>\n",
       "      <td>2.245257e-06</td>\n",
       "    </tr>\n",
       "    <tr>\n",
       "      <th>std</th>\n",
       "      <td>4.321011e+00</td>\n",
       "      <td>1.350218e+00</td>\n",
       "      <td>6.015259e+05</td>\n",
       "      <td>2.891679e+06</td>\n",
       "      <td>2.927705e+06</td>\n",
       "      <td>3.397815e+06</td>\n",
       "      <td>3.672788e+06</td>\n",
       "      <td>1.498417e-03</td>\n",
       "    </tr>\n",
       "    <tr>\n",
       "      <th>min</th>\n",
       "      <td>0.000000e+00</td>\n",
       "      <td>0.000000e+00</td>\n",
       "      <td>0.000000e+00</td>\n",
       "      <td>0.000000e+00</td>\n",
       "      <td>0.000000e+00</td>\n",
       "      <td>0.000000e+00</td>\n",
       "      <td>0.000000e+00</td>\n",
       "      <td>0.000000e+00</td>\n",
       "    </tr>\n",
       "    <tr>\n",
       "      <th>25%</th>\n",
       "      <td>1.200000e+01</td>\n",
       "      <td>1.000000e+00</td>\n",
       "      <td>1.340158e+04</td>\n",
       "      <td>0.000000e+00</td>\n",
       "      <td>0.000000e+00</td>\n",
       "      <td>0.000000e+00</td>\n",
       "      <td>0.000000e+00</td>\n",
       "      <td>0.000000e+00</td>\n",
       "    </tr>\n",
       "    <tr>\n",
       "      <th>50%</th>\n",
       "      <td>1.600000e+01</td>\n",
       "      <td>1.000000e+00</td>\n",
       "      <td>7.495514e+04</td>\n",
       "      <td>1.422399e+04</td>\n",
       "      <td>0.000000e+00</td>\n",
       "      <td>1.329971e+05</td>\n",
       "      <td>2.149782e+05</td>\n",
       "      <td>0.000000e+00</td>\n",
       "    </tr>\n",
       "    <tr>\n",
       "      <th>75%</th>\n",
       "      <td>1.900000e+01</td>\n",
       "      <td>3.000000e+00</td>\n",
       "      <td>2.087196e+05</td>\n",
       "      <td>1.073356e+05</td>\n",
       "      <td>1.442844e+05</td>\n",
       "      <td>9.447042e+05</td>\n",
       "      <td>1.113435e+06</td>\n",
       "      <td>0.000000e+00</td>\n",
       "    </tr>\n",
       "    <tr>\n",
       "      <th>max</th>\n",
       "      <td>2.300000e+01</td>\n",
       "      <td>4.000000e+00</td>\n",
       "      <td>7.382349e+07</td>\n",
       "      <td>5.731626e+07</td>\n",
       "      <td>4.731626e+07</td>\n",
       "      <td>3.560159e+08</td>\n",
       "      <td>3.561793e+08</td>\n",
       "      <td>1.000000e+00</td>\n",
       "    </tr>\n",
       "  </tbody>\n",
       "</table>\n",
       "</div>"
      ],
      "text/plain": [
       "               step          type        amount  oldbalanceOrg  \\\n",
       "count  4.453834e+06  4.453834e+06  4.453834e+06   4.453834e+06   \n",
       "mean   1.532364e+01  1.713478e+00  1.799547e+05   8.355434e+05   \n",
       "std    4.321011e+00  1.350218e+00  6.015259e+05   2.891679e+06   \n",
       "min    0.000000e+00  0.000000e+00  0.000000e+00   0.000000e+00   \n",
       "25%    1.200000e+01  1.000000e+00  1.340158e+04   0.000000e+00   \n",
       "50%    1.600000e+01  1.000000e+00  7.495514e+04   1.422399e+04   \n",
       "75%    1.900000e+01  3.000000e+00  2.087196e+05   1.073356e+05   \n",
       "max    2.300000e+01  4.000000e+00  7.382349e+07   5.731626e+07   \n",
       "\n",
       "       newbalanceOrig  oldbalanceDest  newbalanceDest  isFlaggedFraud  \n",
       "count    4.453834e+06    4.453834e+06    4.453834e+06    4.453834e+06  \n",
       "mean     8.567980e+05    1.101304e+06    1.225687e+06    2.245257e-06  \n",
       "std      2.927705e+06    3.397815e+06    3.672788e+06    1.498417e-03  \n",
       "min      0.000000e+00    0.000000e+00    0.000000e+00    0.000000e+00  \n",
       "25%      0.000000e+00    0.000000e+00    0.000000e+00    0.000000e+00  \n",
       "50%      0.000000e+00    1.329971e+05    2.149782e+05    0.000000e+00  \n",
       "75%      1.442844e+05    9.447042e+05    1.113435e+06    0.000000e+00  \n",
       "max      4.731626e+07    3.560159e+08    3.561793e+08    1.000000e+00  "
      ]
     },
     "execution_count": 83,
     "metadata": {},
     "output_type": "execute_result"
    }
   ],
   "source": [
    "X_train.describe()"
   ]
  },
  {
   "cell_type": "code",
   "execution_count": 84,
   "id": "66ccc31e",
   "metadata": {},
   "outputs": [
    {
     "data": {
      "text/html": [
       "<div>\n",
       "<style scoped>\n",
       "    .dataframe tbody tr th:only-of-type {\n",
       "        vertical-align: middle;\n",
       "    }\n",
       "\n",
       "    .dataframe tbody tr th {\n",
       "        vertical-align: top;\n",
       "    }\n",
       "\n",
       "    .dataframe thead th {\n",
       "        text-align: right;\n",
       "    }\n",
       "</style>\n",
       "<table border=\"1\" class=\"dataframe\">\n",
       "  <thead>\n",
       "    <tr style=\"text-align: right;\">\n",
       "      <th></th>\n",
       "      <th>step</th>\n",
       "      <th>type</th>\n",
       "      <th>amount</th>\n",
       "      <th>oldbalanceOrg</th>\n",
       "      <th>newbalanceOrig</th>\n",
       "      <th>oldbalanceDest</th>\n",
       "      <th>newbalanceDest</th>\n",
       "      <th>isFlaggedFraud</th>\n",
       "    </tr>\n",
       "  </thead>\n",
       "  <tbody>\n",
       "    <tr>\n",
       "      <th>count</th>\n",
       "      <td>8.896080e+06</td>\n",
       "      <td>8.896080e+06</td>\n",
       "      <td>8.896080e+06</td>\n",
       "      <td>8.896080e+06</td>\n",
       "      <td>8.896080e+06</td>\n",
       "      <td>8.896080e+06</td>\n",
       "      <td>8.896080e+06</td>\n",
       "      <td>8.896080e+06</td>\n",
       "    </tr>\n",
       "    <tr>\n",
       "      <th>mean</th>\n",
       "      <td>1.339652e+01</td>\n",
       "      <td>2.100695e+00</td>\n",
       "      <td>8.180863e+05</td>\n",
       "      <td>1.219756e+06</td>\n",
       "      <td>5.078895e+05</td>\n",
       "      <td>8.327857e+05</td>\n",
       "      <td>1.264021e+06</td>\n",
       "      <td>8.425059e-04</td>\n",
       "    </tr>\n",
       "    <tr>\n",
       "      <th>std</th>\n",
       "      <td>6.075399e+00</td>\n",
       "      <td>1.478693e+00</td>\n",
       "      <td>1.847248e+06</td>\n",
       "      <td>3.127024e+06</td>\n",
       "      <td>2.418601e+06</td>\n",
       "      <td>3.572793e+06</td>\n",
       "      <td>3.968449e+06</td>\n",
       "      <td>2.901372e-02</td>\n",
       "    </tr>\n",
       "    <tr>\n",
       "      <th>min</th>\n",
       "      <td>0.000000e+00</td>\n",
       "      <td>0.000000e+00</td>\n",
       "      <td>0.000000e+00</td>\n",
       "      <td>0.000000e+00</td>\n",
       "      <td>0.000000e+00</td>\n",
       "      <td>0.000000e+00</td>\n",
       "      <td>0.000000e+00</td>\n",
       "      <td>0.000000e+00</td>\n",
       "    </tr>\n",
       "    <tr>\n",
       "      <th>25%</th>\n",
       "      <td>1.000000e+01</td>\n",
       "      <td>1.000000e+00</td>\n",
       "      <td>3.709883e+04</td>\n",
       "      <td>1.047200e+04</td>\n",
       "      <td>0.000000e+00</td>\n",
       "      <td>0.000000e+00</td>\n",
       "      <td>0.000000e+00</td>\n",
       "      <td>0.000000e+00</td>\n",
       "    </tr>\n",
       "    <tr>\n",
       "      <th>50%</th>\n",
       "      <td>1.400000e+01</td>\n",
       "      <td>1.000000e+00</td>\n",
       "      <td>1.734239e+05</td>\n",
       "      <td>1.194433e+05</td>\n",
       "      <td>0.000000e+00</td>\n",
       "      <td>0.000000e+00</td>\n",
       "      <td>1.279058e+05</td>\n",
       "      <td>0.000000e+00</td>\n",
       "    </tr>\n",
       "    <tr>\n",
       "      <th>75%</th>\n",
       "      <td>1.800000e+01</td>\n",
       "      <td>4.000000e+00</td>\n",
       "      <td>5.491597e+05</td>\n",
       "      <td>8.024174e+05</td>\n",
       "      <td>0.000000e+00</td>\n",
       "      <td>5.108212e+05</td>\n",
       "      <td>1.086472e+06</td>\n",
       "      <td>0.000000e+00</td>\n",
       "    </tr>\n",
       "    <tr>\n",
       "      <th>max</th>\n",
       "      <td>2.300000e+01</td>\n",
       "      <td>4.000000e+00</td>\n",
       "      <td>7.382349e+07</td>\n",
       "      <td>5.731626e+07</td>\n",
       "      <td>4.731626e+07</td>\n",
       "      <td>3.560159e+08</td>\n",
       "      <td>3.561793e+08</td>\n",
       "      <td>1.000000e+00</td>\n",
       "    </tr>\n",
       "  </tbody>\n",
       "</table>\n",
       "</div>"
      ],
      "text/plain": [
       "               step          type        amount  oldbalanceOrg  \\\n",
       "count  8.896080e+06  8.896080e+06  8.896080e+06   8.896080e+06   \n",
       "mean   1.339652e+01  2.100695e+00  8.180863e+05   1.219756e+06   \n",
       "std    6.075399e+00  1.478693e+00  1.847248e+06   3.127024e+06   \n",
       "min    0.000000e+00  0.000000e+00  0.000000e+00   0.000000e+00   \n",
       "25%    1.000000e+01  1.000000e+00  3.709883e+04   1.047200e+04   \n",
       "50%    1.400000e+01  1.000000e+00  1.734239e+05   1.194433e+05   \n",
       "75%    1.800000e+01  4.000000e+00  5.491597e+05   8.024174e+05   \n",
       "max    2.300000e+01  4.000000e+00  7.382349e+07   5.731626e+07   \n",
       "\n",
       "       newbalanceOrig  oldbalanceDest  newbalanceDest  isFlaggedFraud  \n",
       "count    8.896080e+06    8.896080e+06    8.896080e+06    8.896080e+06  \n",
       "mean     5.078895e+05    8.327857e+05    1.264021e+06    8.425059e-04  \n",
       "std      2.418601e+06    3.572793e+06    3.968449e+06    2.901372e-02  \n",
       "min      0.000000e+00    0.000000e+00    0.000000e+00    0.000000e+00  \n",
       "25%      0.000000e+00    0.000000e+00    0.000000e+00    0.000000e+00  \n",
       "50%      0.000000e+00    0.000000e+00    1.279058e+05    0.000000e+00  \n",
       "75%      0.000000e+00    5.108212e+05    1.086472e+06    0.000000e+00  \n",
       "max      4.731626e+07    3.560159e+08    3.561793e+08    1.000000e+00  "
      ]
     },
     "execution_count": 84,
     "metadata": {},
     "output_type": "execute_result"
    }
   ],
   "source": [
    "X_train_os.describe()"
   ]
  },
  {
   "cell_type": "markdown",
   "id": "0faa3958",
   "metadata": {},
   "source": [
    "## SMOTE ON TRAINING DATA"
   ]
  },
  {
   "cell_type": "code",
   "execution_count": 94,
   "id": "42fc834f",
   "metadata": {},
   "outputs": [],
   "source": [
    "from imblearn.over_sampling import SMOTE\n",
    "from sklearn.model_selection import train_test_split"
   ]
  },
  {
   "cell_type": "code",
   "execution_count": 53,
   "id": "90eb7679",
   "metadata": {},
   "outputs": [
    {
     "data": {
      "text/plain": [
       "0    6354407\n",
       "1       8213\n",
       "Name: isFraud, dtype: int64"
      ]
     },
     "execution_count": 53,
     "metadata": {},
     "output_type": "execute_result"
    }
   ],
   "source": [
    "df.isFraud.value_counts()"
   ]
  },
  {
   "cell_type": "code",
   "execution_count": 95,
   "id": "7e36fe31",
   "metadata": {},
   "outputs": [],
   "source": [
    "X = df.drop(['isFraud'],axis=1)\n",
    "y = df['isFraud']"
   ]
  },
  {
   "cell_type": "code",
   "execution_count": 96,
   "id": "7fb28730",
   "metadata": {},
   "outputs": [],
   "source": [
    "le = LabelEncoder()"
   ]
  },
  {
   "cell_type": "code",
   "execution_count": 97,
   "id": "541f1b77",
   "metadata": {},
   "outputs": [],
   "source": [
    "var = X.select_dtypes(include='object').columns"
   ]
  },
  {
   "cell_type": "code",
   "execution_count": 98,
   "id": "3009e81e",
   "metadata": {},
   "outputs": [],
   "source": [
    "for i in var:\n",
    "    X[i] = le.fit_transform(X[i])"
   ]
  },
  {
   "cell_type": "code",
   "execution_count": 99,
   "id": "ea040c46",
   "metadata": {},
   "outputs": [],
   "source": [
    "X_train , X_test , y_train , y_test = train_test_split(X,y, test_size=0.30 , random_state=0,stratify=y)\n",
    "columns = X_train.columns"
   ]
  },
  {
   "cell_type": "code",
   "execution_count": 59,
   "id": "288c231a",
   "metadata": {},
   "outputs": [
    {
     "name": "stdout",
     "output_type": "stream",
     "text": [
      "<class 'pandas.core.frame.DataFrame'>\n",
      "Int64Index: 4453834 entries, 85163 to 2384085\n",
      "Data columns (total 8 columns):\n",
      " #   Column          Dtype  \n",
      "---  ------          -----  \n",
      " 0   step            int64  \n",
      " 1   type            int32  \n",
      " 2   amount          float64\n",
      " 3   oldbalanceOrg   float64\n",
      " 4   newbalanceOrig  float64\n",
      " 5   oldbalanceDest  float64\n",
      " 6   newbalanceDest  float64\n",
      " 7   isFlaggedFraud  int64  \n",
      "dtypes: float64(5), int32(1), int64(2)\n",
      "memory usage: 288.8 MB\n"
     ]
    }
   ],
   "source": [
    "X_train.info()"
   ]
  },
  {
   "cell_type": "code",
   "execution_count": 60,
   "id": "a1caeaa0",
   "metadata": {},
   "outputs": [
    {
     "name": "stdout",
     "output_type": "stream",
     "text": [
      "<class 'pandas.core.series.Series'>\n",
      "Int64Index: 4453834 entries, 85163 to 2384085\n",
      "Series name: isFraud\n",
      "Non-Null Count    Dtype\n",
      "--------------    -----\n",
      "4453834 non-null  int64\n",
      "dtypes: int64(1)\n",
      "memory usage: 68.0 MB\n"
     ]
    }
   ],
   "source": [
    "y_train.info()"
   ]
  },
  {
   "cell_type": "code",
   "execution_count": 61,
   "id": "2a2ad85f",
   "metadata": {},
   "outputs": [
    {
     "data": {
      "text/plain": [
       "0    4448085\n",
       "1       5749\n",
       "Name: isFraud, dtype: int64"
      ]
     },
     "execution_count": 61,
     "metadata": {},
     "output_type": "execute_result"
    }
   ],
   "source": [
    "y_train.value_counts()"
   ]
  },
  {
   "cell_type": "code",
   "execution_count": 100,
   "id": "7ac57767",
   "metadata": {},
   "outputs": [],
   "source": [
    "os = SMOTE(random_state=0)"
   ]
  },
  {
   "cell_type": "code",
   "execution_count": 101,
   "id": "6ae20e16",
   "metadata": {},
   "outputs": [],
   "source": [
    "X_train_sm , y_train_sm = os.fit_resample(X_train,y_train)"
   ]
  },
  {
   "cell_type": "code",
   "execution_count": 97,
   "id": "1e660f52",
   "metadata": {},
   "outputs": [
    {
     "name": "stdout",
     "output_type": "stream",
     "text": [
      "<class 'pandas.core.frame.DataFrame'>\n",
      "RangeIndex: 8896080 entries, 0 to 8896079\n",
      "Data columns (total 8 columns):\n",
      " #   Column          Dtype  \n",
      "---  ------          -----  \n",
      " 0   step            int64  \n",
      " 1   type            int32  \n",
      " 2   amount          float64\n",
      " 3   oldbalanceOrg   float64\n",
      " 4   newbalanceOrig  float64\n",
      " 5   oldbalanceDest  float64\n",
      " 6   newbalanceDest  float64\n",
      " 7   isFlaggedFraud  int64  \n",
      "dtypes: float64(5), int32(1), int64(2)\n",
      "memory usage: 509.0 MB\n"
     ]
    }
   ],
   "source": [
    "X_train_sm.info()"
   ]
  },
  {
   "cell_type": "code",
   "execution_count": 98,
   "id": "f5377ac9",
   "metadata": {},
   "outputs": [
    {
     "name": "stdout",
     "output_type": "stream",
     "text": [
      "<class 'pandas.core.series.Series'>\n",
      "RangeIndex: 8896080 entries, 0 to 8896079\n",
      "Series name: isFraud\n",
      "Non-Null Count    Dtype\n",
      "--------------    -----\n",
      "8896080 non-null  int64\n",
      "dtypes: int64(1)\n",
      "memory usage: 67.9 MB\n"
     ]
    }
   ],
   "source": [
    "y_train_sm.info()"
   ]
  },
  {
   "cell_type": "code",
   "execution_count": 99,
   "id": "cac4f456",
   "metadata": {},
   "outputs": [
    {
     "data": {
      "text/plain": [
       "0    4448040\n",
       "1    4448040\n",
       "Name: isFraud, dtype: int64"
      ]
     },
     "execution_count": 99,
     "metadata": {},
     "output_type": "execute_result"
    }
   ],
   "source": [
    "y_train_sm.value_counts()"
   ]
  },
  {
   "cell_type": "code",
   "execution_count": 100,
   "id": "5058ccec",
   "metadata": {},
   "outputs": [
    {
     "name": "stdout",
     "output_type": "stream",
     "text": [
      "BEFORE SMOTE: Counter({0: 4448040, 1: 5794})\n",
      "AFTER SMOTE: Counter({0: 4448040, 1: 4448040})\n"
     ]
    }
   ],
   "source": [
    "from collections import Counter\n",
    "print(\"BEFORE SMOTE:\",Counter(y_train))\n",
    "print(\"AFTER SMOTE:\",Counter(y_train_sm))"
   ]
  },
  {
   "cell_type": "code",
   "execution_count": 101,
   "id": "d3b2fb5f",
   "metadata": {},
   "outputs": [],
   "source": [
    "X_train_sm = pd.DataFrame(data=X_train_sm,columns=columns)"
   ]
  },
  {
   "cell_type": "code",
   "execution_count": 102,
   "id": "b1ccf12d",
   "metadata": {},
   "outputs": [
    {
     "data": {
      "text/html": [
       "<div>\n",
       "<style scoped>\n",
       "    .dataframe tbody tr th:only-of-type {\n",
       "        vertical-align: middle;\n",
       "    }\n",
       "\n",
       "    .dataframe tbody tr th {\n",
       "        vertical-align: top;\n",
       "    }\n",
       "\n",
       "    .dataframe thead th {\n",
       "        text-align: right;\n",
       "    }\n",
       "</style>\n",
       "<table border=\"1\" class=\"dataframe\">\n",
       "  <thead>\n",
       "    <tr style=\"text-align: right;\">\n",
       "      <th></th>\n",
       "      <th>step</th>\n",
       "      <th>type</th>\n",
       "      <th>amount</th>\n",
       "      <th>oldbalanceOrg</th>\n",
       "      <th>newbalanceOrig</th>\n",
       "      <th>oldbalanceDest</th>\n",
       "      <th>newbalanceDest</th>\n",
       "      <th>isFlaggedFraud</th>\n",
       "    </tr>\n",
       "  </thead>\n",
       "  <tbody>\n",
       "    <tr>\n",
       "      <th>0</th>\n",
       "      <td>17</td>\n",
       "      <td>3</td>\n",
       "      <td>1.559597e+04</td>\n",
       "      <td>0.000000e+00</td>\n",
       "      <td>0.00</td>\n",
       "      <td>0.000000e+00</td>\n",
       "      <td>0.000000e+00</td>\n",
       "      <td>0</td>\n",
       "    </tr>\n",
       "    <tr>\n",
       "      <th>1</th>\n",
       "      <td>22</td>\n",
       "      <td>3</td>\n",
       "      <td>7.613140e+03</td>\n",
       "      <td>9.012000e+04</td>\n",
       "      <td>82506.86</td>\n",
       "      <td>0.000000e+00</td>\n",
       "      <td>0.000000e+00</td>\n",
       "      <td>0</td>\n",
       "    </tr>\n",
       "    <tr>\n",
       "      <th>2</th>\n",
       "      <td>23</td>\n",
       "      <td>4</td>\n",
       "      <td>7.673517e+05</td>\n",
       "      <td>0.000000e+00</td>\n",
       "      <td>0.00</td>\n",
       "      <td>4.528365e+06</td>\n",
       "      <td>5.295717e+06</td>\n",
       "      <td>0</td>\n",
       "    </tr>\n",
       "    <tr>\n",
       "      <th>3</th>\n",
       "      <td>14</td>\n",
       "      <td>1</td>\n",
       "      <td>1.674808e+05</td>\n",
       "      <td>1.293445e+06</td>\n",
       "      <td>1125964.33</td>\n",
       "      <td>0.000000e+00</td>\n",
       "      <td>1.674808e+05</td>\n",
       "      <td>0</td>\n",
       "    </tr>\n",
       "    <tr>\n",
       "      <th>4</th>\n",
       "      <td>11</td>\n",
       "      <td>1</td>\n",
       "      <td>2.009372e+05</td>\n",
       "      <td>1.042480e+05</td>\n",
       "      <td>0.00</td>\n",
       "      <td>3.242312e+06</td>\n",
       "      <td>3.443249e+06</td>\n",
       "      <td>0</td>\n",
       "    </tr>\n",
       "    <tr>\n",
       "      <th>...</th>\n",
       "      <td>...</td>\n",
       "      <td>...</td>\n",
       "      <td>...</td>\n",
       "      <td>...</td>\n",
       "      <td>...</td>\n",
       "      <td>...</td>\n",
       "      <td>...</td>\n",
       "      <td>...</td>\n",
       "    </tr>\n",
       "    <tr>\n",
       "      <th>8896075</th>\n",
       "      <td>19</td>\n",
       "      <td>1</td>\n",
       "      <td>7.036089e+04</td>\n",
       "      <td>7.036089e+04</td>\n",
       "      <td>0.00</td>\n",
       "      <td>0.000000e+00</td>\n",
       "      <td>7.036089e+04</td>\n",
       "      <td>0</td>\n",
       "    </tr>\n",
       "    <tr>\n",
       "      <th>8896076</th>\n",
       "      <td>12</td>\n",
       "      <td>4</td>\n",
       "      <td>6.524924e+06</td>\n",
       "      <td>6.524924e+06</td>\n",
       "      <td>0.00</td>\n",
       "      <td>0.000000e+00</td>\n",
       "      <td>0.000000e+00</td>\n",
       "      <td>0</td>\n",
       "    </tr>\n",
       "    <tr>\n",
       "      <th>8896077</th>\n",
       "      <td>11</td>\n",
       "      <td>1</td>\n",
       "      <td>1.408921e+06</td>\n",
       "      <td>1.408921e+06</td>\n",
       "      <td>0.00</td>\n",
       "      <td>3.742956e+04</td>\n",
       "      <td>1.446351e+06</td>\n",
       "      <td>0</td>\n",
       "    </tr>\n",
       "    <tr>\n",
       "      <th>8896078</th>\n",
       "      <td>13</td>\n",
       "      <td>1</td>\n",
       "      <td>1.664772e+06</td>\n",
       "      <td>1.664772e+06</td>\n",
       "      <td>0.00</td>\n",
       "      <td>2.489202e+04</td>\n",
       "      <td>1.689664e+06</td>\n",
       "      <td>0</td>\n",
       "    </tr>\n",
       "    <tr>\n",
       "      <th>8896079</th>\n",
       "      <td>12</td>\n",
       "      <td>4</td>\n",
       "      <td>4.917062e+04</td>\n",
       "      <td>4.917062e+04</td>\n",
       "      <td>0.00</td>\n",
       "      <td>0.000000e+00</td>\n",
       "      <td>0.000000e+00</td>\n",
       "      <td>0</td>\n",
       "    </tr>\n",
       "  </tbody>\n",
       "</table>\n",
       "<p>8896080 rows × 8 columns</p>\n",
       "</div>"
      ],
      "text/plain": [
       "         step  type        amount  oldbalanceOrg  newbalanceOrig  \\\n",
       "0          17     3  1.559597e+04   0.000000e+00            0.00   \n",
       "1          22     3  7.613140e+03   9.012000e+04        82506.86   \n",
       "2          23     4  7.673517e+05   0.000000e+00            0.00   \n",
       "3          14     1  1.674808e+05   1.293445e+06      1125964.33   \n",
       "4          11     1  2.009372e+05   1.042480e+05            0.00   \n",
       "...       ...   ...           ...            ...             ...   \n",
       "8896075    19     1  7.036089e+04   7.036089e+04            0.00   \n",
       "8896076    12     4  6.524924e+06   6.524924e+06            0.00   \n",
       "8896077    11     1  1.408921e+06   1.408921e+06            0.00   \n",
       "8896078    13     1  1.664772e+06   1.664772e+06            0.00   \n",
       "8896079    12     4  4.917062e+04   4.917062e+04            0.00   \n",
       "\n",
       "         oldbalanceDest  newbalanceDest  isFlaggedFraud  \n",
       "0          0.000000e+00    0.000000e+00               0  \n",
       "1          0.000000e+00    0.000000e+00               0  \n",
       "2          4.528365e+06    5.295717e+06               0  \n",
       "3          0.000000e+00    1.674808e+05               0  \n",
       "4          3.242312e+06    3.443249e+06               0  \n",
       "...                 ...             ...             ...  \n",
       "8896075    0.000000e+00    7.036089e+04               0  \n",
       "8896076    0.000000e+00    0.000000e+00               0  \n",
       "8896077    3.742956e+04    1.446351e+06               0  \n",
       "8896078    2.489202e+04    1.689664e+06               0  \n",
       "8896079    0.000000e+00    0.000000e+00               0  \n",
       "\n",
       "[8896080 rows x 8 columns]"
      ]
     },
     "execution_count": 102,
     "metadata": {},
     "output_type": "execute_result"
    }
   ],
   "source": [
    "X_train_sm"
   ]
  },
  {
   "cell_type": "code",
   "execution_count": 103,
   "id": "3141de92",
   "metadata": {},
   "outputs": [
    {
     "data": {
      "text/plain": [
       "0          0\n",
       "1          0\n",
       "2          0\n",
       "3          0\n",
       "4          0\n",
       "          ..\n",
       "8896075    1\n",
       "8896076    1\n",
       "8896077    1\n",
       "8896078    1\n",
       "8896079    1\n",
       "Name: isFraud, Length: 8896080, dtype: int64"
      ]
     },
     "execution_count": 103,
     "metadata": {},
     "output_type": "execute_result"
    }
   ],
   "source": [
    "y_train_sm"
   ]
  },
  {
   "cell_type": "code",
   "execution_count": 104,
   "id": "9d4baf1f",
   "metadata": {},
   "outputs": [
    {
     "data": {
      "text/plain": [
       "0    4448040\n",
       "1    4448040\n",
       "Name: isFraud, dtype: int64"
      ]
     },
     "execution_count": 104,
     "metadata": {},
     "output_type": "execute_result"
    }
   ],
   "source": [
    "y_train_sm.value_counts()"
   ]
  },
  {
   "cell_type": "code",
   "execution_count": 105,
   "id": "fdec3fab",
   "metadata": {},
   "outputs": [
    {
     "data": {
      "text/plain": [
       "0          0\n",
       "1          0\n",
       "2          0\n",
       "3          0\n",
       "4          0\n",
       "          ..\n",
       "8896075    1\n",
       "8896076    1\n",
       "8896077    1\n",
       "8896078    1\n",
       "8896079    1\n",
       "Name: isFraud, Length: 8896080, dtype: int64"
      ]
     },
     "execution_count": 105,
     "metadata": {},
     "output_type": "execute_result"
    }
   ],
   "source": [
    "y_train_sm"
   ]
  },
  {
   "cell_type": "code",
   "execution_count": 106,
   "id": "fdc4ba1f",
   "metadata": {},
   "outputs": [],
   "source": [
    "from sklearn.linear_model import LogisticRegression\n",
    "model = LogisticRegression()"
   ]
  },
  {
   "cell_type": "code",
   "execution_count": 107,
   "id": "a5ed6f73",
   "metadata": {},
   "outputs": [
    {
     "data": {
      "text/html": [
       "<style>#sk-container-id-4 {color: black;background-color: white;}#sk-container-id-4 pre{padding: 0;}#sk-container-id-4 div.sk-toggleable {background-color: white;}#sk-container-id-4 label.sk-toggleable__label {cursor: pointer;display: block;width: 100%;margin-bottom: 0;padding: 0.3em;box-sizing: border-box;text-align: center;}#sk-container-id-4 label.sk-toggleable__label-arrow:before {content: \"▸\";float: left;margin-right: 0.25em;color: #696969;}#sk-container-id-4 label.sk-toggleable__label-arrow:hover:before {color: black;}#sk-container-id-4 div.sk-estimator:hover label.sk-toggleable__label-arrow:before {color: black;}#sk-container-id-4 div.sk-toggleable__content {max-height: 0;max-width: 0;overflow: hidden;text-align: left;background-color: #f0f8ff;}#sk-container-id-4 div.sk-toggleable__content pre {margin: 0.2em;color: black;border-radius: 0.25em;background-color: #f0f8ff;}#sk-container-id-4 input.sk-toggleable__control:checked~div.sk-toggleable__content {max-height: 200px;max-width: 100%;overflow: auto;}#sk-container-id-4 input.sk-toggleable__control:checked~label.sk-toggleable__label-arrow:before {content: \"▾\";}#sk-container-id-4 div.sk-estimator input.sk-toggleable__control:checked~label.sk-toggleable__label {background-color: #d4ebff;}#sk-container-id-4 div.sk-label input.sk-toggleable__control:checked~label.sk-toggleable__label {background-color: #d4ebff;}#sk-container-id-4 input.sk-hidden--visually {border: 0;clip: rect(1px 1px 1px 1px);clip: rect(1px, 1px, 1px, 1px);height: 1px;margin: -1px;overflow: hidden;padding: 0;position: absolute;width: 1px;}#sk-container-id-4 div.sk-estimator {font-family: monospace;background-color: #f0f8ff;border: 1px dotted black;border-radius: 0.25em;box-sizing: border-box;margin-bottom: 0.5em;}#sk-container-id-4 div.sk-estimator:hover {background-color: #d4ebff;}#sk-container-id-4 div.sk-parallel-item::after {content: \"\";width: 100%;border-bottom: 1px solid gray;flex-grow: 1;}#sk-container-id-4 div.sk-label:hover label.sk-toggleable__label {background-color: #d4ebff;}#sk-container-id-4 div.sk-serial::before {content: \"\";position: absolute;border-left: 1px solid gray;box-sizing: border-box;top: 0;bottom: 0;left: 50%;z-index: 0;}#sk-container-id-4 div.sk-serial {display: flex;flex-direction: column;align-items: center;background-color: white;padding-right: 0.2em;padding-left: 0.2em;position: relative;}#sk-container-id-4 div.sk-item {position: relative;z-index: 1;}#sk-container-id-4 div.sk-parallel {display: flex;align-items: stretch;justify-content: center;background-color: white;position: relative;}#sk-container-id-4 div.sk-item::before, #sk-container-id-4 div.sk-parallel-item::before {content: \"\";position: absolute;border-left: 1px solid gray;box-sizing: border-box;top: 0;bottom: 0;left: 50%;z-index: -1;}#sk-container-id-4 div.sk-parallel-item {display: flex;flex-direction: column;z-index: 1;position: relative;background-color: white;}#sk-container-id-4 div.sk-parallel-item:first-child::after {align-self: flex-end;width: 50%;}#sk-container-id-4 div.sk-parallel-item:last-child::after {align-self: flex-start;width: 50%;}#sk-container-id-4 div.sk-parallel-item:only-child::after {width: 0;}#sk-container-id-4 div.sk-dashed-wrapped {border: 1px dashed gray;margin: 0 0.4em 0.5em 0.4em;box-sizing: border-box;padding-bottom: 0.4em;background-color: white;}#sk-container-id-4 div.sk-label label {font-family: monospace;font-weight: bold;display: inline-block;line-height: 1.2em;}#sk-container-id-4 div.sk-label-container {text-align: center;}#sk-container-id-4 div.sk-container {/* jupyter's `normalize.less` sets `[hidden] { display: none; }` but bootstrap.min.css set `[hidden] { display: none !important; }` so we also need the `!important` here to be able to override the default hidden behavior on the sphinx rendered scikit-learn.org. See: https://github.com/scikit-learn/scikit-learn/issues/21755 */display: inline-block !important;position: relative;}#sk-container-id-4 div.sk-text-repr-fallback {display: none;}</style><div id=\"sk-container-id-4\" class=\"sk-top-container\"><div class=\"sk-text-repr-fallback\"><pre>LogisticRegression()</pre><b>In a Jupyter environment, please rerun this cell to show the HTML representation or trust the notebook. <br />On GitHub, the HTML representation is unable to render, please try loading this page with nbviewer.org.</b></div><div class=\"sk-container\" hidden><div class=\"sk-item\"><div class=\"sk-estimator sk-toggleable\"><input class=\"sk-toggleable__control sk-hidden--visually\" id=\"sk-estimator-id-4\" type=\"checkbox\" checked><label for=\"sk-estimator-id-4\" class=\"sk-toggleable__label sk-toggleable__label-arrow\">LogisticRegression</label><div class=\"sk-toggleable__content\"><pre>LogisticRegression()</pre></div></div></div></div></div>"
      ],
      "text/plain": [
       "LogisticRegression()"
      ]
     },
     "execution_count": 107,
     "metadata": {},
     "output_type": "execute_result"
    }
   ],
   "source": [
    "model.fit(X_train_sm,y_train_sm)"
   ]
  },
  {
   "cell_type": "code",
   "execution_count": 108,
   "id": "00ffb2fe",
   "metadata": {},
   "outputs": [
    {
     "data": {
      "text/plain": [
       "0.9642123318171865"
      ]
     },
     "execution_count": 108,
     "metadata": {},
     "output_type": "execute_result"
    }
   ],
   "source": [
    "model.score(X_test,y_test)"
   ]
  },
  {
   "cell_type": "code",
   "execution_count": 109,
   "id": "e59598c7",
   "metadata": {},
   "outputs": [],
   "source": [
    "from sklearn.metrics import classification_report, confusion_matrix"
   ]
  },
  {
   "cell_type": "code",
   "execution_count": 110,
   "id": "6bd29533",
   "metadata": {},
   "outputs": [],
   "source": [
    "y_predict = model.predict(X_test)"
   ]
  },
  {
   "cell_type": "code",
   "execution_count": 111,
   "id": "2d155053",
   "metadata": {},
   "outputs": [
    {
     "name": "stdout",
     "output_type": "stream",
     "text": [
      "              precision    recall  f1-score   support\n",
      "\n",
      "           0       1.00      0.96      0.98   1906367\n",
      "           1       0.03      0.88      0.06      2419\n",
      "\n",
      "    accuracy                           0.96   1908786\n",
      "   macro avg       0.52      0.92      0.52   1908786\n",
      "weighted avg       1.00      0.96      0.98   1908786\n",
      "\n"
     ]
    }
   ],
   "source": [
    "print(classification_report(y_test, y_predict))"
   ]
  },
  {
   "cell_type": "markdown",
   "id": "56567770",
   "metadata": {},
   "source": [
    "### We can conclude that SMOTE is not optimal for Logistic Regression , it is altering the metrics of the training data too much as we can observe below"
   ]
  },
  {
   "cell_type": "code",
   "execution_count": 112,
   "id": "31c6b330",
   "metadata": {},
   "outputs": [
    {
     "data": {
      "text/html": [
       "<div>\n",
       "<style scoped>\n",
       "    .dataframe tbody tr th:only-of-type {\n",
       "        vertical-align: middle;\n",
       "    }\n",
       "\n",
       "    .dataframe tbody tr th {\n",
       "        vertical-align: top;\n",
       "    }\n",
       "\n",
       "    .dataframe thead th {\n",
       "        text-align: right;\n",
       "    }\n",
       "</style>\n",
       "<table border=\"1\" class=\"dataframe\">\n",
       "  <thead>\n",
       "    <tr style=\"text-align: right;\">\n",
       "      <th></th>\n",
       "      <th>step</th>\n",
       "      <th>type</th>\n",
       "      <th>amount</th>\n",
       "      <th>oldbalanceOrg</th>\n",
       "      <th>newbalanceOrig</th>\n",
       "      <th>oldbalanceDest</th>\n",
       "      <th>newbalanceDest</th>\n",
       "      <th>isFlaggedFraud</th>\n",
       "    </tr>\n",
       "  </thead>\n",
       "  <tbody>\n",
       "    <tr>\n",
       "      <th>count</th>\n",
       "      <td>8.896080e+06</td>\n",
       "      <td>8.896080e+06</td>\n",
       "      <td>8.896080e+06</td>\n",
       "      <td>8.896080e+06</td>\n",
       "      <td>8.896080e+06</td>\n",
       "      <td>8.896080e+06</td>\n",
       "      <td>8.896080e+06</td>\n",
       "      <td>8.896080e+06</td>\n",
       "    </tr>\n",
       "    <tr>\n",
       "      <th>mean</th>\n",
       "      <td>1.314816e+01</td>\n",
       "      <td>2.099793e+00</td>\n",
       "      <td>8.189770e+05</td>\n",
       "      <td>1.220380e+06</td>\n",
       "      <td>5.058733e+05</td>\n",
       "      <td>8.215751e+05</td>\n",
       "      <td>1.251284e+06</td>\n",
       "      <td>3.094621e-04</td>\n",
       "    </tr>\n",
       "    <tr>\n",
       "      <th>std</th>\n",
       "      <td>5.489865e+00</td>\n",
       "      <td>1.477131e+00</td>\n",
       "      <td>1.849038e+06</td>\n",
       "      <td>3.114113e+06</td>\n",
       "      <td>2.397210e+06</td>\n",
       "      <td>3.136639e+06</td>\n",
       "      <td>3.576959e+06</td>\n",
       "      <td>1.758881e-02</td>\n",
       "    </tr>\n",
       "    <tr>\n",
       "      <th>min</th>\n",
       "      <td>0.000000e+00</td>\n",
       "      <td>0.000000e+00</td>\n",
       "      <td>0.000000e+00</td>\n",
       "      <td>0.000000e+00</td>\n",
       "      <td>0.000000e+00</td>\n",
       "      <td>0.000000e+00</td>\n",
       "      <td>0.000000e+00</td>\n",
       "      <td>0.000000e+00</td>\n",
       "    </tr>\n",
       "    <tr>\n",
       "      <th>25%</th>\n",
       "      <td>1.000000e+01</td>\n",
       "      <td>1.000000e+00</td>\n",
       "      <td>3.728696e+04</td>\n",
       "      <td>1.067300e+04</td>\n",
       "      <td>0.000000e+00</td>\n",
       "      <td>0.000000e+00</td>\n",
       "      <td>0.000000e+00</td>\n",
       "      <td>0.000000e+00</td>\n",
       "    </tr>\n",
       "    <tr>\n",
       "      <th>50%</th>\n",
       "      <td>1.300000e+01</td>\n",
       "      <td>1.000000e+00</td>\n",
       "      <td>1.736339e+05</td>\n",
       "      <td>1.201704e+05</td>\n",
       "      <td>0.000000e+00</td>\n",
       "      <td>0.000000e+00</td>\n",
       "      <td>1.276759e+05</td>\n",
       "      <td>0.000000e+00</td>\n",
       "    </tr>\n",
       "    <tr>\n",
       "      <th>75%</th>\n",
       "      <td>1.800000e+01</td>\n",
       "      <td>4.000000e+00</td>\n",
       "      <td>5.492915e+05</td>\n",
       "      <td>8.024083e+05</td>\n",
       "      <td>0.000000e+00</td>\n",
       "      <td>5.075282e+05</td>\n",
       "      <td>1.084329e+06</td>\n",
       "      <td>0.000000e+00</td>\n",
       "    </tr>\n",
       "    <tr>\n",
       "      <th>max</th>\n",
       "      <td>2.300000e+01</td>\n",
       "      <td>4.000000e+00</td>\n",
       "      <td>7.382349e+07</td>\n",
       "      <td>5.731626e+07</td>\n",
       "      <td>4.731626e+07</td>\n",
       "      <td>3.560159e+08</td>\n",
       "      <td>3.561793e+08</td>\n",
       "      <td>1.000000e+00</td>\n",
       "    </tr>\n",
       "  </tbody>\n",
       "</table>\n",
       "</div>"
      ],
      "text/plain": [
       "               step          type        amount  oldbalanceOrg  \\\n",
       "count  8.896080e+06  8.896080e+06  8.896080e+06   8.896080e+06   \n",
       "mean   1.314816e+01  2.099793e+00  8.189770e+05   1.220380e+06   \n",
       "std    5.489865e+00  1.477131e+00  1.849038e+06   3.114113e+06   \n",
       "min    0.000000e+00  0.000000e+00  0.000000e+00   0.000000e+00   \n",
       "25%    1.000000e+01  1.000000e+00  3.728696e+04   1.067300e+04   \n",
       "50%    1.300000e+01  1.000000e+00  1.736339e+05   1.201704e+05   \n",
       "75%    1.800000e+01  4.000000e+00  5.492915e+05   8.024083e+05   \n",
       "max    2.300000e+01  4.000000e+00  7.382349e+07   5.731626e+07   \n",
       "\n",
       "       newbalanceOrig  oldbalanceDest  newbalanceDest  isFlaggedFraud  \n",
       "count    8.896080e+06    8.896080e+06    8.896080e+06    8.896080e+06  \n",
       "mean     5.058733e+05    8.215751e+05    1.251284e+06    3.094621e-04  \n",
       "std      2.397210e+06    3.136639e+06    3.576959e+06    1.758881e-02  \n",
       "min      0.000000e+00    0.000000e+00    0.000000e+00    0.000000e+00  \n",
       "25%      0.000000e+00    0.000000e+00    0.000000e+00    0.000000e+00  \n",
       "50%      0.000000e+00    0.000000e+00    1.276759e+05    0.000000e+00  \n",
       "75%      0.000000e+00    5.075282e+05    1.084329e+06    0.000000e+00  \n",
       "max      4.731626e+07    3.560159e+08    3.561793e+08    1.000000e+00  "
      ]
     },
     "execution_count": 112,
     "metadata": {},
     "output_type": "execute_result"
    }
   ],
   "source": [
    "X_train_sm.describe()"
   ]
  },
  {
   "cell_type": "code",
   "execution_count": 113,
   "id": "1a942d0b",
   "metadata": {},
   "outputs": [
    {
     "data": {
      "text/html": [
       "<div>\n",
       "<style scoped>\n",
       "    .dataframe tbody tr th:only-of-type {\n",
       "        vertical-align: middle;\n",
       "    }\n",
       "\n",
       "    .dataframe tbody tr th {\n",
       "        vertical-align: top;\n",
       "    }\n",
       "\n",
       "    .dataframe thead th {\n",
       "        text-align: right;\n",
       "    }\n",
       "</style>\n",
       "<table border=\"1\" class=\"dataframe\">\n",
       "  <thead>\n",
       "    <tr style=\"text-align: right;\">\n",
       "      <th></th>\n",
       "      <th>step</th>\n",
       "      <th>type</th>\n",
       "      <th>amount</th>\n",
       "      <th>oldbalanceOrg</th>\n",
       "      <th>newbalanceOrig</th>\n",
       "      <th>oldbalanceDest</th>\n",
       "      <th>newbalanceDest</th>\n",
       "      <th>isFlaggedFraud</th>\n",
       "    </tr>\n",
       "  </thead>\n",
       "  <tbody>\n",
       "    <tr>\n",
       "      <th>count</th>\n",
       "      <td>4.453834e+06</td>\n",
       "      <td>4.453834e+06</td>\n",
       "      <td>4.453834e+06</td>\n",
       "      <td>4.453834e+06</td>\n",
       "      <td>4.453834e+06</td>\n",
       "      <td>4.453834e+06</td>\n",
       "      <td>4.453834e+06</td>\n",
       "      <td>4.453834e+06</td>\n",
       "    </tr>\n",
       "    <tr>\n",
       "      <th>mean</th>\n",
       "      <td>1.532364e+01</td>\n",
       "      <td>1.713478e+00</td>\n",
       "      <td>1.799547e+05</td>\n",
       "      <td>8.355434e+05</td>\n",
       "      <td>8.567980e+05</td>\n",
       "      <td>1.101304e+06</td>\n",
       "      <td>1.225687e+06</td>\n",
       "      <td>2.245257e-06</td>\n",
       "    </tr>\n",
       "    <tr>\n",
       "      <th>std</th>\n",
       "      <td>4.321011e+00</td>\n",
       "      <td>1.350218e+00</td>\n",
       "      <td>6.015259e+05</td>\n",
       "      <td>2.891679e+06</td>\n",
       "      <td>2.927705e+06</td>\n",
       "      <td>3.397815e+06</td>\n",
       "      <td>3.672788e+06</td>\n",
       "      <td>1.498417e-03</td>\n",
       "    </tr>\n",
       "    <tr>\n",
       "      <th>min</th>\n",
       "      <td>0.000000e+00</td>\n",
       "      <td>0.000000e+00</td>\n",
       "      <td>0.000000e+00</td>\n",
       "      <td>0.000000e+00</td>\n",
       "      <td>0.000000e+00</td>\n",
       "      <td>0.000000e+00</td>\n",
       "      <td>0.000000e+00</td>\n",
       "      <td>0.000000e+00</td>\n",
       "    </tr>\n",
       "    <tr>\n",
       "      <th>25%</th>\n",
       "      <td>1.200000e+01</td>\n",
       "      <td>1.000000e+00</td>\n",
       "      <td>1.340158e+04</td>\n",
       "      <td>0.000000e+00</td>\n",
       "      <td>0.000000e+00</td>\n",
       "      <td>0.000000e+00</td>\n",
       "      <td>0.000000e+00</td>\n",
       "      <td>0.000000e+00</td>\n",
       "    </tr>\n",
       "    <tr>\n",
       "      <th>50%</th>\n",
       "      <td>1.600000e+01</td>\n",
       "      <td>1.000000e+00</td>\n",
       "      <td>7.495514e+04</td>\n",
       "      <td>1.422399e+04</td>\n",
       "      <td>0.000000e+00</td>\n",
       "      <td>1.329971e+05</td>\n",
       "      <td>2.149782e+05</td>\n",
       "      <td>0.000000e+00</td>\n",
       "    </tr>\n",
       "    <tr>\n",
       "      <th>75%</th>\n",
       "      <td>1.900000e+01</td>\n",
       "      <td>3.000000e+00</td>\n",
       "      <td>2.087196e+05</td>\n",
       "      <td>1.073356e+05</td>\n",
       "      <td>1.442844e+05</td>\n",
       "      <td>9.447042e+05</td>\n",
       "      <td>1.113435e+06</td>\n",
       "      <td>0.000000e+00</td>\n",
       "    </tr>\n",
       "    <tr>\n",
       "      <th>max</th>\n",
       "      <td>2.300000e+01</td>\n",
       "      <td>4.000000e+00</td>\n",
       "      <td>7.382349e+07</td>\n",
       "      <td>5.731626e+07</td>\n",
       "      <td>4.731626e+07</td>\n",
       "      <td>3.560159e+08</td>\n",
       "      <td>3.561793e+08</td>\n",
       "      <td>1.000000e+00</td>\n",
       "    </tr>\n",
       "  </tbody>\n",
       "</table>\n",
       "</div>"
      ],
      "text/plain": [
       "               step          type        amount  oldbalanceOrg  \\\n",
       "count  4.453834e+06  4.453834e+06  4.453834e+06   4.453834e+06   \n",
       "mean   1.532364e+01  1.713478e+00  1.799547e+05   8.355434e+05   \n",
       "std    4.321011e+00  1.350218e+00  6.015259e+05   2.891679e+06   \n",
       "min    0.000000e+00  0.000000e+00  0.000000e+00   0.000000e+00   \n",
       "25%    1.200000e+01  1.000000e+00  1.340158e+04   0.000000e+00   \n",
       "50%    1.600000e+01  1.000000e+00  7.495514e+04   1.422399e+04   \n",
       "75%    1.900000e+01  3.000000e+00  2.087196e+05   1.073356e+05   \n",
       "max    2.300000e+01  4.000000e+00  7.382349e+07   5.731626e+07   \n",
       "\n",
       "       newbalanceOrig  oldbalanceDest  newbalanceDest  isFlaggedFraud  \n",
       "count    4.453834e+06    4.453834e+06    4.453834e+06    4.453834e+06  \n",
       "mean     8.567980e+05    1.101304e+06    1.225687e+06    2.245257e-06  \n",
       "std      2.927705e+06    3.397815e+06    3.672788e+06    1.498417e-03  \n",
       "min      0.000000e+00    0.000000e+00    0.000000e+00    0.000000e+00  \n",
       "25%      0.000000e+00    0.000000e+00    0.000000e+00    0.000000e+00  \n",
       "50%      0.000000e+00    1.329971e+05    2.149782e+05    0.000000e+00  \n",
       "75%      1.442844e+05    9.447042e+05    1.113435e+06    0.000000e+00  \n",
       "max      4.731626e+07    3.560159e+08    3.561793e+08    1.000000e+00  "
      ]
     },
     "execution_count": 113,
     "metadata": {},
     "output_type": "execute_result"
    }
   ],
   "source": [
    "X_train.describe()"
   ]
  },
  {
   "cell_type": "code",
   "execution_count": 115,
   "id": "836eeb4a",
   "metadata": {},
   "outputs": [],
   "source": [
    "from sklearn import metrics\n",
    "import numpy as np\n",
    "threshold = np.linspace(0.00,1.00,50)\n",
    "f1 = []\n",
    "pres = []\n",
    "rec = []\n",
    "for i in threshold:\n",
    "    predicted_proba = model.predict_proba(X_test)\n",
    "    predicted = (predicted_proba[:,1] >= i).astype('int')# + 1\n",
    "    f1_score = 100*metrics.f1_score(y_test, predicted)\n",
    "    precision = 100*metrics.precision_score(y_test, predicted)\n",
    "    recall = 100*metrics.recall_score(y_test, predicted)\n",
    "    f1.append(f1_score)\n",
    "    pres.append(precision)\n",
    "    rec.append(recall)"
   ]
  },
  {
   "cell_type": "code",
   "execution_count": 116,
   "id": "edbacdf1",
   "metadata": {},
   "outputs": [],
   "source": [
    "results = pd.DataFrame(threshold)\n",
    "results['f1_score'] = f1\n",
    "results['precision'] = pres\n",
    "results['recall'] = rec\n",
    "results.rename(columns={0: \"threshold\"},inplace=True)"
   ]
  },
  {
   "cell_type": "code",
   "execution_count": 117,
   "id": "cad222f2",
   "metadata": {},
   "outputs": [
    {
     "data": {
      "text/html": [
       "<div>\n",
       "<style scoped>\n",
       "    .dataframe tbody tr th:only-of-type {\n",
       "        vertical-align: middle;\n",
       "    }\n",
       "\n",
       "    .dataframe tbody tr th {\n",
       "        vertical-align: top;\n",
       "    }\n",
       "\n",
       "    .dataframe thead th {\n",
       "        text-align: right;\n",
       "    }\n",
       "</style>\n",
       "<table border=\"1\" class=\"dataframe\">\n",
       "  <thead>\n",
       "    <tr style=\"text-align: right;\">\n",
       "      <th></th>\n",
       "      <th>threshold</th>\n",
       "      <th>f1_score</th>\n",
       "      <th>precision</th>\n",
       "      <th>recall</th>\n",
       "    </tr>\n",
       "  </thead>\n",
       "  <tbody>\n",
       "    <tr>\n",
       "      <th>0</th>\n",
       "      <td>0.000000</td>\n",
       "      <td>0.253139</td>\n",
       "      <td>0.126730</td>\n",
       "      <td>100.000000</td>\n",
       "    </tr>\n",
       "    <tr>\n",
       "      <th>1</th>\n",
       "      <td>0.020408</td>\n",
       "      <td>0.399714</td>\n",
       "      <td>0.200258</td>\n",
       "      <td>99.710624</td>\n",
       "    </tr>\n",
       "    <tr>\n",
       "      <th>2</th>\n",
       "      <td>0.040816</td>\n",
       "      <td>0.450345</td>\n",
       "      <td>0.225682</td>\n",
       "      <td>99.669285</td>\n",
       "    </tr>\n",
       "    <tr>\n",
       "      <th>3</th>\n",
       "      <td>0.061224</td>\n",
       "      <td>0.497983</td>\n",
       "      <td>0.249616</td>\n",
       "      <td>99.545267</td>\n",
       "    </tr>\n",
       "    <tr>\n",
       "      <th>4</th>\n",
       "      <td>0.081633</td>\n",
       "      <td>0.569319</td>\n",
       "      <td>0.285479</td>\n",
       "      <td>99.214551</td>\n",
       "    </tr>\n",
       "    <tr>\n",
       "      <th>5</th>\n",
       "      <td>0.102041</td>\n",
       "      <td>0.680658</td>\n",
       "      <td>0.341505</td>\n",
       "      <td>98.842497</td>\n",
       "    </tr>\n",
       "    <tr>\n",
       "      <th>6</th>\n",
       "      <td>0.122449</td>\n",
       "      <td>0.808346</td>\n",
       "      <td>0.405841</td>\n",
       "      <td>98.346424</td>\n",
       "    </tr>\n",
       "    <tr>\n",
       "      <th>7</th>\n",
       "      <td>0.142857</td>\n",
       "      <td>0.938225</td>\n",
       "      <td>0.471372</td>\n",
       "      <td>97.850351</td>\n",
       "    </tr>\n",
       "    <tr>\n",
       "      <th>8</th>\n",
       "      <td>0.163265</td>\n",
       "      <td>1.091986</td>\n",
       "      <td>0.549075</td>\n",
       "      <td>97.271600</td>\n",
       "    </tr>\n",
       "    <tr>\n",
       "      <th>9</th>\n",
       "      <td>0.183673</td>\n",
       "      <td>1.273441</td>\n",
       "      <td>0.640945</td>\n",
       "      <td>96.610169</td>\n",
       "    </tr>\n",
       "    <tr>\n",
       "      <th>10</th>\n",
       "      <td>0.204082</td>\n",
       "      <td>1.489723</td>\n",
       "      <td>0.750684</td>\n",
       "      <td>96.031418</td>\n",
       "    </tr>\n",
       "    <tr>\n",
       "      <th>11</th>\n",
       "      <td>0.224490</td>\n",
       "      <td>1.752431</td>\n",
       "      <td>0.884351</td>\n",
       "      <td>95.245969</td>\n",
       "    </tr>\n",
       "    <tr>\n",
       "      <th>12</th>\n",
       "      <td>0.244898</td>\n",
       "      <td>2.090265</td>\n",
       "      <td>1.056784</td>\n",
       "      <td>94.791236</td>\n",
       "    </tr>\n",
       "    <tr>\n",
       "      <th>13</th>\n",
       "      <td>0.265306</td>\n",
       "      <td>2.469777</td>\n",
       "      <td>1.251268</td>\n",
       "      <td>94.336503</td>\n",
       "    </tr>\n",
       "    <tr>\n",
       "      <th>14</th>\n",
       "      <td>0.285714</td>\n",
       "      <td>2.790188</td>\n",
       "      <td>1.416176</td>\n",
       "      <td>93.716412</td>\n",
       "    </tr>\n",
       "    <tr>\n",
       "      <th>15</th>\n",
       "      <td>0.306122</td>\n",
       "      <td>3.066958</td>\n",
       "      <td>1.559196</td>\n",
       "      <td>92.972303</td>\n",
       "    </tr>\n",
       "    <tr>\n",
       "      <th>16</th>\n",
       "      <td>0.326531</td>\n",
       "      <td>3.332786</td>\n",
       "      <td>1.697014</td>\n",
       "      <td>92.352212</td>\n",
       "    </tr>\n",
       "    <tr>\n",
       "      <th>17</th>\n",
       "      <td>0.346939</td>\n",
       "      <td>3.591285</td>\n",
       "      <td>1.831444</td>\n",
       "      <td>91.856139</td>\n",
       "    </tr>\n",
       "    <tr>\n",
       "      <th>18</th>\n",
       "      <td>0.367347</td>\n",
       "      <td>3.825326</td>\n",
       "      <td>1.953676</td>\n",
       "      <td>91.112030</td>\n",
       "    </tr>\n",
       "    <tr>\n",
       "      <th>19</th>\n",
       "      <td>0.387755</td>\n",
       "      <td>4.068161</td>\n",
       "      <td>2.080745</td>\n",
       "      <td>90.698636</td>\n",
       "    </tr>\n",
       "    <tr>\n",
       "      <th>20</th>\n",
       "      <td>0.408163</td>\n",
       "      <td>4.305833</td>\n",
       "      <td>2.205607</td>\n",
       "      <td>90.119884</td>\n",
       "    </tr>\n",
       "    <tr>\n",
       "      <th>21</th>\n",
       "      <td>0.428571</td>\n",
       "      <td>4.551744</td>\n",
       "      <td>2.335087</td>\n",
       "      <td>89.747830</td>\n",
       "    </tr>\n",
       "    <tr>\n",
       "      <th>22</th>\n",
       "      <td>0.448980</td>\n",
       "      <td>4.826270</td>\n",
       "      <td>2.480097</td>\n",
       "      <td>89.375775</td>\n",
       "    </tr>\n",
       "    <tr>\n",
       "      <th>23</th>\n",
       "      <td>0.469388</td>\n",
       "      <td>5.146600</td>\n",
       "      <td>2.650209</td>\n",
       "      <td>88.673005</td>\n",
       "    </tr>\n",
       "    <tr>\n",
       "      <th>24</th>\n",
       "      <td>0.489796</td>\n",
       "      <td>5.549626</td>\n",
       "      <td>2.865014</td>\n",
       "      <td>88.135593</td>\n",
       "    </tr>\n",
       "    <tr>\n",
       "      <th>25</th>\n",
       "      <td>0.510204</td>\n",
       "      <td>6.107178</td>\n",
       "      <td>3.163933</td>\n",
       "      <td>87.556842</td>\n",
       "    </tr>\n",
       "    <tr>\n",
       "      <th>26</th>\n",
       "      <td>0.530612</td>\n",
       "      <td>6.521268</td>\n",
       "      <td>3.387379</td>\n",
       "      <td>87.143448</td>\n",
       "    </tr>\n",
       "    <tr>\n",
       "      <th>27</th>\n",
       "      <td>0.551020</td>\n",
       "      <td>6.888263</td>\n",
       "      <td>3.586983</td>\n",
       "      <td>86.482017</td>\n",
       "    </tr>\n",
       "    <tr>\n",
       "      <th>28</th>\n",
       "      <td>0.571429</td>\n",
       "      <td>7.231434</td>\n",
       "      <td>3.774751</td>\n",
       "      <td>85.820587</td>\n",
       "    </tr>\n",
       "    <tr>\n",
       "      <th>29</th>\n",
       "      <td>0.591837</td>\n",
       "      <td>7.539551</td>\n",
       "      <td>3.944917</td>\n",
       "      <td>84.911120</td>\n",
       "    </tr>\n",
       "    <tr>\n",
       "      <th>30</th>\n",
       "      <td>0.612245</td>\n",
       "      <td>7.871709</td>\n",
       "      <td>4.128338</td>\n",
       "      <td>84.415048</td>\n",
       "    </tr>\n",
       "    <tr>\n",
       "      <th>31</th>\n",
       "      <td>0.632653</td>\n",
       "      <td>8.182572</td>\n",
       "      <td>4.301624</td>\n",
       "      <td>83.670938</td>\n",
       "    </tr>\n",
       "    <tr>\n",
       "      <th>32</th>\n",
       "      <td>0.653061</td>\n",
       "      <td>8.492443</td>\n",
       "      <td>4.475381</td>\n",
       "      <td>82.926829</td>\n",
       "    </tr>\n",
       "    <tr>\n",
       "      <th>33</th>\n",
       "      <td>0.673469</td>\n",
       "      <td>8.843522</td>\n",
       "      <td>4.672001</td>\n",
       "      <td>82.554775</td>\n",
       "    </tr>\n",
       "    <tr>\n",
       "      <th>34</th>\n",
       "      <td>0.693878</td>\n",
       "      <td>9.215864</td>\n",
       "      <td>4.881642</td>\n",
       "      <td>82.182720</td>\n",
       "    </tr>\n",
       "    <tr>\n",
       "      <th>35</th>\n",
       "      <td>0.714286</td>\n",
       "      <td>9.559394</td>\n",
       "      <td>5.077712</td>\n",
       "      <td>81.438611</td>\n",
       "    </tr>\n",
       "    <tr>\n",
       "      <th>36</th>\n",
       "      <td>0.734694</td>\n",
       "      <td>9.932681</td>\n",
       "      <td>5.291507</td>\n",
       "      <td>80.818520</td>\n",
       "    </tr>\n",
       "    <tr>\n",
       "      <th>37</th>\n",
       "      <td>0.755102</td>\n",
       "      <td>10.344552</td>\n",
       "      <td>5.528654</td>\n",
       "      <td>80.239768</td>\n",
       "    </tr>\n",
       "    <tr>\n",
       "      <th>38</th>\n",
       "      <td>0.775510</td>\n",
       "      <td>10.760927</td>\n",
       "      <td>5.770846</td>\n",
       "      <td>79.536999</td>\n",
       "    </tr>\n",
       "    <tr>\n",
       "      <th>39</th>\n",
       "      <td>0.795918</td>\n",
       "      <td>11.243491</td>\n",
       "      <td>6.052448</td>\n",
       "      <td>78.999587</td>\n",
       "    </tr>\n",
       "    <tr>\n",
       "      <th>40</th>\n",
       "      <td>0.816327</td>\n",
       "      <td>11.771660</td>\n",
       "      <td>6.364798</td>\n",
       "      <td>78.214138</td>\n",
       "    </tr>\n",
       "    <tr>\n",
       "      <th>41</th>\n",
       "      <td>0.836735</td>\n",
       "      <td>12.369774</td>\n",
       "      <td>6.720883</td>\n",
       "      <td>77.552708</td>\n",
       "    </tr>\n",
       "    <tr>\n",
       "      <th>42</th>\n",
       "      <td>0.857143</td>\n",
       "      <td>13.023484</td>\n",
       "      <td>7.116004</td>\n",
       "      <td>76.684580</td>\n",
       "    </tr>\n",
       "    <tr>\n",
       "      <th>43</th>\n",
       "      <td>0.877551</td>\n",
       "      <td>13.812863</td>\n",
       "      <td>7.599452</td>\n",
       "      <td>75.733774</td>\n",
       "    </tr>\n",
       "    <tr>\n",
       "      <th>44</th>\n",
       "      <td>0.897959</td>\n",
       "      <td>14.750613</td>\n",
       "      <td>8.184747</td>\n",
       "      <td>74.576271</td>\n",
       "    </tr>\n",
       "    <tr>\n",
       "      <th>45</th>\n",
       "      <td>0.918367</td>\n",
       "      <td>16.041432</td>\n",
       "      <td>9.001314</td>\n",
       "      <td>73.625465</td>\n",
       "    </tr>\n",
       "    <tr>\n",
       "      <th>46</th>\n",
       "      <td>0.938776</td>\n",
       "      <td>17.705382</td>\n",
       "      <td>10.087037</td>\n",
       "      <td>72.343944</td>\n",
       "    </tr>\n",
       "    <tr>\n",
       "      <th>47</th>\n",
       "      <td>0.959184</td>\n",
       "      <td>20.127947</td>\n",
       "      <td>11.747217</td>\n",
       "      <td>70.235635</td>\n",
       "    </tr>\n",
       "    <tr>\n",
       "      <th>48</th>\n",
       "      <td>0.979592</td>\n",
       "      <td>24.687076</td>\n",
       "      <td>15.097298</td>\n",
       "      <td>67.672592</td>\n",
       "    </tr>\n",
       "    <tr>\n",
       "      <th>49</th>\n",
       "      <td>1.000000</td>\n",
       "      <td>42.387097</td>\n",
       "      <td>96.475771</td>\n",
       "      <td>27.159983</td>\n",
       "    </tr>\n",
       "  </tbody>\n",
       "</table>\n",
       "</div>"
      ],
      "text/plain": [
       "    threshold   f1_score  precision      recall\n",
       "0    0.000000   0.253139   0.126730  100.000000\n",
       "1    0.020408   0.399714   0.200258   99.710624\n",
       "2    0.040816   0.450345   0.225682   99.669285\n",
       "3    0.061224   0.497983   0.249616   99.545267\n",
       "4    0.081633   0.569319   0.285479   99.214551\n",
       "5    0.102041   0.680658   0.341505   98.842497\n",
       "6    0.122449   0.808346   0.405841   98.346424\n",
       "7    0.142857   0.938225   0.471372   97.850351\n",
       "8    0.163265   1.091986   0.549075   97.271600\n",
       "9    0.183673   1.273441   0.640945   96.610169\n",
       "10   0.204082   1.489723   0.750684   96.031418\n",
       "11   0.224490   1.752431   0.884351   95.245969\n",
       "12   0.244898   2.090265   1.056784   94.791236\n",
       "13   0.265306   2.469777   1.251268   94.336503\n",
       "14   0.285714   2.790188   1.416176   93.716412\n",
       "15   0.306122   3.066958   1.559196   92.972303\n",
       "16   0.326531   3.332786   1.697014   92.352212\n",
       "17   0.346939   3.591285   1.831444   91.856139\n",
       "18   0.367347   3.825326   1.953676   91.112030\n",
       "19   0.387755   4.068161   2.080745   90.698636\n",
       "20   0.408163   4.305833   2.205607   90.119884\n",
       "21   0.428571   4.551744   2.335087   89.747830\n",
       "22   0.448980   4.826270   2.480097   89.375775\n",
       "23   0.469388   5.146600   2.650209   88.673005\n",
       "24   0.489796   5.549626   2.865014   88.135593\n",
       "25   0.510204   6.107178   3.163933   87.556842\n",
       "26   0.530612   6.521268   3.387379   87.143448\n",
       "27   0.551020   6.888263   3.586983   86.482017\n",
       "28   0.571429   7.231434   3.774751   85.820587\n",
       "29   0.591837   7.539551   3.944917   84.911120\n",
       "30   0.612245   7.871709   4.128338   84.415048\n",
       "31   0.632653   8.182572   4.301624   83.670938\n",
       "32   0.653061   8.492443   4.475381   82.926829\n",
       "33   0.673469   8.843522   4.672001   82.554775\n",
       "34   0.693878   9.215864   4.881642   82.182720\n",
       "35   0.714286   9.559394   5.077712   81.438611\n",
       "36   0.734694   9.932681   5.291507   80.818520\n",
       "37   0.755102  10.344552   5.528654   80.239768\n",
       "38   0.775510  10.760927   5.770846   79.536999\n",
       "39   0.795918  11.243491   6.052448   78.999587\n",
       "40   0.816327  11.771660   6.364798   78.214138\n",
       "41   0.836735  12.369774   6.720883   77.552708\n",
       "42   0.857143  13.023484   7.116004   76.684580\n",
       "43   0.877551  13.812863   7.599452   75.733774\n",
       "44   0.897959  14.750613   8.184747   74.576271\n",
       "45   0.918367  16.041432   9.001314   73.625465\n",
       "46   0.938776  17.705382  10.087037   72.343944\n",
       "47   0.959184  20.127947  11.747217   70.235635\n",
       "48   0.979592  24.687076  15.097298   67.672592\n",
       "49   1.000000  42.387097  96.475771   27.159983"
      ]
     },
     "execution_count": 117,
     "metadata": {},
     "output_type": "execute_result"
    }
   ],
   "source": [
    "results"
   ]
  },
  {
   "cell_type": "markdown",
   "id": "bc3d19b3",
   "metadata": {},
   "source": [
    "# SMOTE ON ENTIRE DATA (WRONG METHOD SHOWN IN VIDEO)"
   ]
  },
  {
   "cell_type": "code",
   "execution_count": 9,
   "id": "e2d664cb",
   "metadata": {},
   "outputs": [],
   "source": [
    "X = df.drop(['isFraud'],axis=1)\n",
    "y = df['isFraud']"
   ]
  },
  {
   "cell_type": "code",
   "execution_count": 119,
   "id": "efa040c7",
   "metadata": {},
   "outputs": [],
   "source": [
    "from imblearn.over_sampling import SMOTE"
   ]
  },
  {
   "cell_type": "code",
   "execution_count": 120,
   "id": "97fc3848",
   "metadata": {},
   "outputs": [],
   "source": [
    "os = SMOTE(sampling_strategy='minority', random_state=0)"
   ]
  },
  {
   "cell_type": "code",
   "execution_count": 121,
   "id": "7c71572e",
   "metadata": {},
   "outputs": [],
   "source": [
    "from sklearn.preprocessing import LabelEncoder\n",
    "le = LabelEncoder()"
   ]
  },
  {
   "cell_type": "code",
   "execution_count": 122,
   "id": "c781932a",
   "metadata": {},
   "outputs": [],
   "source": [
    "var = X.select_dtypes(include='object').columns"
   ]
  },
  {
   "cell_type": "code",
   "execution_count": 123,
   "id": "1b2ae13c",
   "metadata": {},
   "outputs": [],
   "source": [
    "for i in var:\n",
    "    X[i] = le.fit_transform(X[i])"
   ]
  },
  {
   "cell_type": "code",
   "execution_count": 124,
   "id": "90bf2fe9",
   "metadata": {},
   "outputs": [],
   "source": [
    "X_sm , y_sm = os.fit_resample(X,y)"
   ]
  },
  {
   "cell_type": "code",
   "execution_count": 125,
   "id": "014b566b",
   "metadata": {},
   "outputs": [
    {
     "name": "stdout",
     "output_type": "stream",
     "text": [
      "<class 'pandas.core.frame.DataFrame'>\n",
      "RangeIndex: 12708814 entries, 0 to 12708813\n",
      "Data columns (total 8 columns):\n",
      " #   Column          Dtype  \n",
      "---  ------          -----  \n",
      " 0   step            int64  \n",
      " 1   type            int32  \n",
      " 2   amount          float64\n",
      " 3   oldbalanceOrg   float64\n",
      " 4   newbalanceOrig  float64\n",
      " 5   oldbalanceDest  float64\n",
      " 6   newbalanceDest  float64\n",
      " 7   isFlaggedFraud  int64  \n",
      "dtypes: float64(5), int32(1), int64(2)\n",
      "memory usage: 727.2 MB\n"
     ]
    }
   ],
   "source": [
    "X_sm.info()"
   ]
  },
  {
   "cell_type": "code",
   "execution_count": 126,
   "id": "22067851",
   "metadata": {},
   "outputs": [
    {
     "name": "stdout",
     "output_type": "stream",
     "text": [
      "<class 'pandas.core.series.Series'>\n",
      "RangeIndex: 12708814 entries, 0 to 12708813\n",
      "Series name: isFraud\n",
      "Non-Null Count     Dtype\n",
      "--------------     -----\n",
      "12708814 non-null  int64\n",
      "dtypes: int64(1)\n",
      "memory usage: 97.0 MB\n"
     ]
    }
   ],
   "source": [
    "y_sm.info()"
   ]
  },
  {
   "cell_type": "code",
   "execution_count": 127,
   "id": "b072ddc3",
   "metadata": {},
   "outputs": [
    {
     "name": "stdout",
     "output_type": "stream",
     "text": [
      "BEFORE SMOTE: Counter({0: 6354407, 1: 8213})\n",
      "AFTER SMOTE: Counter({0: 6354407, 1: 6354407})\n"
     ]
    }
   ],
   "source": [
    "from collections import Counter\n",
    "print(\"BEFORE SMOTE:\",Counter(y))\n",
    "print(\"AFTER SMOTE:\",Counter(y_sm))"
   ]
  },
  {
   "cell_type": "code",
   "execution_count": 128,
   "id": "69d25c7b",
   "metadata": {},
   "outputs": [],
   "source": [
    "from sklearn.model_selection import train_test_split\n",
    "X_train , X_test , y_train , y_test = train_test_split(X_sm,y_sm, test_size=0.30 , random_state=0,stratify=y_sm)"
   ]
  },
  {
   "cell_type": "code",
   "execution_count": 129,
   "id": "5c6c78a4",
   "metadata": {},
   "outputs": [
    {
     "data": {
      "text/html": [
       "<div>\n",
       "<style scoped>\n",
       "    .dataframe tbody tr th:only-of-type {\n",
       "        vertical-align: middle;\n",
       "    }\n",
       "\n",
       "    .dataframe tbody tr th {\n",
       "        vertical-align: top;\n",
       "    }\n",
       "\n",
       "    .dataframe thead th {\n",
       "        text-align: right;\n",
       "    }\n",
       "</style>\n",
       "<table border=\"1\" class=\"dataframe\">\n",
       "  <thead>\n",
       "    <tr style=\"text-align: right;\">\n",
       "      <th></th>\n",
       "      <th>step</th>\n",
       "      <th>type</th>\n",
       "      <th>amount</th>\n",
       "      <th>oldbalanceOrg</th>\n",
       "      <th>newbalanceOrig</th>\n",
       "      <th>oldbalanceDest</th>\n",
       "      <th>newbalanceDest</th>\n",
       "      <th>isFlaggedFraud</th>\n",
       "    </tr>\n",
       "  </thead>\n",
       "  <tbody>\n",
       "    <tr>\n",
       "      <th>count</th>\n",
       "      <td>8.896169e+06</td>\n",
       "      <td>8.896169e+06</td>\n",
       "      <td>8.896169e+06</td>\n",
       "      <td>8.896169e+06</td>\n",
       "      <td>8.896169e+06</td>\n",
       "      <td>8.896169e+06</td>\n",
       "      <td>8.896169e+06</td>\n",
       "      <td>8.896169e+06</td>\n",
       "    </tr>\n",
       "    <tr>\n",
       "      <th>mean</th>\n",
       "      <td>1.318837e+01</td>\n",
       "      <td>2.104186e+00</td>\n",
       "      <td>8.230119e+05</td>\n",
       "      <td>1.240102e+06</td>\n",
       "      <td>5.223527e+05</td>\n",
       "      <td>8.159807e+05</td>\n",
       "      <td>1.243827e+06</td>\n",
       "      <td>6.648929e-04</td>\n",
       "    </tr>\n",
       "    <tr>\n",
       "      <th>std</th>\n",
       "      <td>5.458711e+00</td>\n",
       "      <td>1.478243e+00</td>\n",
       "      <td>1.866316e+06</td>\n",
       "      <td>3.249564e+06</td>\n",
       "      <td>2.500204e+06</td>\n",
       "      <td>3.074581e+06</td>\n",
       "      <td>3.522653e+06</td>\n",
       "      <td>2.577695e-02</td>\n",
       "    </tr>\n",
       "    <tr>\n",
       "      <th>min</th>\n",
       "      <td>0.000000e+00</td>\n",
       "      <td>0.000000e+00</td>\n",
       "      <td>0.000000e+00</td>\n",
       "      <td>0.000000e+00</td>\n",
       "      <td>0.000000e+00</td>\n",
       "      <td>0.000000e+00</td>\n",
       "      <td>0.000000e+00</td>\n",
       "      <td>0.000000e+00</td>\n",
       "    </tr>\n",
       "    <tr>\n",
       "      <th>25%</th>\n",
       "      <td>1.000000e+01</td>\n",
       "      <td>1.000000e+00</td>\n",
       "      <td>3.709253e+04</td>\n",
       "      <td>1.062500e+04</td>\n",
       "      <td>0.000000e+00</td>\n",
       "      <td>0.000000e+00</td>\n",
       "      <td>0.000000e+00</td>\n",
       "      <td>0.000000e+00</td>\n",
       "    </tr>\n",
       "    <tr>\n",
       "      <th>50%</th>\n",
       "      <td>1.400000e+01</td>\n",
       "      <td>1.000000e+00</td>\n",
       "      <td>1.722747e+05</td>\n",
       "      <td>1.191628e+05</td>\n",
       "      <td>0.000000e+00</td>\n",
       "      <td>0.000000e+00</td>\n",
       "      <td>1.231336e+05</td>\n",
       "      <td>0.000000e+00</td>\n",
       "    </tr>\n",
       "    <tr>\n",
       "      <th>75%</th>\n",
       "      <td>1.800000e+01</td>\n",
       "      <td>4.000000e+00</td>\n",
       "      <td>5.425354e+05</td>\n",
       "      <td>7.966500e+05</td>\n",
       "      <td>0.000000e+00</td>\n",
       "      <td>5.100078e+05</td>\n",
       "      <td>1.086900e+06</td>\n",
       "      <td>0.000000e+00</td>\n",
       "    </tr>\n",
       "    <tr>\n",
       "      <th>max</th>\n",
       "      <td>2.300000e+01</td>\n",
       "      <td>4.000000e+00</td>\n",
       "      <td>9.244552e+07</td>\n",
       "      <td>5.958504e+07</td>\n",
       "      <td>4.958504e+07</td>\n",
       "      <td>3.560159e+08</td>\n",
       "      <td>3.561793e+08</td>\n",
       "      <td>1.000000e+00</td>\n",
       "    </tr>\n",
       "  </tbody>\n",
       "</table>\n",
       "</div>"
      ],
      "text/plain": [
       "               step          type        amount  oldbalanceOrg  \\\n",
       "count  8.896169e+06  8.896169e+06  8.896169e+06   8.896169e+06   \n",
       "mean   1.318837e+01  2.104186e+00  8.230119e+05   1.240102e+06   \n",
       "std    5.458711e+00  1.478243e+00  1.866316e+06   3.249564e+06   \n",
       "min    0.000000e+00  0.000000e+00  0.000000e+00   0.000000e+00   \n",
       "25%    1.000000e+01  1.000000e+00  3.709253e+04   1.062500e+04   \n",
       "50%    1.400000e+01  1.000000e+00  1.722747e+05   1.191628e+05   \n",
       "75%    1.800000e+01  4.000000e+00  5.425354e+05   7.966500e+05   \n",
       "max    2.300000e+01  4.000000e+00  9.244552e+07   5.958504e+07   \n",
       "\n",
       "       newbalanceOrig  oldbalanceDest  newbalanceDest  isFlaggedFraud  \n",
       "count    8.896169e+06    8.896169e+06    8.896169e+06    8.896169e+06  \n",
       "mean     5.223527e+05    8.159807e+05    1.243827e+06    6.648929e-04  \n",
       "std      2.500204e+06    3.074581e+06    3.522653e+06    2.577695e-02  \n",
       "min      0.000000e+00    0.000000e+00    0.000000e+00    0.000000e+00  \n",
       "25%      0.000000e+00    0.000000e+00    0.000000e+00    0.000000e+00  \n",
       "50%      0.000000e+00    0.000000e+00    1.231336e+05    0.000000e+00  \n",
       "75%      0.000000e+00    5.100078e+05    1.086900e+06    0.000000e+00  \n",
       "max      4.958504e+07    3.560159e+08    3.561793e+08    1.000000e+00  "
      ]
     },
     "execution_count": 129,
     "metadata": {},
     "output_type": "execute_result"
    }
   ],
   "source": [
    "X_train.describe()"
   ]
  },
  {
   "cell_type": "code",
   "execution_count": 130,
   "id": "5b1e183d",
   "metadata": {},
   "outputs": [
    {
     "data": {
      "text/html": [
       "<div>\n",
       "<style scoped>\n",
       "    .dataframe tbody tr th:only-of-type {\n",
       "        vertical-align: middle;\n",
       "    }\n",
       "\n",
       "    .dataframe tbody tr th {\n",
       "        vertical-align: top;\n",
       "    }\n",
       "\n",
       "    .dataframe thead th {\n",
       "        text-align: right;\n",
       "    }\n",
       "</style>\n",
       "<table border=\"1\" class=\"dataframe\">\n",
       "  <thead>\n",
       "    <tr style=\"text-align: right;\">\n",
       "      <th></th>\n",
       "      <th>step</th>\n",
       "      <th>type</th>\n",
       "      <th>amount</th>\n",
       "      <th>oldbalanceOrg</th>\n",
       "      <th>newbalanceOrig</th>\n",
       "      <th>oldbalanceDest</th>\n",
       "      <th>newbalanceDest</th>\n",
       "      <th>isFlaggedFraud</th>\n",
       "    </tr>\n",
       "  </thead>\n",
       "  <tbody>\n",
       "    <tr>\n",
       "      <th>count</th>\n",
       "      <td>6.362620e+06</td>\n",
       "      <td>6.362620e+06</td>\n",
       "      <td>6.362620e+06</td>\n",
       "      <td>6.362620e+06</td>\n",
       "      <td>6.362620e+06</td>\n",
       "      <td>6.362620e+06</td>\n",
       "      <td>6.362620e+06</td>\n",
       "      <td>6.362620e+06</td>\n",
       "    </tr>\n",
       "    <tr>\n",
       "      <th>mean</th>\n",
       "      <td>1.532145e+01</td>\n",
       "      <td>1.714150e+00</td>\n",
       "      <td>1.798619e+05</td>\n",
       "      <td>8.338831e+05</td>\n",
       "      <td>8.551137e+05</td>\n",
       "      <td>1.100702e+06</td>\n",
       "      <td>1.224996e+06</td>\n",
       "      <td>2.514687e-06</td>\n",
       "    </tr>\n",
       "    <tr>\n",
       "      <th>std</th>\n",
       "      <td>4.321799e+00</td>\n",
       "      <td>1.350117e+00</td>\n",
       "      <td>6.038582e+05</td>\n",
       "      <td>2.888243e+06</td>\n",
       "      <td>2.924049e+06</td>\n",
       "      <td>3.399180e+06</td>\n",
       "      <td>3.674129e+06</td>\n",
       "      <td>1.585775e-03</td>\n",
       "    </tr>\n",
       "    <tr>\n",
       "      <th>min</th>\n",
       "      <td>0.000000e+00</td>\n",
       "      <td>0.000000e+00</td>\n",
       "      <td>0.000000e+00</td>\n",
       "      <td>0.000000e+00</td>\n",
       "      <td>0.000000e+00</td>\n",
       "      <td>0.000000e+00</td>\n",
       "      <td>0.000000e+00</td>\n",
       "      <td>0.000000e+00</td>\n",
       "    </tr>\n",
       "    <tr>\n",
       "      <th>25%</th>\n",
       "      <td>1.200000e+01</td>\n",
       "      <td>1.000000e+00</td>\n",
       "      <td>1.338957e+04</td>\n",
       "      <td>0.000000e+00</td>\n",
       "      <td>0.000000e+00</td>\n",
       "      <td>0.000000e+00</td>\n",
       "      <td>0.000000e+00</td>\n",
       "      <td>0.000000e+00</td>\n",
       "    </tr>\n",
       "    <tr>\n",
       "      <th>50%</th>\n",
       "      <td>1.600000e+01</td>\n",
       "      <td>1.000000e+00</td>\n",
       "      <td>7.487194e+04</td>\n",
       "      <td>1.420800e+04</td>\n",
       "      <td>0.000000e+00</td>\n",
       "      <td>1.327057e+05</td>\n",
       "      <td>2.146614e+05</td>\n",
       "      <td>0.000000e+00</td>\n",
       "    </tr>\n",
       "    <tr>\n",
       "      <th>75%</th>\n",
       "      <td>1.900000e+01</td>\n",
       "      <td>3.000000e+00</td>\n",
       "      <td>2.087215e+05</td>\n",
       "      <td>1.073152e+05</td>\n",
       "      <td>1.442584e+05</td>\n",
       "      <td>9.430367e+05</td>\n",
       "      <td>1.111909e+06</td>\n",
       "      <td>0.000000e+00</td>\n",
       "    </tr>\n",
       "    <tr>\n",
       "      <th>max</th>\n",
       "      <td>2.300000e+01</td>\n",
       "      <td>4.000000e+00</td>\n",
       "      <td>9.244552e+07</td>\n",
       "      <td>5.958504e+07</td>\n",
       "      <td>4.958504e+07</td>\n",
       "      <td>3.560159e+08</td>\n",
       "      <td>3.561793e+08</td>\n",
       "      <td>1.000000e+00</td>\n",
       "    </tr>\n",
       "  </tbody>\n",
       "</table>\n",
       "</div>"
      ],
      "text/plain": [
       "               step          type        amount  oldbalanceOrg  \\\n",
       "count  6.362620e+06  6.362620e+06  6.362620e+06   6.362620e+06   \n",
       "mean   1.532145e+01  1.714150e+00  1.798619e+05   8.338831e+05   \n",
       "std    4.321799e+00  1.350117e+00  6.038582e+05   2.888243e+06   \n",
       "min    0.000000e+00  0.000000e+00  0.000000e+00   0.000000e+00   \n",
       "25%    1.200000e+01  1.000000e+00  1.338957e+04   0.000000e+00   \n",
       "50%    1.600000e+01  1.000000e+00  7.487194e+04   1.420800e+04   \n",
       "75%    1.900000e+01  3.000000e+00  2.087215e+05   1.073152e+05   \n",
       "max    2.300000e+01  4.000000e+00  9.244552e+07   5.958504e+07   \n",
       "\n",
       "       newbalanceOrig  oldbalanceDest  newbalanceDest  isFlaggedFraud  \n",
       "count    6.362620e+06    6.362620e+06    6.362620e+06    6.362620e+06  \n",
       "mean     8.551137e+05    1.100702e+06    1.224996e+06    2.514687e-06  \n",
       "std      2.924049e+06    3.399180e+06    3.674129e+06    1.585775e-03  \n",
       "min      0.000000e+00    0.000000e+00    0.000000e+00    0.000000e+00  \n",
       "25%      0.000000e+00    0.000000e+00    0.000000e+00    0.000000e+00  \n",
       "50%      0.000000e+00    1.327057e+05    2.146614e+05    0.000000e+00  \n",
       "75%      1.442584e+05    9.430367e+05    1.111909e+06    0.000000e+00  \n",
       "max      4.958504e+07    3.560159e+08    3.561793e+08    1.000000e+00  "
      ]
     },
     "execution_count": 130,
     "metadata": {},
     "output_type": "execute_result"
    }
   ],
   "source": [
    "X.describe()"
   ]
  },
  {
   "cell_type": "code",
   "execution_count": 131,
   "id": "335ef402",
   "metadata": {},
   "outputs": [
    {
     "name": "stdout",
     "output_type": "stream",
     "text": [
      "<class 'pandas.core.series.Series'>\n",
      "Int64Index: 8896169 entries, 2803692 to 12082608\n",
      "Series name: isFraud\n",
      "Non-Null Count    Dtype\n",
      "--------------    -----\n",
      "8896169 non-null  int64\n",
      "dtypes: int64(1)\n",
      "memory usage: 135.7 MB\n"
     ]
    }
   ],
   "source": [
    "y_train.info()"
   ]
  },
  {
   "cell_type": "code",
   "execution_count": 132,
   "id": "229823f9",
   "metadata": {},
   "outputs": [],
   "source": [
    "from sklearn.linear_model import LogisticRegression\n",
    "model = LogisticRegression()"
   ]
  },
  {
   "cell_type": "code",
   "execution_count": 133,
   "id": "f6567541",
   "metadata": {},
   "outputs": [
    {
     "data": {
      "text/html": [
       "<style>#sk-container-id-5 {color: black;background-color: white;}#sk-container-id-5 pre{padding: 0;}#sk-container-id-5 div.sk-toggleable {background-color: white;}#sk-container-id-5 label.sk-toggleable__label {cursor: pointer;display: block;width: 100%;margin-bottom: 0;padding: 0.3em;box-sizing: border-box;text-align: center;}#sk-container-id-5 label.sk-toggleable__label-arrow:before {content: \"▸\";float: left;margin-right: 0.25em;color: #696969;}#sk-container-id-5 label.sk-toggleable__label-arrow:hover:before {color: black;}#sk-container-id-5 div.sk-estimator:hover label.sk-toggleable__label-arrow:before {color: black;}#sk-container-id-5 div.sk-toggleable__content {max-height: 0;max-width: 0;overflow: hidden;text-align: left;background-color: #f0f8ff;}#sk-container-id-5 div.sk-toggleable__content pre {margin: 0.2em;color: black;border-radius: 0.25em;background-color: #f0f8ff;}#sk-container-id-5 input.sk-toggleable__control:checked~div.sk-toggleable__content {max-height: 200px;max-width: 100%;overflow: auto;}#sk-container-id-5 input.sk-toggleable__control:checked~label.sk-toggleable__label-arrow:before {content: \"▾\";}#sk-container-id-5 div.sk-estimator input.sk-toggleable__control:checked~label.sk-toggleable__label {background-color: #d4ebff;}#sk-container-id-5 div.sk-label input.sk-toggleable__control:checked~label.sk-toggleable__label {background-color: #d4ebff;}#sk-container-id-5 input.sk-hidden--visually {border: 0;clip: rect(1px 1px 1px 1px);clip: rect(1px, 1px, 1px, 1px);height: 1px;margin: -1px;overflow: hidden;padding: 0;position: absolute;width: 1px;}#sk-container-id-5 div.sk-estimator {font-family: monospace;background-color: #f0f8ff;border: 1px dotted black;border-radius: 0.25em;box-sizing: border-box;margin-bottom: 0.5em;}#sk-container-id-5 div.sk-estimator:hover {background-color: #d4ebff;}#sk-container-id-5 div.sk-parallel-item::after {content: \"\";width: 100%;border-bottom: 1px solid gray;flex-grow: 1;}#sk-container-id-5 div.sk-label:hover label.sk-toggleable__label {background-color: #d4ebff;}#sk-container-id-5 div.sk-serial::before {content: \"\";position: absolute;border-left: 1px solid gray;box-sizing: border-box;top: 0;bottom: 0;left: 50%;z-index: 0;}#sk-container-id-5 div.sk-serial {display: flex;flex-direction: column;align-items: center;background-color: white;padding-right: 0.2em;padding-left: 0.2em;position: relative;}#sk-container-id-5 div.sk-item {position: relative;z-index: 1;}#sk-container-id-5 div.sk-parallel {display: flex;align-items: stretch;justify-content: center;background-color: white;position: relative;}#sk-container-id-5 div.sk-item::before, #sk-container-id-5 div.sk-parallel-item::before {content: \"\";position: absolute;border-left: 1px solid gray;box-sizing: border-box;top: 0;bottom: 0;left: 50%;z-index: -1;}#sk-container-id-5 div.sk-parallel-item {display: flex;flex-direction: column;z-index: 1;position: relative;background-color: white;}#sk-container-id-5 div.sk-parallel-item:first-child::after {align-self: flex-end;width: 50%;}#sk-container-id-5 div.sk-parallel-item:last-child::after {align-self: flex-start;width: 50%;}#sk-container-id-5 div.sk-parallel-item:only-child::after {width: 0;}#sk-container-id-5 div.sk-dashed-wrapped {border: 1px dashed gray;margin: 0 0.4em 0.5em 0.4em;box-sizing: border-box;padding-bottom: 0.4em;background-color: white;}#sk-container-id-5 div.sk-label label {font-family: monospace;font-weight: bold;display: inline-block;line-height: 1.2em;}#sk-container-id-5 div.sk-label-container {text-align: center;}#sk-container-id-5 div.sk-container {/* jupyter's `normalize.less` sets `[hidden] { display: none; }` but bootstrap.min.css set `[hidden] { display: none !important; }` so we also need the `!important` here to be able to override the default hidden behavior on the sphinx rendered scikit-learn.org. See: https://github.com/scikit-learn/scikit-learn/issues/21755 */display: inline-block !important;position: relative;}#sk-container-id-5 div.sk-text-repr-fallback {display: none;}</style><div id=\"sk-container-id-5\" class=\"sk-top-container\"><div class=\"sk-text-repr-fallback\"><pre>LogisticRegression()</pre><b>In a Jupyter environment, please rerun this cell to show the HTML representation or trust the notebook. <br />On GitHub, the HTML representation is unable to render, please try loading this page with nbviewer.org.</b></div><div class=\"sk-container\" hidden><div class=\"sk-item\"><div class=\"sk-estimator sk-toggleable\"><input class=\"sk-toggleable__control sk-hidden--visually\" id=\"sk-estimator-id-5\" type=\"checkbox\" checked><label for=\"sk-estimator-id-5\" class=\"sk-toggleable__label sk-toggleable__label-arrow\">LogisticRegression</label><div class=\"sk-toggleable__content\"><pre>LogisticRegression()</pre></div></div></div></div></div>"
      ],
      "text/plain": [
       "LogisticRegression()"
      ]
     },
     "execution_count": 133,
     "metadata": {},
     "output_type": "execute_result"
    }
   ],
   "source": [
    "model.fit(X_train,y_train)"
   ]
  },
  {
   "cell_type": "code",
   "execution_count": 134,
   "id": "7067b356",
   "metadata": {},
   "outputs": [
    {
     "data": {
      "text/plain": [
       "0.836651596884007"
      ]
     },
     "execution_count": 134,
     "metadata": {},
     "output_type": "execute_result"
    }
   ],
   "source": [
    "model.score(X_train,y_train)"
   ]
  },
  {
   "cell_type": "code",
   "execution_count": 135,
   "id": "d39fcdfe",
   "metadata": {},
   "outputs": [
    {
     "data": {
      "text/plain": [
       "0.8368712534211814"
      ]
     },
     "execution_count": 135,
     "metadata": {},
     "output_type": "execute_result"
    }
   ],
   "source": [
    "model.score(X_test,y_test)"
   ]
  },
  {
   "cell_type": "code",
   "execution_count": 136,
   "id": "4379a590",
   "metadata": {},
   "outputs": [],
   "source": [
    "from sklearn.metrics import classification_report, confusion_matrix"
   ]
  },
  {
   "cell_type": "code",
   "execution_count": 137,
   "id": "41fa5bce",
   "metadata": {},
   "outputs": [],
   "source": [
    "y_predict = model.predict(X_test)"
   ]
  },
  {
   "cell_type": "markdown",
   "id": "c5394ee5",
   "metadata": {},
   "source": [
    "### The F-1 Score is showing as 86% however this is due to SMOTE being applied on testing data aswell , which means these results are synthetic , to confirm this you can compare the X_train_sm.describe() from previous method and X_train.describe() of this method , you will find the two identical , which implies that the model being trained is identical , however since the testing data has been tampered , we get these unrealistic/false results in the classifcation report"
   ]
  },
  {
   "cell_type": "code",
   "execution_count": 138,
   "id": "5b3c284d",
   "metadata": {},
   "outputs": [
    {
     "name": "stdout",
     "output_type": "stream",
     "text": [
      "              precision    recall  f1-score   support\n",
      "\n",
      "           0       0.97      0.69      0.81   1906323\n",
      "           1       0.76      0.98      0.86   1906322\n",
      "\n",
      "    accuracy                           0.84   3812645\n",
      "   macro avg       0.87      0.84      0.83   3812645\n",
      "weighted avg       0.87      0.84      0.83   3812645\n",
      "\n"
     ]
    }
   ],
   "source": [
    "print(classification_report(y_test, y_predict))"
   ]
  },
  {
   "cell_type": "markdown",
   "id": "15b31936",
   "metadata": {},
   "source": [
    "## I will have to find and try some other methods for balancing the data(ADASYN,ensemble focus etc) or use another model for evaluation"
   ]
  },
  {
   "cell_type": "markdown",
   "id": "e7cef735",
   "metadata": {},
   "source": [
    "This is my progress so far as of 8th june 2022\n"
   ]
  },
  {
   "cell_type": "markdown",
   "id": "ef791701",
   "metadata": {},
   "source": [
    "## ADASYN"
   ]
  },
  {
   "cell_type": "code",
   "execution_count": 7,
   "id": "10288cb1",
   "metadata": {},
   "outputs": [],
   "source": [
    "from imblearn.over_sampling import ADASYN"
   ]
  },
  {
   "cell_type": "code",
   "execution_count": 8,
   "id": "7f7ec40e",
   "metadata": {},
   "outputs": [],
   "source": [
    "ad = ADASYN()"
   ]
  },
  {
   "cell_type": "code",
   "execution_count": 9,
   "id": "abbafd7d",
   "metadata": {},
   "outputs": [],
   "source": [
    "X = df.drop(['isFraud'],axis=1)\n",
    "y = df['isFraud']"
   ]
  },
  {
   "cell_type": "code",
   "execution_count": 10,
   "id": "86abe56d",
   "metadata": {},
   "outputs": [],
   "source": [
    "from sklearn.preprocessing import LabelEncoder\n",
    "le = LabelEncoder()\n",
    "var = X.select_dtypes(include='object').columns\n",
    "for i in var:\n",
    "    X[i] = le.fit_transform(X[i])"
   ]
  },
  {
   "cell_type": "code",
   "execution_count": 11,
   "id": "740db763",
   "metadata": {},
   "outputs": [],
   "source": [
    "from sklearn.model_selection import train_test_split\n",
    "X_train , X_test , y_train , y_test = train_test_split(X,y, test_size=0.30 , random_state=672,stratify=y)"
   ]
  },
  {
   "cell_type": "code",
   "execution_count": null,
   "id": "01b58417",
   "metadata": {},
   "outputs": [],
   "source": [
    "X_train ,y_train = ad.fit_resample(X_train,y_train)"
   ]
  },
  {
   "cell_type": "markdown",
   "id": "77e67a10",
   "metadata": {},
   "source": [
    "## XGBoost (Selected Model)\n",
    "\n"
   ]
  },
  {
   "cell_type": "code",
   "execution_count": 2,
   "id": "d24a569e",
   "metadata": {},
   "outputs": [],
   "source": [
    "import xgboost as xgb"
   ]
  },
  {
   "cell_type": "code",
   "execution_count": 61,
   "id": "37fd29c0",
   "metadata": {},
   "outputs": [],
   "source": [
    "df = pd.read_csv('online_payment.csv')"
   ]
  },
  {
   "cell_type": "code",
   "execution_count": 64,
   "id": "12ed8928",
   "metadata": {},
   "outputs": [],
   "source": [
    "#df['step'] = df[\"step\"].mod(24)"
   ]
  },
  {
   "cell_type": "code",
   "execution_count": 62,
   "id": "0d8beac2",
   "metadata": {},
   "outputs": [],
   "source": [
    "del df['nameOrig']"
   ]
  },
  {
   "cell_type": "code",
   "execution_count": 63,
   "id": "e9c93f43",
   "metadata": {},
   "outputs": [],
   "source": [
    "del df['nameDest']"
   ]
  },
  {
   "cell_type": "code",
   "execution_count": 65,
   "id": "a7e45212",
   "metadata": {},
   "outputs": [],
   "source": [
    "X = df.drop(['isFraud'],axis=1)\n",
    "y = df['isFraud']"
   ]
  },
  {
   "cell_type": "code",
   "execution_count": 8,
   "id": "9ad8b76c",
   "metadata": {},
   "outputs": [],
   "source": [
    "model = xgb.XGBClassifier(tree_method='gpu_hist', gpu_id=0,learning_rate=0.5,max_depth=6,sampling_method='gradient_based',max_bin=768,min_child_weight=1,gamma=0.2)"
   ]
  },
  {
   "cell_type": "code",
   "execution_count": 9,
   "id": "597727f9",
   "metadata": {},
   "outputs": [],
   "source": [
    "from sklearn.preprocessing import LabelEncoder\n",
    "le = LabelEncoder()\n",
    "var = X.select_dtypes(include='object').columns\n",
    "for i in var:\n",
    "    X[i] = le.fit_transform(X[i])"
   ]
  },
  {
   "cell_type": "code",
   "execution_count": 10,
   "id": "bb035989",
   "metadata": {},
   "outputs": [
    {
     "data": {
      "text/plain": [
       "Index(['step', 'type', 'amount', 'oldbalanceOrg', 'newbalanceOrig',\n",
       "       'oldbalanceDest', 'newbalanceDest', 'isFlaggedFraud'],\n",
       "      dtype='object')"
      ]
     },
     "execution_count": 10,
     "metadata": {},
     "output_type": "execute_result"
    }
   ],
   "source": [
    "X.columns"
   ]
  },
  {
   "cell_type": "code",
   "execution_count": 11,
   "id": "dd45c435",
   "metadata": {},
   "outputs": [
    {
     "data": {
      "text/html": [
       "<div>\n",
       "<style scoped>\n",
       "    .dataframe tbody tr th:only-of-type {\n",
       "        vertical-align: middle;\n",
       "    }\n",
       "\n",
       "    .dataframe tbody tr th {\n",
       "        vertical-align: top;\n",
       "    }\n",
       "\n",
       "    .dataframe thead th {\n",
       "        text-align: right;\n",
       "    }\n",
       "</style>\n",
       "<table border=\"1\" class=\"dataframe\">\n",
       "  <thead>\n",
       "    <tr style=\"text-align: right;\">\n",
       "      <th></th>\n",
       "      <th>step</th>\n",
       "      <th>type</th>\n",
       "      <th>amount</th>\n",
       "      <th>oldbalanceOrg</th>\n",
       "      <th>newbalanceOrig</th>\n",
       "      <th>oldbalanceDest</th>\n",
       "      <th>newbalanceDest</th>\n",
       "      <th>isFlaggedFraud</th>\n",
       "    </tr>\n",
       "  </thead>\n",
       "  <tbody>\n",
       "    <tr>\n",
       "      <th>6362570</th>\n",
       "      <td>740</td>\n",
       "      <td>4</td>\n",
       "      <td>748139.48</td>\n",
       "      <td>748139.48</td>\n",
       "      <td>0.00</td>\n",
       "      <td>0.00</td>\n",
       "      <td>0.00</td>\n",
       "      <td>0</td>\n",
       "    </tr>\n",
       "    <tr>\n",
       "      <th>6362571</th>\n",
       "      <td>740</td>\n",
       "      <td>1</td>\n",
       "      <td>748139.48</td>\n",
       "      <td>748139.48</td>\n",
       "      <td>0.00</td>\n",
       "      <td>0.00</td>\n",
       "      <td>748139.48</td>\n",
       "      <td>0</td>\n",
       "    </tr>\n",
       "    <tr>\n",
       "      <th>6362572</th>\n",
       "      <td>740</td>\n",
       "      <td>4</td>\n",
       "      <td>1312694.50</td>\n",
       "      <td>1312694.50</td>\n",
       "      <td>0.00</td>\n",
       "      <td>0.00</td>\n",
       "      <td>0.00</td>\n",
       "      <td>0</td>\n",
       "    </tr>\n",
       "    <tr>\n",
       "      <th>6362573</th>\n",
       "      <td>740</td>\n",
       "      <td>1</td>\n",
       "      <td>1312694.50</td>\n",
       "      <td>1312694.50</td>\n",
       "      <td>0.00</td>\n",
       "      <td>0.00</td>\n",
       "      <td>1312694.50</td>\n",
       "      <td>0</td>\n",
       "    </tr>\n",
       "    <tr>\n",
       "      <th>6362574</th>\n",
       "      <td>740</td>\n",
       "      <td>4</td>\n",
       "      <td>1755647.81</td>\n",
       "      <td>1755647.81</td>\n",
       "      <td>0.00</td>\n",
       "      <td>0.00</td>\n",
       "      <td>0.00</td>\n",
       "      <td>0</td>\n",
       "    </tr>\n",
       "    <tr>\n",
       "      <th>6362575</th>\n",
       "      <td>740</td>\n",
       "      <td>1</td>\n",
       "      <td>1755647.81</td>\n",
       "      <td>1755647.81</td>\n",
       "      <td>0.00</td>\n",
       "      <td>2930014.23</td>\n",
       "      <td>4685662.04</td>\n",
       "      <td>0</td>\n",
       "    </tr>\n",
       "    <tr>\n",
       "      <th>6362576</th>\n",
       "      <td>741</td>\n",
       "      <td>4</td>\n",
       "      <td>10000000.00</td>\n",
       "      <td>45674547.89</td>\n",
       "      <td>35674547.89</td>\n",
       "      <td>0.00</td>\n",
       "      <td>0.00</td>\n",
       "      <td>0</td>\n",
       "    </tr>\n",
       "    <tr>\n",
       "      <th>6362577</th>\n",
       "      <td>741</td>\n",
       "      <td>1</td>\n",
       "      <td>10000000.00</td>\n",
       "      <td>10000000.00</td>\n",
       "      <td>0.00</td>\n",
       "      <td>0.00</td>\n",
       "      <td>10000000.00</td>\n",
       "      <td>0</td>\n",
       "    </tr>\n",
       "    <tr>\n",
       "      <th>6362578</th>\n",
       "      <td>741</td>\n",
       "      <td>4</td>\n",
       "      <td>10000000.00</td>\n",
       "      <td>35674547.89</td>\n",
       "      <td>25674547.89</td>\n",
       "      <td>0.00</td>\n",
       "      <td>0.00</td>\n",
       "      <td>0</td>\n",
       "    </tr>\n",
       "    <tr>\n",
       "      <th>6362579</th>\n",
       "      <td>741</td>\n",
       "      <td>1</td>\n",
       "      <td>10000000.00</td>\n",
       "      <td>10000000.00</td>\n",
       "      <td>0.00</td>\n",
       "      <td>35922.97</td>\n",
       "      <td>10035922.97</td>\n",
       "      <td>0</td>\n",
       "    </tr>\n",
       "    <tr>\n",
       "      <th>6362580</th>\n",
       "      <td>741</td>\n",
       "      <td>4</td>\n",
       "      <td>10000000.00</td>\n",
       "      <td>25674547.89</td>\n",
       "      <td>15674547.89</td>\n",
       "      <td>0.00</td>\n",
       "      <td>0.00</td>\n",
       "      <td>0</td>\n",
       "    </tr>\n",
       "    <tr>\n",
       "      <th>6362581</th>\n",
       "      <td>741</td>\n",
       "      <td>1</td>\n",
       "      <td>10000000.00</td>\n",
       "      <td>10000000.00</td>\n",
       "      <td>0.00</td>\n",
       "      <td>0.00</td>\n",
       "      <td>10000000.00</td>\n",
       "      <td>0</td>\n",
       "    </tr>\n",
       "    <tr>\n",
       "      <th>6362582</th>\n",
       "      <td>741</td>\n",
       "      <td>4</td>\n",
       "      <td>10000000.00</td>\n",
       "      <td>15674547.89</td>\n",
       "      <td>5674547.89</td>\n",
       "      <td>0.00</td>\n",
       "      <td>0.00</td>\n",
       "      <td>0</td>\n",
       "    </tr>\n",
       "    <tr>\n",
       "      <th>6362583</th>\n",
       "      <td>741</td>\n",
       "      <td>1</td>\n",
       "      <td>10000000.00</td>\n",
       "      <td>10000000.00</td>\n",
       "      <td>0.00</td>\n",
       "      <td>192912.98</td>\n",
       "      <td>10192912.98</td>\n",
       "      <td>0</td>\n",
       "    </tr>\n",
       "    <tr>\n",
       "      <th>6362584</th>\n",
       "      <td>741</td>\n",
       "      <td>4</td>\n",
       "      <td>5674547.89</td>\n",
       "      <td>5674547.89</td>\n",
       "      <td>5674547.89</td>\n",
       "      <td>0.00</td>\n",
       "      <td>0.00</td>\n",
       "      <td>1</td>\n",
       "    </tr>\n",
       "    <tr>\n",
       "      <th>6362585</th>\n",
       "      <td>741</td>\n",
       "      <td>1</td>\n",
       "      <td>0.00</td>\n",
       "      <td>0.00</td>\n",
       "      <td>0.00</td>\n",
       "      <td>267522.87</td>\n",
       "      <td>267522.87</td>\n",
       "      <td>0</td>\n",
       "    </tr>\n",
       "    <tr>\n",
       "      <th>6362586</th>\n",
       "      <td>741</td>\n",
       "      <td>4</td>\n",
       "      <td>62297.18</td>\n",
       "      <td>62297.18</td>\n",
       "      <td>0.00</td>\n",
       "      <td>0.00</td>\n",
       "      <td>0.00</td>\n",
       "      <td>0</td>\n",
       "    </tr>\n",
       "    <tr>\n",
       "      <th>6362587</th>\n",
       "      <td>741</td>\n",
       "      <td>1</td>\n",
       "      <td>62297.18</td>\n",
       "      <td>62297.18</td>\n",
       "      <td>0.00</td>\n",
       "      <td>1060553.11</td>\n",
       "      <td>1122850.29</td>\n",
       "      <td>0</td>\n",
       "    </tr>\n",
       "    <tr>\n",
       "      <th>6362588</th>\n",
       "      <td>741</td>\n",
       "      <td>4</td>\n",
       "      <td>114149.44</td>\n",
       "      <td>114149.44</td>\n",
       "      <td>0.00</td>\n",
       "      <td>0.00</td>\n",
       "      <td>0.00</td>\n",
       "      <td>0</td>\n",
       "    </tr>\n",
       "    <tr>\n",
       "      <th>6362589</th>\n",
       "      <td>741</td>\n",
       "      <td>1</td>\n",
       "      <td>114149.44</td>\n",
       "      <td>114149.44</td>\n",
       "      <td>0.00</td>\n",
       "      <td>0.00</td>\n",
       "      <td>114149.44</td>\n",
       "      <td>0</td>\n",
       "    </tr>\n",
       "    <tr>\n",
       "      <th>6362590</th>\n",
       "      <td>741</td>\n",
       "      <td>4</td>\n",
       "      <td>323726.61</td>\n",
       "      <td>323726.61</td>\n",
       "      <td>0.00</td>\n",
       "      <td>0.00</td>\n",
       "      <td>0.00</td>\n",
       "      <td>0</td>\n",
       "    </tr>\n",
       "    <tr>\n",
       "      <th>6362591</th>\n",
       "      <td>741</td>\n",
       "      <td>1</td>\n",
       "      <td>323726.61</td>\n",
       "      <td>323726.61</td>\n",
       "      <td>0.00</td>\n",
       "      <td>561753.58</td>\n",
       "      <td>885480.19</td>\n",
       "      <td>0</td>\n",
       "    </tr>\n",
       "    <tr>\n",
       "      <th>6362592</th>\n",
       "      <td>741</td>\n",
       "      <td>4</td>\n",
       "      <td>383661.10</td>\n",
       "      <td>383661.10</td>\n",
       "      <td>0.00</td>\n",
       "      <td>0.00</td>\n",
       "      <td>0.00</td>\n",
       "      <td>0</td>\n",
       "    </tr>\n",
       "    <tr>\n",
       "      <th>6362593</th>\n",
       "      <td>741</td>\n",
       "      <td>1</td>\n",
       "      <td>383661.10</td>\n",
       "      <td>383661.10</td>\n",
       "      <td>0.00</td>\n",
       "      <td>1788112.70</td>\n",
       "      <td>2171773.80</td>\n",
       "      <td>0</td>\n",
       "    </tr>\n",
       "    <tr>\n",
       "      <th>6362594</th>\n",
       "      <td>741</td>\n",
       "      <td>4</td>\n",
       "      <td>144945.34</td>\n",
       "      <td>144945.34</td>\n",
       "      <td>0.00</td>\n",
       "      <td>0.00</td>\n",
       "      <td>0.00</td>\n",
       "      <td>0</td>\n",
       "    </tr>\n",
       "    <tr>\n",
       "      <th>6362595</th>\n",
       "      <td>741</td>\n",
       "      <td>1</td>\n",
       "      <td>144945.34</td>\n",
       "      <td>144945.34</td>\n",
       "      <td>0.00</td>\n",
       "      <td>0.00</td>\n",
       "      <td>144945.34</td>\n",
       "      <td>0</td>\n",
       "    </tr>\n",
       "    <tr>\n",
       "      <th>6362596</th>\n",
       "      <td>741</td>\n",
       "      <td>4</td>\n",
       "      <td>48442.88</td>\n",
       "      <td>48442.88</td>\n",
       "      <td>0.00</td>\n",
       "      <td>0.00</td>\n",
       "      <td>0.00</td>\n",
       "      <td>0</td>\n",
       "    </tr>\n",
       "    <tr>\n",
       "      <th>6362597</th>\n",
       "      <td>741</td>\n",
       "      <td>1</td>\n",
       "      <td>48442.88</td>\n",
       "      <td>48442.88</td>\n",
       "      <td>0.00</td>\n",
       "      <td>513746.19</td>\n",
       "      <td>562189.07</td>\n",
       "      <td>0</td>\n",
       "    </tr>\n",
       "    <tr>\n",
       "      <th>6362598</th>\n",
       "      <td>742</td>\n",
       "      <td>4</td>\n",
       "      <td>4009058.39</td>\n",
       "      <td>4009058.39</td>\n",
       "      <td>0.00</td>\n",
       "      <td>0.00</td>\n",
       "      <td>0.00</td>\n",
       "      <td>0</td>\n",
       "    </tr>\n",
       "    <tr>\n",
       "      <th>6362599</th>\n",
       "      <td>742</td>\n",
       "      <td>1</td>\n",
       "      <td>4009058.39</td>\n",
       "      <td>4009058.39</td>\n",
       "      <td>0.00</td>\n",
       "      <td>1229761.96</td>\n",
       "      <td>5238820.34</td>\n",
       "      <td>0</td>\n",
       "    </tr>\n",
       "    <tr>\n",
       "      <th>6362600</th>\n",
       "      <td>742</td>\n",
       "      <td>4</td>\n",
       "      <td>652993.91</td>\n",
       "      <td>652993.91</td>\n",
       "      <td>0.00</td>\n",
       "      <td>0.00</td>\n",
       "      <td>0.00</td>\n",
       "      <td>0</td>\n",
       "    </tr>\n",
       "    <tr>\n",
       "      <th>6362601</th>\n",
       "      <td>742</td>\n",
       "      <td>1</td>\n",
       "      <td>652993.91</td>\n",
       "      <td>652993.91</td>\n",
       "      <td>0.00</td>\n",
       "      <td>0.00</td>\n",
       "      <td>652993.91</td>\n",
       "      <td>0</td>\n",
       "    </tr>\n",
       "    <tr>\n",
       "      <th>6362602</th>\n",
       "      <td>742</td>\n",
       "      <td>4</td>\n",
       "      <td>1819543.69</td>\n",
       "      <td>1819543.69</td>\n",
       "      <td>0.00</td>\n",
       "      <td>0.00</td>\n",
       "      <td>0.00</td>\n",
       "      <td>0</td>\n",
       "    </tr>\n",
       "    <tr>\n",
       "      <th>6362603</th>\n",
       "      <td>742</td>\n",
       "      <td>1</td>\n",
       "      <td>1819543.69</td>\n",
       "      <td>1819543.69</td>\n",
       "      <td>0.00</td>\n",
       "      <td>0.00</td>\n",
       "      <td>1819543.69</td>\n",
       "      <td>0</td>\n",
       "    </tr>\n",
       "    <tr>\n",
       "      <th>6362604</th>\n",
       "      <td>742</td>\n",
       "      <td>4</td>\n",
       "      <td>54652.46</td>\n",
       "      <td>54652.46</td>\n",
       "      <td>0.00</td>\n",
       "      <td>0.00</td>\n",
       "      <td>0.00</td>\n",
       "      <td>0</td>\n",
       "    </tr>\n",
       "    <tr>\n",
       "      <th>6362605</th>\n",
       "      <td>742</td>\n",
       "      <td>1</td>\n",
       "      <td>54652.46</td>\n",
       "      <td>54652.46</td>\n",
       "      <td>0.00</td>\n",
       "      <td>0.00</td>\n",
       "      <td>54652.46</td>\n",
       "      <td>0</td>\n",
       "    </tr>\n",
       "    <tr>\n",
       "      <th>6362606</th>\n",
       "      <td>742</td>\n",
       "      <td>4</td>\n",
       "      <td>303846.74</td>\n",
       "      <td>303846.74</td>\n",
       "      <td>0.00</td>\n",
       "      <td>0.00</td>\n",
       "      <td>0.00</td>\n",
       "      <td>0</td>\n",
       "    </tr>\n",
       "    <tr>\n",
       "      <th>6362607</th>\n",
       "      <td>742</td>\n",
       "      <td>1</td>\n",
       "      <td>303846.74</td>\n",
       "      <td>303846.74</td>\n",
       "      <td>0.00</td>\n",
       "      <td>343660.89</td>\n",
       "      <td>647507.63</td>\n",
       "      <td>0</td>\n",
       "    </tr>\n",
       "    <tr>\n",
       "      <th>6362608</th>\n",
       "      <td>742</td>\n",
       "      <td>4</td>\n",
       "      <td>258355.42</td>\n",
       "      <td>258355.42</td>\n",
       "      <td>0.00</td>\n",
       "      <td>0.00</td>\n",
       "      <td>0.00</td>\n",
       "      <td>0</td>\n",
       "    </tr>\n",
       "    <tr>\n",
       "      <th>6362609</th>\n",
       "      <td>742</td>\n",
       "      <td>1</td>\n",
       "      <td>258355.42</td>\n",
       "      <td>258355.42</td>\n",
       "      <td>0.00</td>\n",
       "      <td>25176.67</td>\n",
       "      <td>283532.09</td>\n",
       "      <td>0</td>\n",
       "    </tr>\n",
       "    <tr>\n",
       "      <th>6362610</th>\n",
       "      <td>742</td>\n",
       "      <td>4</td>\n",
       "      <td>63416.99</td>\n",
       "      <td>63416.99</td>\n",
       "      <td>0.00</td>\n",
       "      <td>0.00</td>\n",
       "      <td>0.00</td>\n",
       "      <td>0</td>\n",
       "    </tr>\n",
       "    <tr>\n",
       "      <th>6362611</th>\n",
       "      <td>742</td>\n",
       "      <td>1</td>\n",
       "      <td>63416.99</td>\n",
       "      <td>63416.99</td>\n",
       "      <td>0.00</td>\n",
       "      <td>276433.18</td>\n",
       "      <td>339850.17</td>\n",
       "      <td>0</td>\n",
       "    </tr>\n",
       "    <tr>\n",
       "      <th>6362612</th>\n",
       "      <td>743</td>\n",
       "      <td>4</td>\n",
       "      <td>1258818.82</td>\n",
       "      <td>1258818.82</td>\n",
       "      <td>0.00</td>\n",
       "      <td>0.00</td>\n",
       "      <td>0.00</td>\n",
       "      <td>0</td>\n",
       "    </tr>\n",
       "    <tr>\n",
       "      <th>6362613</th>\n",
       "      <td>743</td>\n",
       "      <td>1</td>\n",
       "      <td>1258818.82</td>\n",
       "      <td>1258818.82</td>\n",
       "      <td>0.00</td>\n",
       "      <td>503464.50</td>\n",
       "      <td>1762283.33</td>\n",
       "      <td>0</td>\n",
       "    </tr>\n",
       "    <tr>\n",
       "      <th>6362614</th>\n",
       "      <td>743</td>\n",
       "      <td>4</td>\n",
       "      <td>339682.13</td>\n",
       "      <td>339682.13</td>\n",
       "      <td>0.00</td>\n",
       "      <td>0.00</td>\n",
       "      <td>0.00</td>\n",
       "      <td>0</td>\n",
       "    </tr>\n",
       "    <tr>\n",
       "      <th>6362615</th>\n",
       "      <td>743</td>\n",
       "      <td>1</td>\n",
       "      <td>339682.13</td>\n",
       "      <td>339682.13</td>\n",
       "      <td>0.00</td>\n",
       "      <td>0.00</td>\n",
       "      <td>339682.13</td>\n",
       "      <td>0</td>\n",
       "    </tr>\n",
       "    <tr>\n",
       "      <th>6362616</th>\n",
       "      <td>743</td>\n",
       "      <td>4</td>\n",
       "      <td>6311409.28</td>\n",
       "      <td>6311409.28</td>\n",
       "      <td>0.00</td>\n",
       "      <td>0.00</td>\n",
       "      <td>0.00</td>\n",
       "      <td>0</td>\n",
       "    </tr>\n",
       "    <tr>\n",
       "      <th>6362617</th>\n",
       "      <td>743</td>\n",
       "      <td>1</td>\n",
       "      <td>6311409.28</td>\n",
       "      <td>6311409.28</td>\n",
       "      <td>0.00</td>\n",
       "      <td>68488.84</td>\n",
       "      <td>6379898.11</td>\n",
       "      <td>0</td>\n",
       "    </tr>\n",
       "    <tr>\n",
       "      <th>6362618</th>\n",
       "      <td>743</td>\n",
       "      <td>4</td>\n",
       "      <td>850002.52</td>\n",
       "      <td>850002.52</td>\n",
       "      <td>0.00</td>\n",
       "      <td>0.00</td>\n",
       "      <td>0.00</td>\n",
       "      <td>0</td>\n",
       "    </tr>\n",
       "    <tr>\n",
       "      <th>6362619</th>\n",
       "      <td>743</td>\n",
       "      <td>1</td>\n",
       "      <td>850002.52</td>\n",
       "      <td>850002.52</td>\n",
       "      <td>0.00</td>\n",
       "      <td>6510099.11</td>\n",
       "      <td>7360101.63</td>\n",
       "      <td>0</td>\n",
       "    </tr>\n",
       "  </tbody>\n",
       "</table>\n",
       "</div>"
      ],
      "text/plain": [
       "         step  type       amount  oldbalanceOrg  newbalanceOrig  \\\n",
       "6362570   740     4    748139.48      748139.48            0.00   \n",
       "6362571   740     1    748139.48      748139.48            0.00   \n",
       "6362572   740     4   1312694.50     1312694.50            0.00   \n",
       "6362573   740     1   1312694.50     1312694.50            0.00   \n",
       "6362574   740     4   1755647.81     1755647.81            0.00   \n",
       "6362575   740     1   1755647.81     1755647.81            0.00   \n",
       "6362576   741     4  10000000.00    45674547.89     35674547.89   \n",
       "6362577   741     1  10000000.00    10000000.00            0.00   \n",
       "6362578   741     4  10000000.00    35674547.89     25674547.89   \n",
       "6362579   741     1  10000000.00    10000000.00            0.00   \n",
       "6362580   741     4  10000000.00    25674547.89     15674547.89   \n",
       "6362581   741     1  10000000.00    10000000.00            0.00   \n",
       "6362582   741     4  10000000.00    15674547.89      5674547.89   \n",
       "6362583   741     1  10000000.00    10000000.00            0.00   \n",
       "6362584   741     4   5674547.89     5674547.89      5674547.89   \n",
       "6362585   741     1         0.00           0.00            0.00   \n",
       "6362586   741     4     62297.18       62297.18            0.00   \n",
       "6362587   741     1     62297.18       62297.18            0.00   \n",
       "6362588   741     4    114149.44      114149.44            0.00   \n",
       "6362589   741     1    114149.44      114149.44            0.00   \n",
       "6362590   741     4    323726.61      323726.61            0.00   \n",
       "6362591   741     1    323726.61      323726.61            0.00   \n",
       "6362592   741     4    383661.10      383661.10            0.00   \n",
       "6362593   741     1    383661.10      383661.10            0.00   \n",
       "6362594   741     4    144945.34      144945.34            0.00   \n",
       "6362595   741     1    144945.34      144945.34            0.00   \n",
       "6362596   741     4     48442.88       48442.88            0.00   \n",
       "6362597   741     1     48442.88       48442.88            0.00   \n",
       "6362598   742     4   4009058.39     4009058.39            0.00   \n",
       "6362599   742     1   4009058.39     4009058.39            0.00   \n",
       "6362600   742     4    652993.91      652993.91            0.00   \n",
       "6362601   742     1    652993.91      652993.91            0.00   \n",
       "6362602   742     4   1819543.69     1819543.69            0.00   \n",
       "6362603   742     1   1819543.69     1819543.69            0.00   \n",
       "6362604   742     4     54652.46       54652.46            0.00   \n",
       "6362605   742     1     54652.46       54652.46            0.00   \n",
       "6362606   742     4    303846.74      303846.74            0.00   \n",
       "6362607   742     1    303846.74      303846.74            0.00   \n",
       "6362608   742     4    258355.42      258355.42            0.00   \n",
       "6362609   742     1    258355.42      258355.42            0.00   \n",
       "6362610   742     4     63416.99       63416.99            0.00   \n",
       "6362611   742     1     63416.99       63416.99            0.00   \n",
       "6362612   743     4   1258818.82     1258818.82            0.00   \n",
       "6362613   743     1   1258818.82     1258818.82            0.00   \n",
       "6362614   743     4    339682.13      339682.13            0.00   \n",
       "6362615   743     1    339682.13      339682.13            0.00   \n",
       "6362616   743     4   6311409.28     6311409.28            0.00   \n",
       "6362617   743     1   6311409.28     6311409.28            0.00   \n",
       "6362618   743     4    850002.52      850002.52            0.00   \n",
       "6362619   743     1    850002.52      850002.52            0.00   \n",
       "\n",
       "         oldbalanceDest  newbalanceDest  isFlaggedFraud  \n",
       "6362570            0.00            0.00               0  \n",
       "6362571            0.00       748139.48               0  \n",
       "6362572            0.00            0.00               0  \n",
       "6362573            0.00      1312694.50               0  \n",
       "6362574            0.00            0.00               0  \n",
       "6362575      2930014.23      4685662.04               0  \n",
       "6362576            0.00            0.00               0  \n",
       "6362577            0.00     10000000.00               0  \n",
       "6362578            0.00            0.00               0  \n",
       "6362579        35922.97     10035922.97               0  \n",
       "6362580            0.00            0.00               0  \n",
       "6362581            0.00     10000000.00               0  \n",
       "6362582            0.00            0.00               0  \n",
       "6362583       192912.98     10192912.98               0  \n",
       "6362584            0.00            0.00               1  \n",
       "6362585       267522.87       267522.87               0  \n",
       "6362586            0.00            0.00               0  \n",
       "6362587      1060553.11      1122850.29               0  \n",
       "6362588            0.00            0.00               0  \n",
       "6362589            0.00       114149.44               0  \n",
       "6362590            0.00            0.00               0  \n",
       "6362591       561753.58       885480.19               0  \n",
       "6362592            0.00            0.00               0  \n",
       "6362593      1788112.70      2171773.80               0  \n",
       "6362594            0.00            0.00               0  \n",
       "6362595            0.00       144945.34               0  \n",
       "6362596            0.00            0.00               0  \n",
       "6362597       513746.19       562189.07               0  \n",
       "6362598            0.00            0.00               0  \n",
       "6362599      1229761.96      5238820.34               0  \n",
       "6362600            0.00            0.00               0  \n",
       "6362601            0.00       652993.91               0  \n",
       "6362602            0.00            0.00               0  \n",
       "6362603            0.00      1819543.69               0  \n",
       "6362604            0.00            0.00               0  \n",
       "6362605            0.00        54652.46               0  \n",
       "6362606            0.00            0.00               0  \n",
       "6362607       343660.89       647507.63               0  \n",
       "6362608            0.00            0.00               0  \n",
       "6362609        25176.67       283532.09               0  \n",
       "6362610            0.00            0.00               0  \n",
       "6362611       276433.18       339850.17               0  \n",
       "6362612            0.00            0.00               0  \n",
       "6362613       503464.50      1762283.33               0  \n",
       "6362614            0.00            0.00               0  \n",
       "6362615            0.00       339682.13               0  \n",
       "6362616            0.00            0.00               0  \n",
       "6362617        68488.84      6379898.11               0  \n",
       "6362618            0.00            0.00               0  \n",
       "6362619      6510099.11      7360101.63               0  "
      ]
     },
     "execution_count": 11,
     "metadata": {},
     "output_type": "execute_result"
    }
   ],
   "source": [
    "X.tail(50)"
   ]
  },
  {
   "cell_type": "code",
   "execution_count": 12,
   "id": "8472fc7d",
   "metadata": {},
   "outputs": [
    {
     "data": {
      "text/html": [
       "<div>\n",
       "<style scoped>\n",
       "    .dataframe tbody tr th:only-of-type {\n",
       "        vertical-align: middle;\n",
       "    }\n",
       "\n",
       "    .dataframe tbody tr th {\n",
       "        vertical-align: top;\n",
       "    }\n",
       "\n",
       "    .dataframe thead th {\n",
       "        text-align: right;\n",
       "    }\n",
       "</style>\n",
       "<table border=\"1\" class=\"dataframe\">\n",
       "  <thead>\n",
       "    <tr style=\"text-align: right;\">\n",
       "      <th></th>\n",
       "      <th>step</th>\n",
       "      <th>type</th>\n",
       "      <th>amount</th>\n",
       "      <th>oldbalanceOrg</th>\n",
       "      <th>newbalanceOrig</th>\n",
       "      <th>oldbalanceDest</th>\n",
       "      <th>newbalanceDest</th>\n",
       "      <th>isFlaggedFraud</th>\n",
       "    </tr>\n",
       "  </thead>\n",
       "  <tbody>\n",
       "    <tr>\n",
       "      <th>count</th>\n",
       "      <td>6.362620e+06</td>\n",
       "      <td>6.362620e+06</td>\n",
       "      <td>6.362620e+06</td>\n",
       "      <td>6.362620e+06</td>\n",
       "      <td>6.362620e+06</td>\n",
       "      <td>6.362620e+06</td>\n",
       "      <td>6.362620e+06</td>\n",
       "      <td>6.362620e+06</td>\n",
       "    </tr>\n",
       "    <tr>\n",
       "      <th>mean</th>\n",
       "      <td>2.433972e+02</td>\n",
       "      <td>1.714150e+00</td>\n",
       "      <td>1.798619e+05</td>\n",
       "      <td>8.338831e+05</td>\n",
       "      <td>8.551137e+05</td>\n",
       "      <td>1.100702e+06</td>\n",
       "      <td>1.224996e+06</td>\n",
       "      <td>2.514687e-06</td>\n",
       "    </tr>\n",
       "    <tr>\n",
       "      <th>std</th>\n",
       "      <td>1.423320e+02</td>\n",
       "      <td>1.350117e+00</td>\n",
       "      <td>6.038582e+05</td>\n",
       "      <td>2.888243e+06</td>\n",
       "      <td>2.924049e+06</td>\n",
       "      <td>3.399180e+06</td>\n",
       "      <td>3.674129e+06</td>\n",
       "      <td>1.585775e-03</td>\n",
       "    </tr>\n",
       "    <tr>\n",
       "      <th>min</th>\n",
       "      <td>1.000000e+00</td>\n",
       "      <td>0.000000e+00</td>\n",
       "      <td>0.000000e+00</td>\n",
       "      <td>0.000000e+00</td>\n",
       "      <td>0.000000e+00</td>\n",
       "      <td>0.000000e+00</td>\n",
       "      <td>0.000000e+00</td>\n",
       "      <td>0.000000e+00</td>\n",
       "    </tr>\n",
       "    <tr>\n",
       "      <th>25%</th>\n",
       "      <td>1.560000e+02</td>\n",
       "      <td>1.000000e+00</td>\n",
       "      <td>1.338957e+04</td>\n",
       "      <td>0.000000e+00</td>\n",
       "      <td>0.000000e+00</td>\n",
       "      <td>0.000000e+00</td>\n",
       "      <td>0.000000e+00</td>\n",
       "      <td>0.000000e+00</td>\n",
       "    </tr>\n",
       "    <tr>\n",
       "      <th>50%</th>\n",
       "      <td>2.390000e+02</td>\n",
       "      <td>1.000000e+00</td>\n",
       "      <td>7.487194e+04</td>\n",
       "      <td>1.420800e+04</td>\n",
       "      <td>0.000000e+00</td>\n",
       "      <td>1.327057e+05</td>\n",
       "      <td>2.146614e+05</td>\n",
       "      <td>0.000000e+00</td>\n",
       "    </tr>\n",
       "    <tr>\n",
       "      <th>75%</th>\n",
       "      <td>3.350000e+02</td>\n",
       "      <td>3.000000e+00</td>\n",
       "      <td>2.087215e+05</td>\n",
       "      <td>1.073152e+05</td>\n",
       "      <td>1.442584e+05</td>\n",
       "      <td>9.430367e+05</td>\n",
       "      <td>1.111909e+06</td>\n",
       "      <td>0.000000e+00</td>\n",
       "    </tr>\n",
       "    <tr>\n",
       "      <th>max</th>\n",
       "      <td>7.430000e+02</td>\n",
       "      <td>4.000000e+00</td>\n",
       "      <td>9.244552e+07</td>\n",
       "      <td>5.958504e+07</td>\n",
       "      <td>4.958504e+07</td>\n",
       "      <td>3.560159e+08</td>\n",
       "      <td>3.561793e+08</td>\n",
       "      <td>1.000000e+00</td>\n",
       "    </tr>\n",
       "  </tbody>\n",
       "</table>\n",
       "</div>"
      ],
      "text/plain": [
       "               step          type        amount  oldbalanceOrg  \\\n",
       "count  6.362620e+06  6.362620e+06  6.362620e+06   6.362620e+06   \n",
       "mean   2.433972e+02  1.714150e+00  1.798619e+05   8.338831e+05   \n",
       "std    1.423320e+02  1.350117e+00  6.038582e+05   2.888243e+06   \n",
       "min    1.000000e+00  0.000000e+00  0.000000e+00   0.000000e+00   \n",
       "25%    1.560000e+02  1.000000e+00  1.338957e+04   0.000000e+00   \n",
       "50%    2.390000e+02  1.000000e+00  7.487194e+04   1.420800e+04   \n",
       "75%    3.350000e+02  3.000000e+00  2.087215e+05   1.073152e+05   \n",
       "max    7.430000e+02  4.000000e+00  9.244552e+07   5.958504e+07   \n",
       "\n",
       "       newbalanceOrig  oldbalanceDest  newbalanceDest  isFlaggedFraud  \n",
       "count    6.362620e+06    6.362620e+06    6.362620e+06    6.362620e+06  \n",
       "mean     8.551137e+05    1.100702e+06    1.224996e+06    2.514687e-06  \n",
       "std      2.924049e+06    3.399180e+06    3.674129e+06    1.585775e-03  \n",
       "min      0.000000e+00    0.000000e+00    0.000000e+00    0.000000e+00  \n",
       "25%      0.000000e+00    0.000000e+00    0.000000e+00    0.000000e+00  \n",
       "50%      0.000000e+00    1.327057e+05    2.146614e+05    0.000000e+00  \n",
       "75%      1.442584e+05    9.430367e+05    1.111909e+06    0.000000e+00  \n",
       "max      4.958504e+07    3.560159e+08    3.561793e+08    1.000000e+00  "
      ]
     },
     "execution_count": 12,
     "metadata": {},
     "output_type": "execute_result"
    }
   ],
   "source": [
    "X.describe()"
   ]
  },
  {
   "cell_type": "code",
   "execution_count": 13,
   "id": "8ef74840",
   "metadata": {},
   "outputs": [],
   "source": [
    "from sklearn.model_selection import train_test_split"
   ]
  },
  {
   "cell_type": "code",
   "execution_count": 14,
   "id": "a79ea91c",
   "metadata": {},
   "outputs": [],
   "source": [
    "X_train , X_test , y_train , y_test = train_test_split(X,y, test_size=0.30 , random_state=672,stratify=y)"
   ]
  },
  {
   "cell_type": "code",
   "execution_count": 15,
   "id": "1ef894d1",
   "metadata": {},
   "outputs": [
    {
     "data": {
      "text/html": [
       "<style>#sk-container-id-1 {color: black;background-color: white;}#sk-container-id-1 pre{padding: 0;}#sk-container-id-1 div.sk-toggleable {background-color: white;}#sk-container-id-1 label.sk-toggleable__label {cursor: pointer;display: block;width: 100%;margin-bottom: 0;padding: 0.3em;box-sizing: border-box;text-align: center;}#sk-container-id-1 label.sk-toggleable__label-arrow:before {content: \"▸\";float: left;margin-right: 0.25em;color: #696969;}#sk-container-id-1 label.sk-toggleable__label-arrow:hover:before {color: black;}#sk-container-id-1 div.sk-estimator:hover label.sk-toggleable__label-arrow:before {color: black;}#sk-container-id-1 div.sk-toggleable__content {max-height: 0;max-width: 0;overflow: hidden;text-align: left;background-color: #f0f8ff;}#sk-container-id-1 div.sk-toggleable__content pre {margin: 0.2em;color: black;border-radius: 0.25em;background-color: #f0f8ff;}#sk-container-id-1 input.sk-toggleable__control:checked~div.sk-toggleable__content {max-height: 200px;max-width: 100%;overflow: auto;}#sk-container-id-1 input.sk-toggleable__control:checked~label.sk-toggleable__label-arrow:before {content: \"▾\";}#sk-container-id-1 div.sk-estimator input.sk-toggleable__control:checked~label.sk-toggleable__label {background-color: #d4ebff;}#sk-container-id-1 div.sk-label input.sk-toggleable__control:checked~label.sk-toggleable__label {background-color: #d4ebff;}#sk-container-id-1 input.sk-hidden--visually {border: 0;clip: rect(1px 1px 1px 1px);clip: rect(1px, 1px, 1px, 1px);height: 1px;margin: -1px;overflow: hidden;padding: 0;position: absolute;width: 1px;}#sk-container-id-1 div.sk-estimator {font-family: monospace;background-color: #f0f8ff;border: 1px dotted black;border-radius: 0.25em;box-sizing: border-box;margin-bottom: 0.5em;}#sk-container-id-1 div.sk-estimator:hover {background-color: #d4ebff;}#sk-container-id-1 div.sk-parallel-item::after {content: \"\";width: 100%;border-bottom: 1px solid gray;flex-grow: 1;}#sk-container-id-1 div.sk-label:hover label.sk-toggleable__label {background-color: #d4ebff;}#sk-container-id-1 div.sk-serial::before {content: \"\";position: absolute;border-left: 1px solid gray;box-sizing: border-box;top: 0;bottom: 0;left: 50%;z-index: 0;}#sk-container-id-1 div.sk-serial {display: flex;flex-direction: column;align-items: center;background-color: white;padding-right: 0.2em;padding-left: 0.2em;position: relative;}#sk-container-id-1 div.sk-item {position: relative;z-index: 1;}#sk-container-id-1 div.sk-parallel {display: flex;align-items: stretch;justify-content: center;background-color: white;position: relative;}#sk-container-id-1 div.sk-item::before, #sk-container-id-1 div.sk-parallel-item::before {content: \"\";position: absolute;border-left: 1px solid gray;box-sizing: border-box;top: 0;bottom: 0;left: 50%;z-index: -1;}#sk-container-id-1 div.sk-parallel-item {display: flex;flex-direction: column;z-index: 1;position: relative;background-color: white;}#sk-container-id-1 div.sk-parallel-item:first-child::after {align-self: flex-end;width: 50%;}#sk-container-id-1 div.sk-parallel-item:last-child::after {align-self: flex-start;width: 50%;}#sk-container-id-1 div.sk-parallel-item:only-child::after {width: 0;}#sk-container-id-1 div.sk-dashed-wrapped {border: 1px dashed gray;margin: 0 0.4em 0.5em 0.4em;box-sizing: border-box;padding-bottom: 0.4em;background-color: white;}#sk-container-id-1 div.sk-label label {font-family: monospace;font-weight: bold;display: inline-block;line-height: 1.2em;}#sk-container-id-1 div.sk-label-container {text-align: center;}#sk-container-id-1 div.sk-container {/* jupyter's `normalize.less` sets `[hidden] { display: none; }` but bootstrap.min.css set `[hidden] { display: none !important; }` so we also need the `!important` here to be able to override the default hidden behavior on the sphinx rendered scikit-learn.org. See: https://github.com/scikit-learn/scikit-learn/issues/21755 */display: inline-block !important;position: relative;}#sk-container-id-1 div.sk-text-repr-fallback {display: none;}</style><div id=\"sk-container-id-1\" class=\"sk-top-container\"><div class=\"sk-text-repr-fallback\"><pre>XGBClassifier(base_score=0.5, booster=&#x27;gbtree&#x27;, callbacks=None,\n",
       "              colsample_bylevel=1, colsample_bynode=1, colsample_bytree=1,\n",
       "              early_stopping_rounds=None, enable_categorical=False,\n",
       "              eval_metric=None, gamma=0.2, gpu_id=0, grow_policy=&#x27;depthwise&#x27;,\n",
       "              importance_type=None, interaction_constraints=&#x27;&#x27;,\n",
       "              learning_rate=0.5, max_bin=768, max_cat_to_onehot=4,\n",
       "              max_delta_step=0, max_depth=6, max_leaves=0, min_child_weight=1,\n",
       "              missing=nan, monotone_constraints=&#x27;()&#x27;, n_estimators=100,\n",
       "              n_jobs=0, num_parallel_tree=1, predictor=&#x27;auto&#x27;, random_state=0,\n",
       "              reg_alpha=0, reg_lambda=1, ...)</pre><b>In a Jupyter environment, please rerun this cell to show the HTML representation or trust the notebook. <br />On GitHub, the HTML representation is unable to render, please try loading this page with nbviewer.org.</b></div><div class=\"sk-container\" hidden><div class=\"sk-item\"><div class=\"sk-estimator sk-toggleable\"><input class=\"sk-toggleable__control sk-hidden--visually\" id=\"sk-estimator-id-1\" type=\"checkbox\" checked><label for=\"sk-estimator-id-1\" class=\"sk-toggleable__label sk-toggleable__label-arrow\">XGBClassifier</label><div class=\"sk-toggleable__content\"><pre>XGBClassifier(base_score=0.5, booster=&#x27;gbtree&#x27;, callbacks=None,\n",
       "              colsample_bylevel=1, colsample_bynode=1, colsample_bytree=1,\n",
       "              early_stopping_rounds=None, enable_categorical=False,\n",
       "              eval_metric=None, gamma=0.2, gpu_id=0, grow_policy=&#x27;depthwise&#x27;,\n",
       "              importance_type=None, interaction_constraints=&#x27;&#x27;,\n",
       "              learning_rate=0.5, max_bin=768, max_cat_to_onehot=4,\n",
       "              max_delta_step=0, max_depth=6, max_leaves=0, min_child_weight=1,\n",
       "              missing=nan, monotone_constraints=&#x27;()&#x27;, n_estimators=100,\n",
       "              n_jobs=0, num_parallel_tree=1, predictor=&#x27;auto&#x27;, random_state=0,\n",
       "              reg_alpha=0, reg_lambda=1, ...)</pre></div></div></div></div></div>"
      ],
      "text/plain": [
       "XGBClassifier(base_score=0.5, booster='gbtree', callbacks=None,\n",
       "              colsample_bylevel=1, colsample_bynode=1, colsample_bytree=1,\n",
       "              early_stopping_rounds=None, enable_categorical=False,\n",
       "              eval_metric=None, gamma=0.2, gpu_id=0, grow_policy='depthwise',\n",
       "              importance_type=None, interaction_constraints='',\n",
       "              learning_rate=0.5, max_bin=768, max_cat_to_onehot=4,\n",
       "              max_delta_step=0, max_depth=6, max_leaves=0, min_child_weight=1,\n",
       "              missing=nan, monotone_constraints='()', n_estimators=100,\n",
       "              n_jobs=0, num_parallel_tree=1, predictor='auto', random_state=0,\n",
       "              reg_alpha=0, reg_lambda=1, ...)"
      ]
     },
     "execution_count": 15,
     "metadata": {},
     "output_type": "execute_result"
    }
   ],
   "source": [
    "model.fit(X_train, y_train)"
   ]
  },
  {
   "cell_type": "code",
   "execution_count": 16,
   "id": "32419597",
   "metadata": {},
   "outputs": [],
   "source": [
    "y_pred = model.predict(X_test)"
   ]
  },
  {
   "cell_type": "code",
   "execution_count": 17,
   "id": "1abed4af",
   "metadata": {},
   "outputs": [],
   "source": [
    "from sklearn.metrics import classification_report, confusion_matrix"
   ]
  },
  {
   "cell_type": "code",
   "execution_count": 18,
   "id": "12b37cd8",
   "metadata": {},
   "outputs": [
    {
     "name": "stdout",
     "output_type": "stream",
     "text": [
      "              precision    recall  f1-score   support\n",
      "\n",
      "           0       1.00      1.00      1.00   1906322\n",
      "           1       0.97      0.89      0.93      2464\n",
      "\n",
      "    accuracy                           1.00   1908786\n",
      "   macro avg       0.98      0.94      0.96   1908786\n",
      "weighted avg       1.00      1.00      1.00   1908786\n",
      "\n"
     ]
    }
   ],
   "source": [
    "print(classification_report(y_test, y_pred))"
   ]
  },
  {
   "cell_type": "code",
   "execution_count": 19,
   "id": "066356a3",
   "metadata": {},
   "outputs": [
    {
     "name": "stdout",
     "output_type": "stream",
     "text": [
      "[[1906252      70]\n",
      " [    279    2185]]\n"
     ]
    }
   ],
   "source": [
    "print(confusion_matrix(y_test, y_pred))"
   ]
  },
  {
   "cell_type": "code",
   "execution_count": 20,
   "id": "19a39658",
   "metadata": {},
   "outputs": [
    {
     "name": "stdout",
     "output_type": "stream",
     "text": [
      "Train Accuracy:  0.9999250084309383\n",
      "Test Accuracy:  0.999817161274234\n"
     ]
    }
   ],
   "source": [
    "print(\"Train Accuracy: \",model.score(X_train,y_train))\n",
    "print(\"Test Accuracy: \",model.score(X_test,y_test))"
   ]
  },
  {
   "cell_type": "markdown",
   "id": "0957d3ab",
   "metadata": {},
   "source": [
    "## KNN(Model)"
   ]
  },
  {
   "cell_type": "code",
   "execution_count": 67,
   "id": "2ad7ad93",
   "metadata": {},
   "outputs": [],
   "source": [
    "from sklearn.neighbors import KNeighborsClassifier"
   ]
  },
  {
   "cell_type": "code",
   "execution_count": 68,
   "id": "a4a67095",
   "metadata": {},
   "outputs": [],
   "source": [
    "KNN = KNeighborsClassifier()"
   ]
  },
  {
   "cell_type": "code",
   "execution_count": 69,
   "id": "34bbedc8",
   "metadata": {},
   "outputs": [
    {
     "data": {
      "text/html": [
       "<style>#sk-container-id-2 {color: black;background-color: white;}#sk-container-id-2 pre{padding: 0;}#sk-container-id-2 div.sk-toggleable {background-color: white;}#sk-container-id-2 label.sk-toggleable__label {cursor: pointer;display: block;width: 100%;margin-bottom: 0;padding: 0.3em;box-sizing: border-box;text-align: center;}#sk-container-id-2 label.sk-toggleable__label-arrow:before {content: \"▸\";float: left;margin-right: 0.25em;color: #696969;}#sk-container-id-2 label.sk-toggleable__label-arrow:hover:before {color: black;}#sk-container-id-2 div.sk-estimator:hover label.sk-toggleable__label-arrow:before {color: black;}#sk-container-id-2 div.sk-toggleable__content {max-height: 0;max-width: 0;overflow: hidden;text-align: left;background-color: #f0f8ff;}#sk-container-id-2 div.sk-toggleable__content pre {margin: 0.2em;color: black;border-radius: 0.25em;background-color: #f0f8ff;}#sk-container-id-2 input.sk-toggleable__control:checked~div.sk-toggleable__content {max-height: 200px;max-width: 100%;overflow: auto;}#sk-container-id-2 input.sk-toggleable__control:checked~label.sk-toggleable__label-arrow:before {content: \"▾\";}#sk-container-id-2 div.sk-estimator input.sk-toggleable__control:checked~label.sk-toggleable__label {background-color: #d4ebff;}#sk-container-id-2 div.sk-label input.sk-toggleable__control:checked~label.sk-toggleable__label {background-color: #d4ebff;}#sk-container-id-2 input.sk-hidden--visually {border: 0;clip: rect(1px 1px 1px 1px);clip: rect(1px, 1px, 1px, 1px);height: 1px;margin: -1px;overflow: hidden;padding: 0;position: absolute;width: 1px;}#sk-container-id-2 div.sk-estimator {font-family: monospace;background-color: #f0f8ff;border: 1px dotted black;border-radius: 0.25em;box-sizing: border-box;margin-bottom: 0.5em;}#sk-container-id-2 div.sk-estimator:hover {background-color: #d4ebff;}#sk-container-id-2 div.sk-parallel-item::after {content: \"\";width: 100%;border-bottom: 1px solid gray;flex-grow: 1;}#sk-container-id-2 div.sk-label:hover label.sk-toggleable__label {background-color: #d4ebff;}#sk-container-id-2 div.sk-serial::before {content: \"\";position: absolute;border-left: 1px solid gray;box-sizing: border-box;top: 0;bottom: 0;left: 50%;z-index: 0;}#sk-container-id-2 div.sk-serial {display: flex;flex-direction: column;align-items: center;background-color: white;padding-right: 0.2em;padding-left: 0.2em;position: relative;}#sk-container-id-2 div.sk-item {position: relative;z-index: 1;}#sk-container-id-2 div.sk-parallel {display: flex;align-items: stretch;justify-content: center;background-color: white;position: relative;}#sk-container-id-2 div.sk-item::before, #sk-container-id-2 div.sk-parallel-item::before {content: \"\";position: absolute;border-left: 1px solid gray;box-sizing: border-box;top: 0;bottom: 0;left: 50%;z-index: -1;}#sk-container-id-2 div.sk-parallel-item {display: flex;flex-direction: column;z-index: 1;position: relative;background-color: white;}#sk-container-id-2 div.sk-parallel-item:first-child::after {align-self: flex-end;width: 50%;}#sk-container-id-2 div.sk-parallel-item:last-child::after {align-self: flex-start;width: 50%;}#sk-container-id-2 div.sk-parallel-item:only-child::after {width: 0;}#sk-container-id-2 div.sk-dashed-wrapped {border: 1px dashed gray;margin: 0 0.4em 0.5em 0.4em;box-sizing: border-box;padding-bottom: 0.4em;background-color: white;}#sk-container-id-2 div.sk-label label {font-family: monospace;font-weight: bold;display: inline-block;line-height: 1.2em;}#sk-container-id-2 div.sk-label-container {text-align: center;}#sk-container-id-2 div.sk-container {/* jupyter's `normalize.less` sets `[hidden] { display: none; }` but bootstrap.min.css set `[hidden] { display: none !important; }` so we also need the `!important` here to be able to override the default hidden behavior on the sphinx rendered scikit-learn.org. See: https://github.com/scikit-learn/scikit-learn/issues/21755 */display: inline-block !important;position: relative;}#sk-container-id-2 div.sk-text-repr-fallback {display: none;}</style><div id=\"sk-container-id-2\" class=\"sk-top-container\"><div class=\"sk-text-repr-fallback\"><pre>KNeighborsClassifier()</pre><b>In a Jupyter environment, please rerun this cell to show the HTML representation or trust the notebook. <br />On GitHub, the HTML representation is unable to render, please try loading this page with nbviewer.org.</b></div><div class=\"sk-container\" hidden><div class=\"sk-item\"><div class=\"sk-estimator sk-toggleable\"><input class=\"sk-toggleable__control sk-hidden--visually\" id=\"sk-estimator-id-2\" type=\"checkbox\" checked><label for=\"sk-estimator-id-2\" class=\"sk-toggleable__label sk-toggleable__label-arrow\">KNeighborsClassifier</label><div class=\"sk-toggleable__content\"><pre>KNeighborsClassifier()</pre></div></div></div></div></div>"
      ],
      "text/plain": [
       "KNeighborsClassifier()"
      ]
     },
     "execution_count": 69,
     "metadata": {},
     "output_type": "execute_result"
    }
   ],
   "source": [
    "KNN.fit(X_train,y_train)"
   ]
  },
  {
   "cell_type": "code",
   "execution_count": 70,
   "id": "5db0fd69",
   "metadata": {},
   "outputs": [],
   "source": [
    "y_pred_KNN = KNN.predict(X_test)"
   ]
  },
  {
   "cell_type": "code",
   "execution_count": 71,
   "id": "9684faaa",
   "metadata": {},
   "outputs": [
    {
     "name": "stdout",
     "output_type": "stream",
     "text": [
      "              precision    recall  f1-score   support\n",
      "\n",
      "           0       1.00      1.00      1.00   1906322\n",
      "           1       0.87      0.68      0.76      2464\n",
      "\n",
      "    accuracy                           1.00   1908786\n",
      "   macro avg       0.93      0.84      0.88   1908786\n",
      "weighted avg       1.00      1.00      1.00   1908786\n",
      "\n"
     ]
    }
   ],
   "source": [
    "print(classification_report(y_test, y_pred_KNN))"
   ]
  },
  {
   "cell_type": "code",
   "execution_count": 72,
   "id": "907c943a",
   "metadata": {},
   "outputs": [
    {
     "name": "stdout",
     "output_type": "stream",
     "text": [
      "[[1906065     257]\n",
      " [    800    1664]]\n"
     ]
    }
   ],
   "source": [
    "print(confusion_matrix(y_test, y_pred_KNN))"
   ]
  },
  {
   "cell_type": "code",
   "execution_count": 73,
   "id": "549d8277",
   "metadata": {},
   "outputs": [
    {
     "name": "stdout",
     "output_type": "stream",
     "text": [
      "Train Accuracy:  0.9995552146757154\n",
      "Test Accuracy:  0.9994462448907316\n"
     ]
    }
   ],
   "source": [
    "print(\"Train Accuracy: \",KNN.score(X_train,y_train))\n",
    "print(\"Test Accuracy: \",KNN.score(X_test,y_test))"
   ]
  },
  {
   "cell_type": "markdown",
   "id": "ce1c9f15",
   "metadata": {},
   "source": [
    "## Logistic Regression(Model)"
   ]
  },
  {
   "cell_type": "code",
   "execution_count": 74,
   "id": "4c7c7bc5",
   "metadata": {},
   "outputs": [],
   "source": [
    "from sklearn.linear_model import LogisticRegression\n",
    "LR = LogisticRegression()"
   ]
  },
  {
   "cell_type": "code",
   "execution_count": 75,
   "id": "08288f23",
   "metadata": {},
   "outputs": [
    {
     "data": {
      "text/html": [
       "<style>#sk-container-id-3 {color: black;background-color: white;}#sk-container-id-3 pre{padding: 0;}#sk-container-id-3 div.sk-toggleable {background-color: white;}#sk-container-id-3 label.sk-toggleable__label {cursor: pointer;display: block;width: 100%;margin-bottom: 0;padding: 0.3em;box-sizing: border-box;text-align: center;}#sk-container-id-3 label.sk-toggleable__label-arrow:before {content: \"▸\";float: left;margin-right: 0.25em;color: #696969;}#sk-container-id-3 label.sk-toggleable__label-arrow:hover:before {color: black;}#sk-container-id-3 div.sk-estimator:hover label.sk-toggleable__label-arrow:before {color: black;}#sk-container-id-3 div.sk-toggleable__content {max-height: 0;max-width: 0;overflow: hidden;text-align: left;background-color: #f0f8ff;}#sk-container-id-3 div.sk-toggleable__content pre {margin: 0.2em;color: black;border-radius: 0.25em;background-color: #f0f8ff;}#sk-container-id-3 input.sk-toggleable__control:checked~div.sk-toggleable__content {max-height: 200px;max-width: 100%;overflow: auto;}#sk-container-id-3 input.sk-toggleable__control:checked~label.sk-toggleable__label-arrow:before {content: \"▾\";}#sk-container-id-3 div.sk-estimator input.sk-toggleable__control:checked~label.sk-toggleable__label {background-color: #d4ebff;}#sk-container-id-3 div.sk-label input.sk-toggleable__control:checked~label.sk-toggleable__label {background-color: #d4ebff;}#sk-container-id-3 input.sk-hidden--visually {border: 0;clip: rect(1px 1px 1px 1px);clip: rect(1px, 1px, 1px, 1px);height: 1px;margin: -1px;overflow: hidden;padding: 0;position: absolute;width: 1px;}#sk-container-id-3 div.sk-estimator {font-family: monospace;background-color: #f0f8ff;border: 1px dotted black;border-radius: 0.25em;box-sizing: border-box;margin-bottom: 0.5em;}#sk-container-id-3 div.sk-estimator:hover {background-color: #d4ebff;}#sk-container-id-3 div.sk-parallel-item::after {content: \"\";width: 100%;border-bottom: 1px solid gray;flex-grow: 1;}#sk-container-id-3 div.sk-label:hover label.sk-toggleable__label {background-color: #d4ebff;}#sk-container-id-3 div.sk-serial::before {content: \"\";position: absolute;border-left: 1px solid gray;box-sizing: border-box;top: 0;bottom: 0;left: 50%;z-index: 0;}#sk-container-id-3 div.sk-serial {display: flex;flex-direction: column;align-items: center;background-color: white;padding-right: 0.2em;padding-left: 0.2em;position: relative;}#sk-container-id-3 div.sk-item {position: relative;z-index: 1;}#sk-container-id-3 div.sk-parallel {display: flex;align-items: stretch;justify-content: center;background-color: white;position: relative;}#sk-container-id-3 div.sk-item::before, #sk-container-id-3 div.sk-parallel-item::before {content: \"\";position: absolute;border-left: 1px solid gray;box-sizing: border-box;top: 0;bottom: 0;left: 50%;z-index: -1;}#sk-container-id-3 div.sk-parallel-item {display: flex;flex-direction: column;z-index: 1;position: relative;background-color: white;}#sk-container-id-3 div.sk-parallel-item:first-child::after {align-self: flex-end;width: 50%;}#sk-container-id-3 div.sk-parallel-item:last-child::after {align-self: flex-start;width: 50%;}#sk-container-id-3 div.sk-parallel-item:only-child::after {width: 0;}#sk-container-id-3 div.sk-dashed-wrapped {border: 1px dashed gray;margin: 0 0.4em 0.5em 0.4em;box-sizing: border-box;padding-bottom: 0.4em;background-color: white;}#sk-container-id-3 div.sk-label label {font-family: monospace;font-weight: bold;display: inline-block;line-height: 1.2em;}#sk-container-id-3 div.sk-label-container {text-align: center;}#sk-container-id-3 div.sk-container {/* jupyter's `normalize.less` sets `[hidden] { display: none; }` but bootstrap.min.css set `[hidden] { display: none !important; }` so we also need the `!important` here to be able to override the default hidden behavior on the sphinx rendered scikit-learn.org. See: https://github.com/scikit-learn/scikit-learn/issues/21755 */display: inline-block !important;position: relative;}#sk-container-id-3 div.sk-text-repr-fallback {display: none;}</style><div id=\"sk-container-id-3\" class=\"sk-top-container\"><div class=\"sk-text-repr-fallback\"><pre>LogisticRegression()</pre><b>In a Jupyter environment, please rerun this cell to show the HTML representation or trust the notebook. <br />On GitHub, the HTML representation is unable to render, please try loading this page with nbviewer.org.</b></div><div class=\"sk-container\" hidden><div class=\"sk-item\"><div class=\"sk-estimator sk-toggleable\"><input class=\"sk-toggleable__control sk-hidden--visually\" id=\"sk-estimator-id-3\" type=\"checkbox\" checked><label for=\"sk-estimator-id-3\" class=\"sk-toggleable__label sk-toggleable__label-arrow\">LogisticRegression</label><div class=\"sk-toggleable__content\"><pre>LogisticRegression()</pre></div></div></div></div></div>"
      ],
      "text/plain": [
       "LogisticRegression()"
      ]
     },
     "execution_count": 75,
     "metadata": {},
     "output_type": "execute_result"
    }
   ],
   "source": [
    "LR.fit(X_train,y_train)"
   ]
  },
  {
   "cell_type": "code",
   "execution_count": 76,
   "id": "309a9ff5",
   "metadata": {},
   "outputs": [],
   "source": [
    "y_pred_LR = LR.predict(X_test)"
   ]
  },
  {
   "cell_type": "code",
   "execution_count": 79,
   "id": "1c1ac1ce",
   "metadata": {},
   "outputs": [
    {
     "name": "stdout",
     "output_type": "stream",
     "text": [
      "              precision    recall  f1-score   support\n",
      "\n",
      "           0       1.00      1.00      1.00   1906322\n",
      "           1       0.34      0.43      0.38      2464\n",
      "\n",
      "    accuracy                           1.00   1908786\n",
      "   macro avg       0.67      0.71      0.69   1908786\n",
      "weighted avg       1.00      1.00      1.00   1908786\n",
      "\n"
     ]
    }
   ],
   "source": [
    "print(classification_report(y_test, y_pred_LR))"
   ]
  },
  {
   "cell_type": "code",
   "execution_count": 77,
   "id": "3efd7f6b",
   "metadata": {},
   "outputs": [
    {
     "name": "stdout",
     "output_type": "stream",
     "text": [
      "[[1904291    2031]\n",
      " [   1416    1048]]\n"
     ]
    }
   ],
   "source": [
    "print(confusion_matrix(y_test, y_pred_LR))"
   ]
  },
  {
   "cell_type": "code",
   "execution_count": 78,
   "id": "e2536021",
   "metadata": {},
   "outputs": [
    {
     "name": "stdout",
     "output_type": "stream",
     "text": [
      "Train Accuracy:  0.998262171423542\n",
      "Test Accuracy:  0.9981941401498124\n"
     ]
    }
   ],
   "source": [
    "print(\"Train Accuracy: \",LR.score(X_train,y_train))\n",
    "print(\"Test Accuracy: \",LR.score(X_test,y_test))"
   ]
  },
  {
   "cell_type": "code",
   "execution_count": null,
   "id": "7c5095b9",
   "metadata": {},
   "outputs": [],
   "source": []
  }
 ],
 "metadata": {
  "kernelspec": {
   "display_name": "Python 3 (ipykernel)",
   "language": "python",
   "name": "python3"
  },
  "language_info": {
   "codemirror_mode": {
    "name": "ipython",
    "version": 3
   },
   "file_extension": ".py",
   "mimetype": "text/x-python",
   "name": "python",
   "nbconvert_exporter": "python",
   "pygments_lexer": "ipython3",
   "version": "3.9.12"
  }
 },
 "nbformat": 4,
 "nbformat_minor": 5
}
